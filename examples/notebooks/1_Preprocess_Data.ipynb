{
 "cells": [
  {
   "cell_type": "markdown",
   "id": "e770c730-278a-48ec-a474-b413b1634ea9",
   "metadata": {},
   "source": [
    "# Preprocess Data"
   ]
  },
  {
   "cell_type": "code",
   "execution_count": 4,
   "id": "b6129bea-4549-480a-911c-0e039a097627",
   "metadata": {},
   "outputs": [],
   "source": [
    "rfams = [\"RF00163\",\"RF02271\",\"RF00906\",\"RF00097\",\"RF00001\"]\n",
    "threshold = 300"
   ]
  },
  {
   "cell_type": "code",
   "execution_count": null,
   "id": "f5ca2d35-2bc7-44c3-a509-4de2907efdb5",
   "metadata": {},
   "outputs": [],
   "source": [
    "for rfam in rfams:\n",
    "    !python ../../scripts/fold_to_tfrecord.py -base example_data/rfam_14.08_sample -rfam {rfam} -tresh {threshold}"
   ]
  }
 ],
 "metadata": {
  "kernelspec": {
   "display_name": "fold",
   "language": "python",
   "name": "fold"
  },
  "language_info": {
   "codemirror_mode": {
    "name": "ipython",
    "version": 3
   },
   "file_extension": ".py",
   "mimetype": "text/x-python",
   "name": "python",
   "nbconvert_exporter": "python",
   "pygments_lexer": "ipython3",
   "version": "3.7.16"
  }
 },
 "nbformat": 4,
 "nbformat_minor": 5
}
