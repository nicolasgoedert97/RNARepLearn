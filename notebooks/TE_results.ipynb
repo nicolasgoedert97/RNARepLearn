{
 "cells": [
  {
   "cell_type": "code",
   "execution_count": 3,
   "id": "dae9d2fe-10ee-4921-8eb3-12dd6d7f4ecb",
   "metadata": {},
   "outputs": [],
   "source": [
    "import os"
   ]
  },
  {
   "cell_type": "code",
   "execution_count": 6,
   "id": "946ff372-d727-44a9-b80a-6de0d1d8675f",
   "metadata": {},
   "outputs": [],
   "source": [
    "result_path = \"/lustre/groups/crna01/workspace/nicolas_msc/slurm/runs/TE_with_PreTrain\"\n",
    "runs = os.listdir(result_path)"
   ]
  },
  {
   "cell_type": "code",
   "execution_count": 7,
   "id": "51a20396-4c88-4eb8-a689-81d2ce24f25c",
   "metadata": {},
   "outputs": [
    {
     "data": {
      "text/plain": [
       "['withoutPreTrain',\n",
       " 'withPretrain',\n",
       " 'config_input_channels4_output_channels64_masked_percentage15_n_epochs10_batch_size64_encoding_layers3_encoding_kernel_size9_model_state_dictNone',\n",
       " 'config_input_channels4_output_channels64_masked_percentage15_n_epochs10_batch_size64_encoding_layers3_encoding_kernel_size9']"
      ]
     },
     "execution_count": 7,
     "metadata": {},
     "output_type": "execute_result"
    }
   ],
   "source": [
    "runs = runs"
   ]
  },
  {
   "cell_type": "code",
   "execution_count": null,
   "id": "20b66572-b994-4988-906c-7e5667e29a74",
   "metadata": {},
   "outputs": [],
   "source": []
  }
 ],
 "metadata": {
  "kernelspec": {
   "display_name": "Python 3 (ipykernel)",
   "language": "python",
   "name": "python3"
  },
  "language_info": {
   "codemirror_mode": {
    "name": "ipython",
    "version": 3
   },
   "file_extension": ".py",
   "mimetype": "text/x-python",
   "name": "python",
   "nbconvert_exporter": "python",
   "pygments_lexer": "ipython3",
   "version": "3.10.9"
  }
 },
 "nbformat": 4,
 "nbformat_minor": 5
}
