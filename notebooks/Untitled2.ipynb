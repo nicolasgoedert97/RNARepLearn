{
 "cells": [
  {
   "cell_type": "code",
   "execution_count": 1,
   "id": "1c857e57-8f50-491e-9979-2f478d86e6cd",
   "metadata": {},
   "outputs": [
    {
     "name": "stderr",
     "output_type": "stream",
     "text": [
      "/home/icb/vnicolas.goedert/miniconda3/envs/RFAM/lib/python3.10/site-packages/tqdm/auto.py:22: TqdmWarning: IProgress not found. Please update jupyter and ipywidgets. See https://ipywidgets.readthedocs.io/en/stable/user_install.html\n",
      "  from .autonotebook import tqdm as notebook_tqdm\n"
     ]
    }
   ],
   "source": [
    "import torch\n",
    "import torch_geometric"
   ]
  },
  {
   "cell_type": "code",
   "execution_count": 2,
   "id": "fde15794-e4d9-43d1-87dd-c6f47579d4a5",
   "metadata": {},
   "outputs": [
    {
     "name": "stdout",
     "output_type": "stream",
     "text": [
      "Processing complete\n",
      "7969\n",
      "498\n",
      "1495\n"
     ]
    },
    {
     "name": "stderr",
     "output_type": "stream",
     "text": [
      "Processing...\n",
      "Done!\n"
     ]
    }
   ],
   "source": [
    "rfam_dir = \"../rfam/data/raw/processed/release-14.8\"\n",
    "rfams = [\"RF00001\",\"RF00174\",\"RF00169\",\"RF00050\"]\n",
    "\n",
    "from RNARepLearn.datasets import CombinedRfamDataset, SingleRfamDataset\n",
    "#dataset = CombinedRfamDataset(rfam_dir, rfams, \"Under300\", 15, 300)\n",
    "dataset = CombinedRfamDataset(rfam_dir, [\"RF00001\",\"RF00005\"], \"RF00001_RF00005\")\n",
    "#dataset = SingleRfamDataset(rfam_dir,\"RF00001\")\n",
    "\n",
    "from RNARepLearn.utils import train_val_test_loaders\n",
    "\n",
    "train_loader, val_loader, test_loader = train_val_test_loaders(dataset, 0.8, 0.05, 0.15)"
   ]
  },
  {
   "cell_type": "code",
   "execution_count": 3,
   "id": "43ef40b1-0171-496f-a8fa-9b186b7a812a",
   "metadata": {},
   "outputs": [],
   "source": [
    "from torch.utils.tensorboard import SummaryWriter\n",
    "writer = SummaryWriter(\"runs/TestRun\")"
   ]
  },
  {
   "cell_type": "code",
   "execution_count": 7,
   "id": "8fcef9ed-0b72-4587-afaa-4ddb840b949a",
   "metadata": {},
   "outputs": [],
   "source": [
    "from RNARepLearn.modules import LinearEmbedding, RPINetEncoder, AttentionDecoder\n",
    "layers = []\n",
    "layers.append(RPINetEncoder(4, 32, 3, 3))\n",
    "layers.append(AttentionDecoder(32, 4))\n",
    "model = torch.nn.Sequential(*layers)"
   ]
  },
  {
   "cell_type": "code",
   "execution_count": 8,
   "id": "f448cf9d-ad09-46ae-b1bb-e25d395e7c6e",
   "metadata": {},
   "outputs": [
    {
     "name": "stdout",
     "output_type": "stream",
     "text": [
      "Creating new SummaryWriter\n"
     ]
    }
   ],
   "source": [
    "from RNARepLearn.train import MaskedTraining, AutoEncoder\n",
    "#training = MaskedTraining(model, 1, 15, writer)\n",
    "training = AutoEncoder(model, 3, 15)"
   ]
  },
  {
   "cell_type": "code",
   "execution_count": null,
   "id": "cf5083fa-ddc9-4de8-9d53-b5a2d20be8c7",
   "metadata": {},
   "outputs": [
    {
     "name": "stdout",
     "output_type": "stream",
     "text": [
      "[Epoch    1/   3] [Batch    1/ 250] Loss:  1.59e+00 Nucleotide-Loss:  1.39e+00 Edge-Loss:  2.03e-01\n",
      "[Epoch    1/   3] [Batch   11/ 250] Loss:  1.58e+00 Nucleotide-Loss:  1.38e+00 Edge-Loss:  2.01e-01\n",
      "[Epoch    1/   3] [Batch   21/ 250] Loss:  1.56e+00 Nucleotide-Loss:  1.35e+00 Edge-Loss:  2.07e-01\n",
      "[Epoch    1/   3] [Batch   31/ 250] Loss:  1.39e+00 Nucleotide-Loss:  1.21e+00 Edge-Loss:  1.79e-01\n",
      "[Epoch    1/   3] [Batch   41/ 250] Loss:  1.18e+00 Nucleotide-Loss:  9.89e-01 Edge-Loss:  1.94e-01\n",
      "[Epoch    1/   3] [Batch   51/ 250] Loss:  1.03e+00 Nucleotide-Loss:  8.52e-01 Edge-Loss:  1.83e-01\n",
      "[Epoch    1/   3] [Batch   61/ 250] Loss:  9.95e-01 Nucleotide-Loss:  8.13e-01 Edge-Loss:  1.81e-01\n",
      "[Epoch    1/   3] [Batch   71/ 250] Loss:  9.74e-01 Nucleotide-Loss:  7.85e-01 Edge-Loss:  1.89e-01\n",
      "[Epoch    1/   3] [Batch   81/ 250] Loss:  9.44e-01 Nucleotide-Loss:  7.71e-01 Edge-Loss:  1.73e-01\n",
      "[Epoch    1/   3] [Batch   91/ 250] Loss:  9.15e-01 Nucleotide-Loss:  7.61e-01 Edge-Loss:  1.54e-01\n",
      "[Epoch    1/   3] [Batch  101/ 250] Loss:  9.30e-01 Nucleotide-Loss:  7.58e-01 Edge-Loss:  1.71e-01\n",
      "[Epoch    1/   3] [Batch  111/ 250] Loss:  9.03e-01 Nucleotide-Loss:  7.51e-01 Edge-Loss:  1.52e-01\n",
      "[Epoch    1/   3] [Batch  121/ 250] Loss:  9.08e-01 Nucleotide-Loss:  7.60e-01 Edge-Loss:  1.48e-01\n",
      "[Epoch    1/   3] [Batch  131/ 250] Loss:  9.07e-01 Nucleotide-Loss:  7.49e-01 Edge-Loss:  1.57e-01\n",
      "[Epoch    1/   3] [Batch  141/ 250] Loss:  8.98e-01 Nucleotide-Loss:  7.49e-01 Edge-Loss:  1.48e-01\n",
      "[Epoch    1/   3] [Batch  151/ 250] Loss:  9.06e-01 Nucleotide-Loss:  7.49e-01 Edge-Loss:  1.57e-01\n"
     ]
    }
   ],
   "source": [
    "training.run(train_loader, val_loader)"
   ]
  },
  {
   "cell_type": "code",
   "execution_count": 12,
   "id": "d63cf28e-e00d-4b9f-b6bd-d6b1bed57e30",
   "metadata": {},
   "outputs": [
    {
     "data": {
      "text/plain": [
       "Sequential(\n",
       "  (0): RPINetEncoder(\n",
       "    (body): Sequential(\n",
       "      (0): RPINetGNNLayer()\n",
       "      (1): LSTM(32, 32)\n",
       "      (2): RPINetGNNLayer()\n",
       "      (3): LSTM(32, 32)\n",
       "      (4): RPINetGNNLayer()\n",
       "      (5): LSTM(32, 32)\n",
       "    )\n",
       "  )\n",
       "  (1): AttentionDecoderV2(\n",
       "    (nuc_projection): Linear(32, 4, bias=True)\n",
       "    (attention): MultiheadAttention(\n",
       "      (out_proj): NonDynamicallyQuantizableLinear(in_features=32, out_features=32, bias=True)\n",
       "    )\n",
       "  )\n",
       ")"
      ]
     },
     "execution_count": 12,
     "metadata": {},
     "output_type": "execute_result"
    }
   ],
   "source": [
    "from RNARepLearn.modules import LinearEmbedding, RPINetEncoder, AttentionDecoderV2\n",
    "layers = []\n",
    "layers.append(RPINetEncoder(4, 32, 3, 3))\n",
    "layers.append(AttentionDecoderV2(32, 4))\n",
    "model = torch.nn.Sequential(*layers)\n",
    "model.double()\n",
    "model.to(training.device)"
   ]
  },
  {
   "cell_type": "code",
   "execution_count": 13,
   "id": "dcc40b36-4dec-43b6-805f-4990d37728e4",
   "metadata": {},
   "outputs": [],
   "source": [
    "batch = next(iter(test_loader))\n",
    "true_x = torch.clone(batch.x)\n",
    "true_edges = torch.clone(batch.edge_weight)\n",
    "nucs, bpp = model(batch.to(training.device))"
   ]
  },
  {
   "cell_type": "code",
   "execution_count": 29,
   "id": "2462ea73-fc53-4231-be66-cab659129045",
   "metadata": {},
   "outputs": [],
   "source": [
    "from RNARepLearn.utils import mask_batch, reconstruct_bpp\n",
    "true_bpp = torch.tensor(reconstruct_bpp(batch.edge_index.cpu(), true_edges, (bpp.shape[0],bpp.shape[1])))"
   ]
  },
  {
   "cell_type": "code",
   "execution_count": 37,
   "id": "a51e2bd1-ec7a-43cd-bd2f-08c9857c758d",
   "metadata": {},
   "outputs": [
    {
     "name": "stdout",
     "output_type": "stream",
     "text": [
      "tensor([-8.0037, -8.0037, -8.0037,  ..., -8.0037, -8.0037, -8.0037],\n",
      "       dtype=torch.float64, grad_fn=<IndexBackward0>)\n",
      "tensor([9.0851e-03, 7.6014e-08, 7.5129e-10,  ..., 1.0507e-12, 8.2764e-13,\n",
      "        9.9991e-01], dtype=torch.float64)\n",
      "-----------------\n"
     ]
    },
    {
     "data": {
      "text/plain": [
       "tensor(0.2024, dtype=torch.float64, grad_fn=<DivBackward0>)"
      ]
     },
     "execution_count": 37,
     "metadata": {},
     "output_type": "execute_result"
    }
   ],
   "source": [
    "def BppReconstructionLoss(output, target):\n",
    "    mask = target!=0\n",
    "    loss = torch.nn.KLDivLoss(reduction=\"batchmean\")\n",
    "\n",
    "    print(output[mask])\n",
    "    print(target[mask])\n",
    "    print(\"-----------------\")\n",
    "    return(loss(output[mask], target[mask]))\n",
    "BppReconstructionLoss(bpp.cpu().log(), true_bpp)"
   ]
  },
  {
   "cell_type": "code",
   "execution_count": null,
   "id": "f5b6ab98-b6b1-4e48-9226-65734a530cf5",
   "metadata": {},
   "outputs": [],
   "source": []
  }
 ],
 "metadata": {
  "kernelspec": {
   "display_name": "RFAM",
   "language": "python",
   "name": "rfam"
  },
  "language_info": {
   "codemirror_mode": {
    "name": "ipython",
    "version": 3
   },
   "file_extension": ".py",
   "mimetype": "text/x-python",
   "name": "python",
   "nbconvert_exporter": "python",
   "pygments_lexer": "ipython3",
   "version": "3.10.8"
  }
 },
 "nbformat": 4,
 "nbformat_minor": 5
}
