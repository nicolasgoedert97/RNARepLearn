{
 "cells": [
  {
   "cell_type": "code",
   "execution_count": 1,
   "id": "6718631a-dcbb-483e-934b-9f5b236cdcf0",
   "metadata": {},
   "outputs": [
    {
     "name": "stderr",
     "output_type": "stream",
     "text": [
      "/home/icb/vnicolas.goedert/miniconda3/envs/RFAM/lib/python3.10/site-packages/tqdm/auto.py:22: TqdmWarning: IProgress not found. Please update jupyter and ipywidgets. See https://ipywidgets.readthedocs.io/en/stable/user_install.html\n",
      "  from .autonotebook import tqdm as notebook_tqdm\n"
     ]
    }
   ],
   "source": [
    "import numpy as np\n",
    "import torch\n",
    "import os\n",
    "import pandas as pd\n",
    "import torch_geometric\n",
    "import pickle\n",
    "import tqdm\n",
    "import random"
   ]
  },
  {
   "cell_type": "code",
   "execution_count": 2,
   "id": "cbaf5e6c-c90b-4837-bf3c-7e60b7284b94",
   "metadata": {},
   "outputs": [],
   "source": [
    "from torch.utils.tensorboard import SummaryWriter\n",
    "writer = SummaryWriter()"
   ]
  },
  {
   "cell_type": "code",
   "execution_count": 3,
   "id": "ece537f1-4bca-444d-9bd4-57f7963ca66f",
   "metadata": {},
   "outputs": [],
   "source": [
    "rfam_dir = \"../rfam/data/raw/processed/release-14.8\"\n",
    "rfams = [\"RF00001\",\"RF00174\",\"RF00169\",\"RF00050\"]"
   ]
  },
  {
   "cell_type": "code",
   "execution_count": 4,
   "id": "f68274a7-546b-4a4b-ae26-2a5f13c61418",
   "metadata": {},
   "outputs": [
    {
     "name": "stderr",
     "output_type": "stream",
     "text": [
      "Processing...\n",
      "Done!\n"
     ]
    }
   ],
   "source": [
    "from RNARepLearn.datasets import CombinedRfamDataset, SingleRfamDataset\n",
    "#dataset = CombinedRfamDataset(rfam_dir, rfams, \"Under300\", 15, 300)\n",
    "dataset = SingleRfamDataset(rfam_dir, \"RF00001\", 15)"
   ]
  },
  {
   "cell_type": "code",
   "execution_count": 5,
   "id": "55e49b23-1bbd-4c1d-bea7-1115e29f689b",
   "metadata": {},
   "outputs": [],
   "source": [
    "train_size = int(0.8 * len(dataset))\n",
    "test_size = len(dataset) - train_size\n",
    "train_dataset, test_dataset = torch.utils.data.random_split(dataset, [train_size, test_size])"
   ]
  },
  {
   "cell_type": "code",
   "execution_count": 6,
   "id": "397cd419-02d7-4199-aff5-76652c2ecd04",
   "metadata": {},
   "outputs": [],
   "source": [
    "from torch_geometric.loader import DataLoader\n",
    "train_loader = DataLoader(train_dataset, batch_size=32, shuffle=True)"
   ]
  },
  {
   "cell_type": "code",
   "execution_count": 8,
   "id": "eaa4d46d-6552-4e36-9444-ebbb937e3c1c",
   "metadata": {},
   "outputs": [],
   "source": [
    "##Model\n",
    "import torch.nn.functional as F\n",
    "from torch_geometric.nn import GCNConv, Linear\n",
    "\n",
    "class Encoder(torch.nn.Module):\n",
    "    def __init__(self, input_channels, output_channels):\n",
    "        super().__init__()\n",
    "        self.conv1 = GCNConv(input_channels, output_channels)\n",
    "        self.conv2 = GCNConv(output_channels,output_channels)\n",
    "\n",
    "        \n",
    "    def forward(self, data):\n",
    "        x, edge_index = data.x, data.edge_index\n",
    "\n",
    "        #build representation, encode\n",
    "        # input -> V_N,D\n",
    "        x = self.conv1(x, edge_index)\n",
    "        x = F.relu(x)\n",
    "        x = F.dropout(x, training=self.training)\n",
    "        x = self.conv2(x, edge_index)\n",
    "        x = F.relu(x)\n",
    "        x = self.conv2(x,edge_index)\n",
    "        x = F.relu(x)\n",
    "        \n",
    "        return x\n",
    "    \n",
    "class AttentionDecoder(torch.nn.Module):\n",
    "    def __init__(self, input_channels, output_channels):\n",
    "        super().__init__()\n",
    "        self.key_projection = Linear(input_channels, input_channels)\n",
    "        self.query_projection = Linear(input_channels, input_channels)\n",
    "        self.nuc_projection = Linear(input_channels, output_channels)\n",
    "        \n",
    "    def forward(self, x):\n",
    "        keys = self.key_projection(x)\n",
    "        queries = self.query_projection(x)\n",
    "        \n",
    "        nucleotides = self.nuc_projection(x)\n",
    "        \n",
    "        dotprod = torch.matmul(queries,keys.T)\n",
    "        \n",
    "        return F.softmax(nucleotides, dim=1), F.softmax(dotprod, dim=1)"
   ]
  },
  {
   "cell_type": "code",
   "execution_count": 9,
   "id": "fae5ea80-8c41-4f38-86ee-a2bd38430170",
   "metadata": {},
   "outputs": [],
   "source": [
    "layers = []\n",
    "layers.append(Encoder(4,64))\n",
    "layers.append(AttentionDecoder(64,4))\n",
    "model = torch.nn.Sequential(*layers)"
   ]
  },
  {
   "cell_type": "code",
   "execution_count": 10,
   "id": "9a161e28-b877-4f98-a0e4-7a97d65944db",
   "metadata": {},
   "outputs": [],
   "source": [
    "##Setup\n",
    "device = torch.device('cuda' if torch.cuda.is_available() else 'cpu')\n",
    "model = model.to(device)\n",
    "model = model.double()\n",
    "optimizer = torch.optim.Adam(model.parameters(), lr=0.01, weight_decay=5e-4)\n",
    "\n",
    "n_epochs = 10"
   ]
  },
  {
   "cell_type": "code",
   "execution_count": 12,
   "id": "b026ad61-f603-4502-9952-136c38e5b243",
   "metadata": {},
   "outputs": [
    {
     "name": "stdout",
     "output_type": "stream",
     "text": [
      "[Epoch    1/  10] [Batch    1/ 125] Loss:  9.12e+00 Nucleotide-Loss:  1.39e+00 Edge-Loss:  7.74e+00\n",
      "[Epoch    1/  10] [Batch   11/ 125] Loss:  8.88e+00 Nucleotide-Loss:  1.22e+00 Edge-Loss:  7.65e+00\n",
      "[Epoch    1/  10] [Batch   21/ 125] Loss:  8.79e+00 Nucleotide-Loss:  1.13e+00 Edge-Loss:  7.66e+00\n",
      "[Epoch    1/  10] [Batch   31/ 125] Loss:  8.66e+00 Nucleotide-Loss:  1.07e+00 Edge-Loss:  7.60e+00\n",
      "[Epoch    1/  10] [Batch   41/ 125] Loss:  8.38e+00 Nucleotide-Loss:  9.21e-01 Edge-Loss:  7.46e+00\n",
      "[Epoch    1/  10] [Batch   51/ 125] Loss:  8.16e+00 Nucleotide-Loss:  8.49e-01 Edge-Loss:  7.31e+00\n",
      "[Epoch    1/  10] [Batch   61/ 125] Loss:  7.92e+00 Nucleotide-Loss:  8.04e-01 Edge-Loss:  7.12e+00\n",
      "[Epoch    1/  10] [Batch   71/ 125] Loss:  7.88e+00 Nucleotide-Loss:  7.84e-01 Edge-Loss:  7.09e+00\n",
      "[Epoch    1/  10] [Batch   81/ 125] Loss:  7.86e+00 Nucleotide-Loss:  7.80e-01 Edge-Loss:  7.08e+00\n",
      "[Epoch    1/  10] [Batch   91/ 125] Loss:  7.80e+00 Nucleotide-Loss:  7.77e-01 Edge-Loss:  7.02e+00\n",
      "[Epoch    1/  10] [Batch  101/ 125] Loss:  7.69e+00 Nucleotide-Loss:  7.73e-01 Edge-Loss:  6.91e+00\n",
      "[Epoch    1/  10] [Batch  111/ 125] Loss:  7.69e+00 Nucleotide-Loss:  7.57e-01 Edge-Loss:  6.94e+00\n",
      "[Epoch    1/  10] [Batch  121/ 125] Loss:  7.65e+00 Nucleotide-Loss:  7.62e-01 Edge-Loss:  6.89e+00\n",
      "[Epoch    2/  10] [Batch    1/ 125] Loss:  7.72e+00 Nucleotide-Loss:  7.92e-01 Edge-Loss:  6.93e+00\n",
      "[Epoch    2/  10] [Batch   11/ 125] Loss:  7.63e+00 Nucleotide-Loss:  7.57e-01 Edge-Loss:  6.87e+00\n",
      "[Epoch    2/  10] [Batch   21/ 125] Loss:  7.47e+00 Nucleotide-Loss:  7.57e-01 Edge-Loss:  6.72e+00\n",
      "[Epoch    2/  10] [Batch   31/ 125] Loss:  7.66e+00 Nucleotide-Loss:  7.66e-01 Edge-Loss:  6.89e+00\n",
      "[Epoch    2/  10] [Batch   41/ 125] Loss:  7.48e+00 Nucleotide-Loss:  7.61e-01 Edge-Loss:  6.72e+00\n",
      "[Epoch    2/  10] [Batch   51/ 125] Loss:  7.57e+00 Nucleotide-Loss:  7.54e-01 Edge-Loss:  6.81e+00\n",
      "[Epoch    2/  10] [Batch   61/ 125] Loss:  7.42e+00 Nucleotide-Loss:  7.70e-01 Edge-Loss:  6.65e+00\n",
      "[Epoch    2/  10] [Batch   71/ 125] Loss:  7.43e+00 Nucleotide-Loss:  7.59e-01 Edge-Loss:  6.67e+00\n",
      "[Epoch    2/  10] [Batch   81/ 125] Loss:  7.42e+00 Nucleotide-Loss:  7.52e-01 Edge-Loss:  6.67e+00\n",
      "[Epoch    2/  10] [Batch   91/ 125] Loss:  7.16e+00 Nucleotide-Loss:  7.56e-01 Edge-Loss:  6.40e+00\n",
      "[Epoch    2/  10] [Batch  101/ 125] Loss:  7.48e+00 Nucleotide-Loss:  7.49e-01 Edge-Loss:  6.73e+00\n",
      "[Epoch    2/  10] [Batch  111/ 125] Loss:  7.32e+00 Nucleotide-Loss:  7.64e-01 Edge-Loss:  6.56e+00\n",
      "[Epoch    2/  10] [Batch  121/ 125] Loss:  7.13e+00 Nucleotide-Loss:  7.56e-01 Edge-Loss:  6.37e+00\n",
      "[Epoch    3/  10] [Batch    1/ 125] Loss:  7.02e+00 Nucleotide-Loss:  7.54e-01 Edge-Loss:  6.27e+00\n",
      "[Epoch    3/  10] [Batch   11/ 125] Loss:  7.17e+00 Nucleotide-Loss:  7.54e-01 Edge-Loss:  6.42e+00\n",
      "[Epoch    3/  10] [Batch   21/ 125] Loss:  7.25e+00 Nucleotide-Loss:  7.53e-01 Edge-Loss:  6.50e+00\n",
      "[Epoch    3/  10] [Batch   31/ 125] Loss:  7.31e+00 Nucleotide-Loss:  7.49e-01 Edge-Loss:  6.56e+00\n",
      "[Epoch    3/  10] [Batch   41/ 125] Loss:  7.24e+00 Nucleotide-Loss:  7.49e-01 Edge-Loss:  6.49e+00\n",
      "[Epoch    3/  10] [Batch   51/ 125] Loss:  6.95e+00 Nucleotide-Loss:  7.51e-01 Edge-Loss:  6.20e+00\n",
      "[Epoch    3/  10] [Batch   61/ 125] Loss:  6.94e+00 Nucleotide-Loss:  7.51e-01 Edge-Loss:  6.19e+00\n",
      "[Epoch    3/  10] [Batch   71/ 125] Loss:  7.16e+00 Nucleotide-Loss:  7.49e-01 Edge-Loss:  6.41e+00\n",
      "[Epoch    3/  10] [Batch   81/ 125] Loss:  7.01e+00 Nucleotide-Loss:  7.49e-01 Edge-Loss:  6.26e+00\n",
      "[Epoch    3/  10] [Batch   91/ 125] Loss:  7.19e+00 Nucleotide-Loss:  7.51e-01 Edge-Loss:  6.44e+00\n",
      "[Epoch    3/  10] [Batch  101/ 125] Loss:  6.96e+00 Nucleotide-Loss:  7.49e-01 Edge-Loss:  6.21e+00\n",
      "[Epoch    3/  10] [Batch  111/ 125] Loss:  7.16e+00 Nucleotide-Loss:  7.61e-01 Edge-Loss:  6.40e+00\n",
      "[Epoch    3/  10] [Batch  121/ 125] Loss:  7.01e+00 Nucleotide-Loss:  7.55e-01 Edge-Loss:  6.25e+00\n",
      "[Epoch    4/  10] [Batch    1/ 125] Loss:  7.23e+00 Nucleotide-Loss:  7.47e-01 Edge-Loss:  6.48e+00\n",
      "[Epoch    4/  10] [Batch   11/ 125] Loss:  6.95e+00 Nucleotide-Loss:  7.49e-01 Edge-Loss:  6.20e+00\n",
      "[Epoch    4/  10] [Batch   21/ 125] Loss:  6.95e+00 Nucleotide-Loss:  7.48e-01 Edge-Loss:  6.21e+00\n",
      "[Epoch    4/  10] [Batch   31/ 125] Loss:  6.70e+00 Nucleotide-Loss:  7.46e-01 Edge-Loss:  5.95e+00\n",
      "[Epoch    4/  10] [Batch   41/ 125] Loss:  6.95e+00 Nucleotide-Loss:  7.49e-01 Edge-Loss:  6.20e+00\n",
      "[Epoch    4/  10] [Batch   51/ 125] Loss:  6.92e+00 Nucleotide-Loss:  7.51e-01 Edge-Loss:  6.17e+00\n",
      "[Epoch    4/  10] [Batch   61/ 125] Loss:  6.82e+00 Nucleotide-Loss:  7.53e-01 Edge-Loss:  6.07e+00\n",
      "[Epoch    4/  10] [Batch   71/ 125] Loss:  6.77e+00 Nucleotide-Loss:  7.50e-01 Edge-Loss:  6.02e+00\n",
      "[Epoch    4/  10] [Batch   81/ 125] Loss:  6.80e+00 Nucleotide-Loss:  7.48e-01 Edge-Loss:  6.06e+00\n",
      "[Epoch    4/  10] [Batch   91/ 125] Loss:  6.85e+00 Nucleotide-Loss:  7.49e-01 Edge-Loss:  6.10e+00\n",
      "[Epoch    4/  10] [Batch  101/ 125] Loss:  6.62e+00 Nucleotide-Loss:  7.49e-01 Edge-Loss:  5.87e+00\n",
      "[Epoch    4/  10] [Batch  111/ 125] Loss:  6.64e+00 Nucleotide-Loss:  7.49e-01 Edge-Loss:  5.89e+00\n",
      "[Epoch    4/  10] [Batch  121/ 125] Loss:  6.72e+00 Nucleotide-Loss:  7.50e-01 Edge-Loss:  5.97e+00\n",
      "[Epoch    5/  10] [Batch    1/ 125] Loss:  6.85e+00 Nucleotide-Loss:  7.51e-01 Edge-Loss:  6.10e+00\n",
      "[Epoch    5/  10] [Batch   11/ 125] Loss:  6.82e+00 Nucleotide-Loss:  7.49e-01 Edge-Loss:  6.07e+00\n",
      "[Epoch    5/  10] [Batch   21/ 125] Loss:  6.68e+00 Nucleotide-Loss:  7.48e-01 Edge-Loss:  5.93e+00\n",
      "[Epoch    5/  10] [Batch   31/ 125] Loss:  6.67e+00 Nucleotide-Loss:  7.51e-01 Edge-Loss:  5.92e+00\n",
      "[Epoch    5/  10] [Batch   41/ 125] Loss:  6.79e+00 Nucleotide-Loss:  7.51e-01 Edge-Loss:  6.04e+00\n",
      "[Epoch    5/  10] [Batch   51/ 125] Loss:  6.77e+00 Nucleotide-Loss:  7.49e-01 Edge-Loss:  6.02e+00\n",
      "[Epoch    5/  10] [Batch   61/ 125] Loss:  6.50e+00 Nucleotide-Loss:  7.52e-01 Edge-Loss:  5.74e+00\n",
      "[Epoch    5/  10] [Batch   71/ 125] Loss:  6.52e+00 Nucleotide-Loss:  7.48e-01 Edge-Loss:  5.78e+00\n",
      "[Epoch    5/  10] [Batch   81/ 125] Loss:  6.52e+00 Nucleotide-Loss:  7.47e-01 Edge-Loss:  5.78e+00\n",
      "[Epoch    5/  10] [Batch   91/ 125] Loss:  6.69e+00 Nucleotide-Loss:  7.49e-01 Edge-Loss:  5.94e+00\n",
      "[Epoch    5/  10] [Batch  101/ 125] Loss:  6.56e+00 Nucleotide-Loss:  7.51e-01 Edge-Loss:  5.81e+00\n",
      "[Epoch    5/  10] [Batch  111/ 125] Loss:  6.57e+00 Nucleotide-Loss:  7.50e-01 Edge-Loss:  5.82e+00\n",
      "[Epoch    5/  10] [Batch  121/ 125] Loss:  6.55e+00 Nucleotide-Loss:  7.55e-01 Edge-Loss:  5.79e+00\n",
      "[Epoch    6/  10] [Batch    1/ 125] Loss:  6.48e+00 Nucleotide-Loss:  7.51e-01 Edge-Loss:  5.73e+00\n",
      "[Epoch    6/  10] [Batch   11/ 125] Loss:  6.44e+00 Nucleotide-Loss:  7.53e-01 Edge-Loss:  5.68e+00\n",
      "[Epoch    6/  10] [Batch   21/ 125] Loss:  6.70e+00 Nucleotide-Loss:  7.51e-01 Edge-Loss:  5.95e+00\n",
      "[Epoch    6/  10] [Batch   31/ 125] Loss:  6.48e+00 Nucleotide-Loss:  7.49e-01 Edge-Loss:  5.73e+00\n",
      "[Epoch    6/  10] [Batch   41/ 125] Loss:  6.53e+00 Nucleotide-Loss:  7.49e-01 Edge-Loss:  5.78e+00\n",
      "[Epoch    6/  10] [Batch   51/ 125] Loss:  6.55e+00 Nucleotide-Loss:  7.47e-01 Edge-Loss:  5.80e+00\n",
      "[Epoch    6/  10] [Batch   61/ 125] Loss:  6.68e+00 Nucleotide-Loss:  7.48e-01 Edge-Loss:  5.93e+00\n",
      "[Epoch    6/  10] [Batch   71/ 125] Loss:  6.15e+00 Nucleotide-Loss:  7.50e-01 Edge-Loss:  5.40e+00\n",
      "[Epoch    6/  10] [Batch   81/ 125] Loss:  6.19e+00 Nucleotide-Loss:  7.49e-01 Edge-Loss:  5.44e+00\n",
      "[Epoch    6/  10] [Batch   91/ 125] Loss:  6.33e+00 Nucleotide-Loss:  7.50e-01 Edge-Loss:  5.58e+00\n",
      "[Epoch    6/  10] [Batch  101/ 125] Loss:  6.58e+00 Nucleotide-Loss:  7.50e-01 Edge-Loss:  5.83e+00\n",
      "[Epoch    6/  10] [Batch  111/ 125] Loss:  6.56e+00 Nucleotide-Loss:  7.51e-01 Edge-Loss:  5.81e+00\n",
      "[Epoch    6/  10] [Batch  121/ 125] Loss:  6.45e+00 Nucleotide-Loss:  7.48e-01 Edge-Loss:  5.70e+00\n",
      "[Epoch    7/  10] [Batch    1/ 125] Loss:  6.50e+00 Nucleotide-Loss:  7.48e-01 Edge-Loss:  5.75e+00\n",
      "[Epoch    7/  10] [Batch   11/ 125] Loss:  6.46e+00 Nucleotide-Loss:  7.48e-01 Edge-Loss:  5.72e+00\n",
      "[Epoch    7/  10] [Batch   21/ 125] Loss:  6.44e+00 Nucleotide-Loss:  7.48e-01 Edge-Loss:  5.70e+00\n",
      "[Epoch    7/  10] [Batch   31/ 125] Loss:  6.34e+00 Nucleotide-Loss:  7.49e-01 Edge-Loss:  5.59e+00\n",
      "[Epoch    7/  10] [Batch   41/ 125] Loss:  6.56e+00 Nucleotide-Loss:  7.51e-01 Edge-Loss:  5.80e+00\n",
      "[Epoch    7/  10] [Batch   51/ 125] Loss:  6.26e+00 Nucleotide-Loss:  7.50e-01 Edge-Loss:  5.51e+00\n",
      "[Epoch    7/  10] [Batch   61/ 125] Loss:  6.34e+00 Nucleotide-Loss:  7.50e-01 Edge-Loss:  5.59e+00\n",
      "[Epoch    7/  10] [Batch   71/ 125] Loss:  6.28e+00 Nucleotide-Loss:  7.48e-01 Edge-Loss:  5.53e+00\n",
      "[Epoch    7/  10] [Batch   81/ 125] Loss:  6.36e+00 Nucleotide-Loss:  7.50e-01 Edge-Loss:  5.61e+00\n",
      "[Epoch    7/  10] [Batch   91/ 125] Loss:  6.33e+00 Nucleotide-Loss:  7.48e-01 Edge-Loss:  5.58e+00\n",
      "[Epoch    7/  10] [Batch  101/ 125] Loss:  6.20e+00 Nucleotide-Loss:  7.48e-01 Edge-Loss:  5.45e+00\n",
      "[Epoch    7/  10] [Batch  111/ 125] Loss:  6.43e+00 Nucleotide-Loss:  7.48e-01 Edge-Loss:  5.68e+00\n",
      "[Epoch    7/  10] [Batch  121/ 125] Loss:  6.29e+00 Nucleotide-Loss:  7.48e-01 Edge-Loss:  5.54e+00\n",
      "[Epoch    8/  10] [Batch    1/ 125] Loss:  6.50e+00 Nucleotide-Loss:  7.47e-01 Edge-Loss:  5.75e+00\n",
      "[Epoch    8/  10] [Batch   11/ 125] Loss:  6.37e+00 Nucleotide-Loss:  7.48e-01 Edge-Loss:  5.62e+00\n",
      "[Epoch    8/  10] [Batch   21/ 125] Loss:  6.30e+00 Nucleotide-Loss:  7.48e-01 Edge-Loss:  5.56e+00\n",
      "[Epoch    8/  10] [Batch   31/ 125] Loss:  6.48e+00 Nucleotide-Loss:  7.51e-01 Edge-Loss:  5.73e+00\n",
      "[Epoch    8/  10] [Batch   41/ 125] Loss:  7.13e+00 Nucleotide-Loss:  7.47e-01 Edge-Loss:  6.38e+00\n",
      "[Epoch    8/  10] [Batch   51/ 125] Loss:  6.18e+00 Nucleotide-Loss:  7.47e-01 Edge-Loss:  5.44e+00\n",
      "[Epoch    8/  10] [Batch   61/ 125] Loss:  6.19e+00 Nucleotide-Loss:  7.51e-01 Edge-Loss:  5.44e+00\n",
      "[Epoch    8/  10] [Batch   71/ 125] Loss:  6.20e+00 Nucleotide-Loss:  7.46e-01 Edge-Loss:  5.45e+00\n",
      "[Epoch    8/  10] [Batch   81/ 125] Loss:  6.47e+00 Nucleotide-Loss:  7.46e-01 Edge-Loss:  5.72e+00\n",
      "[Epoch    8/  10] [Batch   91/ 125] Loss:  6.21e+00 Nucleotide-Loss:  7.47e-01 Edge-Loss:  5.46e+00\n",
      "[Epoch    8/  10] [Batch  101/ 125] Loss:  6.73e+00 Nucleotide-Loss:  7.49e-01 Edge-Loss:  5.99e+00\n",
      "[Epoch    8/  10] [Batch  111/ 125] Loss:  6.36e+00 Nucleotide-Loss:  7.52e-01 Edge-Loss:  5.61e+00\n",
      "[Epoch    8/  10] [Batch  121/ 125] Loss:  6.36e+00 Nucleotide-Loss:  7.50e-01 Edge-Loss:  5.61e+00\n",
      "[Epoch    9/  10] [Batch    1/ 125] Loss:  6.36e+00 Nucleotide-Loss:  7.50e-01 Edge-Loss:  5.61e+00\n",
      "[Epoch    9/  10] [Batch   11/ 125] Loss:  6.03e+00 Nucleotide-Loss:  7.48e-01 Edge-Loss:  5.28e+00\n",
      "[Epoch    9/  10] [Batch   21/ 125] Loss:  6.52e+00 Nucleotide-Loss:  7.48e-01 Edge-Loss:  5.77e+00\n",
      "[Epoch    9/  10] [Batch   31/ 125] Loss:  6.14e+00 Nucleotide-Loss:  7.49e-01 Edge-Loss:  5.39e+00\n",
      "[Epoch    9/  10] [Batch   41/ 125] Loss:  6.40e+00 Nucleotide-Loss:  7.48e-01 Edge-Loss:  5.65e+00\n",
      "[Epoch    9/  10] [Batch   51/ 125] Loss:  6.43e+00 Nucleotide-Loss:  7.48e-01 Edge-Loss:  5.68e+00\n",
      "[Epoch    9/  10] [Batch   61/ 125] Loss:  5.99e+00 Nucleotide-Loss:  7.48e-01 Edge-Loss:  5.24e+00\n",
      "[Epoch    9/  10] [Batch   71/ 125] Loss:  6.58e+00 Nucleotide-Loss:  7.46e-01 Edge-Loss:  5.84e+00\n",
      "[Epoch    9/  10] [Batch   81/ 125] Loss:  6.67e+00 Nucleotide-Loss:  7.47e-01 Edge-Loss:  5.92e+00\n",
      "[Epoch    9/  10] [Batch   91/ 125] Loss:  6.46e+00 Nucleotide-Loss:  7.51e-01 Edge-Loss:  5.71e+00\n",
      "[Epoch    9/  10] [Batch  101/ 125] Loss:  6.16e+00 Nucleotide-Loss:  7.49e-01 Edge-Loss:  5.41e+00\n",
      "[Epoch    9/  10] [Batch  111/ 125] Loss:  6.15e+00 Nucleotide-Loss:  7.47e-01 Edge-Loss:  5.40e+00\n",
      "[Epoch    9/  10] [Batch  121/ 125] Loss:  6.15e+00 Nucleotide-Loss:  7.47e-01 Edge-Loss:  5.41e+00\n",
      "[Epoch   10/  10] [Batch    1/ 125] Loss:  6.20e+00 Nucleotide-Loss:  7.48e-01 Edge-Loss:  5.45e+00\n",
      "[Epoch   10/  10] [Batch   11/ 125] Loss:  6.18e+00 Nucleotide-Loss:  7.48e-01 Edge-Loss:  5.43e+00\n",
      "[Epoch   10/  10] [Batch   21/ 125] Loss:  6.35e+00 Nucleotide-Loss:  7.48e-01 Edge-Loss:  5.60e+00\n",
      "[Epoch   10/  10] [Batch   31/ 125] Loss:  6.39e+00 Nucleotide-Loss:  7.48e-01 Edge-Loss:  5.64e+00\n",
      "[Epoch   10/  10] [Batch   41/ 125] Loss:  6.17e+00 Nucleotide-Loss:  7.47e-01 Edge-Loss:  5.42e+00\n",
      "[Epoch   10/  10] [Batch   51/ 125] Loss:  6.17e+00 Nucleotide-Loss:  7.47e-01 Edge-Loss:  5.42e+00\n",
      "[Epoch   10/  10] [Batch   61/ 125] Loss:  6.07e+00 Nucleotide-Loss:  7.46e-01 Edge-Loss:  5.33e+00\n",
      "[Epoch   10/  10] [Batch   71/ 125] Loss:  6.22e+00 Nucleotide-Loss:  7.47e-01 Edge-Loss:  5.47e+00\n",
      "[Epoch   10/  10] [Batch   81/ 125] Loss:  6.47e+00 Nucleotide-Loss:  7.46e-01 Edge-Loss:  5.72e+00\n",
      "[Epoch   10/  10] [Batch   91/ 125] Loss:  6.27e+00 Nucleotide-Loss:  7.47e-01 Edge-Loss:  5.52e+00\n",
      "[Epoch   10/  10] [Batch  101/ 125] Loss:  5.89e+00 Nucleotide-Loss:  7.49e-01 Edge-Loss:  5.14e+00\n",
      "[Epoch   10/  10] [Batch  111/ 125] Loss:  6.19e+00 Nucleotide-Loss:  7.48e-01 Edge-Loss:  5.44e+00\n",
      "[Epoch   10/  10] [Batch  121/ 125] Loss:  6.68e+00 Nucleotide-Loss:  7.48e-01 Edge-Loss:  5.93e+00\n"
     ]
    }
   ],
   "source": [
    "from RNARepLearn.utils import mask_batch, reconstruct_bpp\n",
    "##Training\n",
    "train_hist = {}\n",
    "train_hist[\"loss\"]=[]\n",
    "train_hist[\"nucleotide_loss\"]=[]\n",
    "train_hist[\"edge_loss\"]=[]\n",
    "model.train()\n",
    "cel_loss = torch.nn.CrossEntropyLoss()\n",
    "kl_loss = torch.nn.KLDivLoss(reduction='batchmean')\n",
    "\n",
    "for epoch in range(n_epochs):\n",
    "    for idx, batch in enumerate(train_loader):\n",
    "        \n",
    "        true_x = torch.clone(batch.x)\n",
    "        true_edges = torch.clone(batch.edge_attr)\n",
    "\n",
    "        nuc_mask, edge_mask = mask_batch(batch,15)\n",
    "        batch.to(device)\n",
    "        optimizer.zero_grad()\n",
    "        \n",
    "        nucs, bpp = model(batch)\n",
    "\n",
    "        node_loss = cel_loss(nucs.cpu()[nuc_mask],true_x[nuc_mask])\n",
    "        edge_loss = kl_loss(bpp.cpu()[nuc_mask].log() , torch.tensor(reconstruct_bpp(batch.edge_index.cpu(), true_edges, (len(bpp),len(bpp)))[nuc_mask]))\n",
    "        \n",
    "        loss = node_loss + edge_loss\n",
    "        \n",
    "        writer.add_scalar(\"Loss/train\", loss, epoch)\n",
    "        writer.add_scalar(\"Loss_nodes/train\", node_loss, epoch)\n",
    "        writer.add_scalar(\"Loss_edges/train\", edge_loss, epoch)\n",
    "\n",
    "        loss.backward()\n",
    "        optimizer.step()\n",
    "        train_hist[\"loss\"].append(loss.item())\n",
    "        train_hist[\"nucleotide_loss\"].append(node_loss.item())\n",
    "        train_hist[\"edge_loss\"].append(edge_loss.item())\n",
    "        \n",
    "        \n",
    "        if idx % 10 == 0:\n",
    "            print('\\r[Epoch %4d/%4d] [Batch %4d/%4d] Loss: % 2.2e Nucleotide-Loss: % 2.2e Edge-Loss: % 2.2e' % (epoch + 1, n_epochs, \n",
    "                                                                idx + 1, len(train_loader), \n",
    "                                                                loss.item(),node_loss.item(),edge_loss.item()))\n",
    "writer.flush()"
   ]
  },
  {
   "cell_type": "code",
   "execution_count": 14,
   "id": "6cc0a78a-605c-40be-98fc-e8285943bcd3",
   "metadata": {},
   "outputs": [
    {
     "ename": "TypeError",
     "evalue": "clone(): argument 'input' (position 1) must be Tensor, not DataBatch",
     "output_type": "error",
     "traceback": [
      "\u001b[0;31m---------------------------------------------------------------------------\u001b[0m",
      "\u001b[0;31mTypeError\u001b[0m                                 Traceback (most recent call last)",
      "Cell \u001b[0;32mIn[28], line 5\u001b[0m\n\u001b[1;32m      2\u001b[0m test_loader \u001b[38;5;241m=\u001b[39m DataLoader(test_dataset, batch_size\u001b[38;5;241m=\u001b[39m\u001b[38;5;241m32\u001b[39m, shuffle\u001b[38;5;241m=\u001b[39m\u001b[38;5;28;01mTrue\u001b[39;00m)\n\u001b[1;32m      3\u001b[0m testbatch \u001b[38;5;241m=\u001b[39m \u001b[38;5;28mnext\u001b[39m(\u001b[38;5;28miter\u001b[39m(test_loader))\n\u001b[0;32m----> 5\u001b[0m true_batch \u001b[38;5;241m=\u001b[39m \u001b[43mtorch\u001b[49m\u001b[38;5;241;43m.\u001b[39;49m\u001b[43mclone\u001b[49m\u001b[43m(\u001b[49m\u001b[43mtestbatch\u001b[49m\u001b[43m)\u001b[49m\n\u001b[1;32m      6\u001b[0m true_x \u001b[38;5;241m=\u001b[39m true_batch\u001b[38;5;241m.\u001b[39mx\n\u001b[1;32m      7\u001b[0m true_edges \u001b[38;5;241m=\u001b[39m true_batch\u001b[38;5;241m.\u001b[39medge_attr\n",
      "\u001b[0;31mTypeError\u001b[0m: clone(): argument 'input' (position 1) must be Tensor, not DataBatch"
     ]
    }
   ],
   "source": [
    "model.eval()\n",
    "test_loader = DataLoader(test_dataset, batch_size=32, shuffle=True)\n",
    "testbatch = next(iter(test_loader))\n",
    "\n",
    "true_x = torch.clone(testbatch.x)\n",
    "true_edges = torch.clone(testbatch.edge_attr)\n",
    "\n",
    "\n",
    "nuc_mask, edge_mask = mask_batch(testbatch,15)\n",
    "\n",
    "testbatch.to(device)\n",
    "nucs, bpp = model(testbatch)"
   ]
  },
  {
   "cell_type": "code",
   "execution_count": 26,
   "id": "ed33644d-66f6-4fbb-a7d7-b9be3bfaf431",
   "metadata": {},
   "outputs": [
    {
     "data": {
      "text/plain": [
       "1.0"
      ]
     },
     "execution_count": 26,
     "metadata": {},
     "output_type": "execute_result"
    }
   ],
   "source": [
    "correct = (torch.argmax(true_x,dim=1)[nuc_mask] == torch.argmax(nucs.cpu(),dim=1)[nuc_mask]).sum()\n",
    "acc = int(correct) / len(nucs[nuc_mask])\n",
    "acc"
   ]
  },
  {
   "cell_type": "code",
   "execution_count": null,
   "id": "b1323d38-6c95-4fc6-b9ce-ba3ee6166fba",
   "metadata": {},
   "outputs": [
    {
     "ename": "AttributeError",
     "evalue": "'tuple' object has no attribute 'edge_index'",
     "output_type": "error",
     "traceback": [
      "\u001b[0;31m---------------------------------------------------------------------------\u001b[0m",
      "\u001b[0;31mAttributeError\u001b[0m                            Traceback (most recent call last)",
      "Cell \u001b[0;32mIn[27], line 4\u001b[0m\n\u001b[1;32m      1\u001b[0m \u001b[38;5;28;01mimport\u001b[39;00m \u001b[38;5;21;01mRNARepLearn\u001b[39;00m\u001b[38;5;21;01m.\u001b[39;00m\u001b[38;5;21;01mvisualize\u001b[39;00m \u001b[38;5;28;01mas\u001b[39;00m \u001b[38;5;21;01mvis\u001b[39;00m\n\u001b[1;32m      3\u001b[0m \u001b[38;5;28;01mfor\u001b[39;00m sample \u001b[38;5;129;01min\u001b[39;00m testbatch:\n\u001b[0;32m----> 4\u001b[0m     real_bpp \u001b[38;5;241m=\u001b[39m torch\u001b[38;5;241m.\u001b[39mtensor(reconstruct_bpp(\u001b[43msample\u001b[49m\u001b[38;5;241;43m.\u001b[39;49m\u001b[43medge_index\u001b[49m, true_edges, (\u001b[38;5;28mlen\u001b[39m(bpp),\u001b[38;5;28mlen\u001b[39m(bpp))))\n\u001b[1;32m      5\u001b[0m     vis\u001b[38;5;241m.\u001b[39mcompare_bpps(real_bpp, bpp\u001b[38;5;241m.\u001b[39mcpu())\n\u001b[1;32m      6\u001b[0m     \u001b[38;5;28;01mbreak\u001b[39;00m\n",
      "\u001b[0;31mAttributeError\u001b[0m: 'tuple' object has no attribute 'edge_index'"
     ]
    }
   ],
   "source": [
    "import RNARepLearn.visualize as vis\n",
    "\n",
    "for sample in testbatch:\n",
    "    real_bpp = torch.tensor(reconstruct_bpp(sample.edge_index, true_edges, (len(bpp),len(bpp))))\n",
    "    vis.compare_bpps(real_bpp, bpp.cpu())\n",
    "    break"
   ]
  },
  {
   "cell_type": "code",
   "execution_count": null,
   "id": "3c0594e3-2a6f-4650-b210-b731c1a966cd",
   "metadata": {},
   "outputs": [],
   "source": []
  }
 ],
 "metadata": {
  "kernelspec": {
   "display_name": "RFAM",
   "language": "python",
   "name": "rfam"
  },
  "language_info": {
   "codemirror_mode": {
    "name": "ipython",
    "version": 3
   },
   "file_extension": ".py",
   "mimetype": "text/x-python",
   "name": "python",
   "nbconvert_exporter": "python",
   "pygments_lexer": "ipython3",
   "version": "3.10.8"
  }
 },
 "nbformat": 4,
 "nbformat_minor": 5
}
