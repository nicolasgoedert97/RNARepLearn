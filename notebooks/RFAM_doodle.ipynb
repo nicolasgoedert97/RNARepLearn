{
 "cells": [
  {
   "cell_type": "code",
   "execution_count": 1,
   "id": "1c857e57-8f50-491e-9979-2f478d86e6cd",
   "metadata": {},
   "outputs": [
    {
     "name": "stderr",
     "output_type": "stream",
     "text": [
      "/home/icb/vnicolas.goedert/miniconda3/envs/RFAM/lib/python3.10/site-packages/tqdm/auto.py:22: TqdmWarning: IProgress not found. Please update jupyter and ipywidgets. See https://ipywidgets.readthedocs.io/en/stable/user_install.html\n",
      "  from .autonotebook import tqdm as notebook_tqdm\n"
     ]
    }
   ],
   "source": [
    "import torch\n",
    "import torch_geometric"
   ]
  },
  {
   "cell_type": "code",
   "execution_count": 2,
   "id": "fde15794-e4d9-43d1-87dd-c6f47579d4a5",
   "metadata": {},
   "outputs": [
    {
     "name": "stdout",
     "output_type": "stream",
     "text": [
      "Processing complete\n",
      "Training:\t19085\n",
      "Test:\t238\n",
      "Validation:\t4534\n"
     ]
    },
    {
     "name": "stderr",
     "output_type": "stream",
     "text": [
      "Processing...\n",
      "Done!\n"
     ]
    }
   ],
   "source": [
    "rfam_dir = \"../rfam/data/raw/processed/release-14.8\"\n",
    "rfams = [\"RF00001\",\"RF00005\",\"RF00169\",\"RF00050\", \"RF00020\"]\n",
    "\n",
    "from RNARepLearn.datasets import CombinedRfamDataset, SingleRfamDataset\n",
    "#dataset = CombinedRfamDataset(rfam_dir, rfams, \"Under300\", 15, 300)\n",
    "#dataset = CombinedRfamDataset(rfam_dir, [\"RF00001\",\"RF00005\"], \"RF00001_RF00005\")\n",
    "#dataset = SingleRfamDataset(rfam_dir,\"RF00001\")\n",
    "dataset = CombinedRfamDataset(rfam_dir, rfams, \"Under1000_RF00001_RF00005_RF00169_RF00050_RF00020\", 1000)\n",
    "\n",
    "from RNARepLearn.utils import train_val_test_loaders\n",
    "\n",
    "train_loader, val_loader, test_loader = train_val_test_loaders(dataset, 0.8, 0.01, 0.19)"
   ]
  },
  {
   "cell_type": "code",
   "execution_count": null,
   "id": "43ef40b1-0171-496f-a8fa-9b186b7a812a",
   "metadata": {},
   "outputs": [],
   "source": [
    "from torch.utils.tensorboard import SummaryWriter\n",
    "writer = SummaryWriter(\"runs/Masked2501\")"
   ]
  },
  {
   "cell_type": "code",
   "execution_count": 3,
   "id": "8fcef9ed-0b72-4587-afaa-4ddb840b949a",
   "metadata": {},
   "outputs": [],
   "source": [
    "from RNARepLearn.modules import LinearEmbedding, RPINetEncoder, AttentionDecoder\n",
    "layers = []\n",
    "layers.append(RPINetEncoder(4, 32, 3, 3))\n",
    "layers.append(AttentionDecoder(32, 4))\n",
    "model = torch.nn.Sequential(*layers)"
   ]
  },
  {
   "cell_type": "code",
   "execution_count": 4,
   "id": "f448cf9d-ad09-46ae-b1bb-e25d395e7c6e",
   "metadata": {},
   "outputs": [
    {
     "ename": "NameError",
     "evalue": "name 'writer' is not defined",
     "output_type": "error",
     "traceback": [
      "\u001b[0;31m---------------------------------------------------------------------------\u001b[0m",
      "\u001b[0;31mNameError\u001b[0m                                 Traceback (most recent call last)",
      "Cell \u001b[0;32mIn[4], line 2\u001b[0m\n\u001b[1;32m      1\u001b[0m \u001b[38;5;28;01mfrom\u001b[39;00m \u001b[38;5;21;01mRNARepLearn\u001b[39;00m\u001b[38;5;21;01m.\u001b[39;00m\u001b[38;5;21;01mtrain\u001b[39;00m \u001b[38;5;28;01mimport\u001b[39;00m MaskedTraining, AutoEncoder\n\u001b[0;32m----> 2\u001b[0m training \u001b[38;5;241m=\u001b[39m MaskedTraining(model, \u001b[38;5;241m3\u001b[39m, \u001b[38;5;241m15\u001b[39m, \u001b[43mwriter\u001b[49m)\n\u001b[1;32m      3\u001b[0m \u001b[38;5;66;03m#training = AutoEncoder(model, 3, 15)\u001b[39;00m\n",
      "\u001b[0;31mNameError\u001b[0m: name 'writer' is not defined"
     ]
    }
   ],
   "source": [
    "from RNARepLearn.train import MaskedTraining, AutoEncoder\n",
    "training = MaskedTraining(model, 3, 15, writer)\n",
    "#training = AutoEncoder(model, 3, 15)"
   ]
  },
  {
   "cell_type": "code",
   "execution_count": null,
   "id": "cf5083fa-ddc9-4de8-9d53-b5a2d20be8c7",
   "metadata": {},
   "outputs": [],
   "source": [
    "training.run(train_loader, val_loader)"
   ]
  },
  {
   "cell_type": "code",
   "execution_count": 9,
   "id": "34acaf4f-ab99-4c63-8c5f-939ac3788de0",
   "metadata": {},
   "outputs": [
    {
     "data": {
      "text/plain": [
       "DataBatch(x=[3624, 4], edge_index=[2, 157000], edge_weight=[157000], rfam=[32], ID=[32], batch=[3624], ptr=[33])"
      ]
     },
     "execution_count": 9,
     "metadata": {},
     "output_type": "execute_result"
    }
   ],
   "source": [
    "from RNARepLearn.modules import GCN_Encoder\n",
    "batch = next(iter(train_loader))\n",
    "batch"
   ]
  },
  {
   "cell_type": "code",
   "execution_count": 10,
   "id": "02d51171-4a35-4866-8746-bf14658d22a1",
   "metadata": {},
   "outputs": [],
   "source": [
    "encoder = GCN_Encoder(4,64,9, 5).double()"
   ]
  },
  {
   "cell_type": "code",
   "execution_count": 11,
   "id": "6411c59f-438f-4d9e-9cd5-21ff7ef2080a",
   "metadata": {},
   "outputs": [
    {
     "data": {
      "text/plain": [
       "DataBatch(x=[3624, 64], edge_index=[2, 157000], edge_weight=[157000], rfam=[32], ID=[32], batch=[3624], ptr=[33])"
      ]
     },
     "execution_count": 11,
     "metadata": {},
     "output_type": "execute_result"
    }
   ],
   "source": [
    "encoder(batch)"
   ]
  },
  {
   "cell_type": "code",
   "execution_count": null,
   "id": "207d1543-d3c3-48b7-9469-b5122eb869ec",
   "metadata": {},
   "outputs": [],
   "source": []
  }
 ],
 "metadata": {
  "kernelspec": {
   "display_name": "RFAM",
   "language": "python",
   "name": "rfam"
  },
  "language_info": {
   "codemirror_mode": {
    "name": "ipython",
    "version": 3
   },
   "file_extension": ".py",
   "mimetype": "text/x-python",
   "name": "python",
   "nbconvert_exporter": "python",
   "pygments_lexer": "ipython3",
   "version": "3.10.8"
  }
 },
 "nbformat": 4,
 "nbformat_minor": 5
}
