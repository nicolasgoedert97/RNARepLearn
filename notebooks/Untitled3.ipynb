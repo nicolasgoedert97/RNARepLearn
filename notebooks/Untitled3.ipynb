{
 "cells": [
  {
   "cell_type": "code",
   "execution_count": 1,
   "id": "98b7e64e-5cff-4860-87ed-dfa8aefa9c98",
   "metadata": {},
   "outputs": [],
   "source": [
    "import pandas as pd\n",
    "import matplotlib.pyplot as plt"
   ]
  },
  {
   "cell_type": "code",
   "execution_count": 2,
   "id": "d34b1e3d-a70c-4389-8673-2b6c3d8daf3e",
   "metadata": {},
   "outputs": [],
   "source": [
    "sizes = pd.read_csv(\"/home/icb/vnicolas.goedert/workspace/RNARepLearn/rfam/data/raw/processed/release-14.8/all_sizes\", delim_whitespace=True, header= None)\n",
    "sizes.columns=[\"RFAM\",\"sample\",\"size\"]"
   ]
  },
  {
   "cell_type": "code",
   "execution_count": 8,
   "id": "ae0e5c7e-7ac1-40cd-aec7-2c5504463350",
   "metadata": {},
   "outputs": [
    {
     "data": {
      "image/png": "[encoded data removed]",
      "text/plain": [
       "<Figure size 640x480 with 1 Axes>"
      ]
     },
     "metadata": {},
     "output_type": "display_data"
    }
   ],
   "source": [
    "plt.hist(sizes[\"size\"], bins=range(min(sizes[\"size\"]), 3000, 50))\n",
    "plt.show()"
   ]
  },
  {
   "cell_type": "code",
   "execution_count": 13,
   "id": "d0593e8f-fa03-4531-bb5a-66bbd3d56271",
   "metadata": {},
   "outputs": [
    {
     "data": {
      "text/plain": [
       "3107422"
      ]
     },
     "execution_count": 13,
     "metadata": {},
     "output_type": "execute_result"
    }
   ],
   "source": [
    "len(sizes[\"size\"])"
   ]
  },
  {
   "cell_type": "code",
   "execution_count": 15,
   "id": "7c5b22a5-0fc0-4eae-aedb-edd17a7ac78e",
   "metadata": {},
   "outputs": [
    {
     "data": {
      "text/html": [
       "<div>\n",
       "<style scoped>\n",
       "    .dataframe tbody tr th:only-of-type {\n",
       "        vertical-align: middle;\n",
       "    }\n",
       "\n",
       "    .dataframe tbody tr th {\n",
       "        vertical-align: top;\n",
       "    }\n",
       "\n",
       "    .dataframe thead th {\n",
       "        text-align: right;\n",
       "    }\n",
       "</style>\n",
       "<table border=\"1\" class=\"dataframe\">\n",
       "  <thead>\n",
       "    <tr style=\"text-align: right;\">\n",
       "      <th></th>\n",
       "      <th>RFAM</th>\n",
       "      <th>sample</th>\n",
       "      <th>size</th>\n",
       "    </tr>\n",
       "  </thead>\n",
       "  <tbody>\n",
       "    <tr>\n",
       "      <th>0</th>\n",
       "      <td>RF03874</td>\n",
       "      <td>CM000012.3/40720025-40720129</td>\n",
       "      <td>105</td>\n",
       "    </tr>\n",
       "    <tr>\n",
       "      <th>1</th>\n",
       "      <td>RF03874</td>\n",
       "      <td>CM000039.3/48070580-48070476</td>\n",
       "      <td>105</td>\n",
       "    </tr>\n",
       "    <tr>\n",
       "      <th>2</th>\n",
       "      <td>RF03874</td>\n",
       "      <td>CM000039.3/97891177-97891281</td>\n",
       "      <td>105</td>\n",
       "    </tr>\n",
       "    <tr>\n",
       "      <th>3</th>\n",
       "      <td>RF03874</td>\n",
       "      <td>CM000015.3/30958770-30958874</td>\n",
       "      <td>105</td>\n",
       "    </tr>\n",
       "    <tr>\n",
       "      <th>4</th>\n",
       "      <td>RF03874</td>\n",
       "      <td>CM000001.3/62682320-62682424</td>\n",
       "      <td>105</td>\n",
       "    </tr>\n",
       "    <tr>\n",
       "      <th>...</th>\n",
       "      <td>...</td>\n",
       "      <td>...</td>\n",
       "      <td>...</td>\n",
       "    </tr>\n",
       "    <tr>\n",
       "      <th>3107417</th>\n",
       "      <td>RF02335</td>\n",
       "      <td>CH991768.1/104127-104022</td>\n",
       "      <td>106</td>\n",
       "    </tr>\n",
       "    <tr>\n",
       "      <th>3107418</th>\n",
       "      <td>RF02335</td>\n",
       "      <td>AHHH01000007.1/11193-11088</td>\n",
       "      <td>106</td>\n",
       "    </tr>\n",
       "    <tr>\n",
       "      <th>3107419</th>\n",
       "      <td>RF02335</td>\n",
       "      <td>AY820283.1/1-104</td>\n",
       "      <td>104</td>\n",
       "    </tr>\n",
       "    <tr>\n",
       "      <th>3107420</th>\n",
       "      <td>RF02335</td>\n",
       "      <td>L27110.1/23-125</td>\n",
       "      <td>103</td>\n",
       "    </tr>\n",
       "    <tr>\n",
       "      <th>3107421</th>\n",
       "      <td>RF02335</td>\n",
       "      <td>AACB02000005.1/19712-19607</td>\n",
       "      <td>106</td>\n",
       "    </tr>\n",
       "  </tbody>\n",
       "</table>\n",
       "<p>3107422 rows × 3 columns</p>\n",
       "</div>"
      ],
      "text/plain": [
       "            RFAM                        sample  size\n",
       "0        RF03874  CM000012.3/40720025-40720129   105\n",
       "1        RF03874  CM000039.3/48070580-48070476   105\n",
       "2        RF03874  CM000039.3/97891177-97891281   105\n",
       "3        RF03874  CM000015.3/30958770-30958874   105\n",
       "4        RF03874  CM000001.3/62682320-62682424   105\n",
       "...          ...                           ...   ...\n",
       "3107417  RF02335      CH991768.1/104127-104022   106\n",
       "3107418  RF02335    AHHH01000007.1/11193-11088   106\n",
       "3107419  RF02335              AY820283.1/1-104   104\n",
       "3107420  RF02335               L27110.1/23-125   103\n",
       "3107421  RF02335    AACB02000005.1/19712-19607   106\n",
       "\n",
       "[3107422 rows x 3 columns]"
      ]
     },
     "execution_count": 15,
     "metadata": {},
     "output_type": "execute_result"
    }
   ],
   "source": [
    "sizes"
   ]
  },
  {
   "cell_type": "code",
   "execution_count": 16,
   "id": "d2d5704c-2ad0-4870-9f1b-e302c79248aa",
   "metadata": {},
   "outputs": [],
   "source": [
    "sizes[\"path\"]=sizes[\"RFAM\"]+\"/\"+sizes[\"sample\"]"
   ]
  },
  {
   "cell_type": "code",
   "execution_count": 18,
   "id": "e404aba1-894d-4abd-acdf-27f7a7ca9390",
   "metadata": {},
   "outputs": [],
   "source": [
    "sizes_u300 = sizes[sizes[\"size\"]<300]"
   ]
  },
  {
   "cell_type": "code",
   "execution_count": 19,
   "id": "6f0fc56f-d1f4-418d-b6d5-05ce08da045c",
   "metadata": {},
   "outputs": [
    {
     "data": {
      "text/html": [
       "<div>\n",
       "<style scoped>\n",
       "    .dataframe tbody tr th:only-of-type {\n",
       "        vertical-align: middle;\n",
       "    }\n",
       "\n",
       "    .dataframe tbody tr th {\n",
       "        vertical-align: top;\n",
       "    }\n",
       "\n",
       "    .dataframe thead th {\n",
       "        text-align: right;\n",
       "    }\n",
       "</style>\n",
       "<table border=\"1\" class=\"dataframe\">\n",
       "  <thead>\n",
       "    <tr style=\"text-align: right;\">\n",
       "      <th></th>\n",
       "      <th>RFAM</th>\n",
       "      <th>sample</th>\n",
       "      <th>size</th>\n",
       "      <th>path</th>\n",
       "    </tr>\n",
       "  </thead>\n",
       "  <tbody>\n",
       "    <tr>\n",
       "      <th>0</th>\n",
       "      <td>RF03874</td>\n",
       "      <td>CM000012.3/40720025-40720129</td>\n",
       "      <td>105</td>\n",
       "      <td>RF03874/CM000012.3/40720025-40720129</td>\n",
       "    </tr>\n",
       "    <tr>\n",
       "      <th>1</th>\n",
       "      <td>RF03874</td>\n",
       "      <td>CM000039.3/48070580-48070476</td>\n",
       "      <td>105</td>\n",
       "      <td>RF03874/CM000039.3/48070580-48070476</td>\n",
       "    </tr>\n",
       "    <tr>\n",
       "      <th>2</th>\n",
       "      <td>RF03874</td>\n",
       "      <td>CM000039.3/97891177-97891281</td>\n",
       "      <td>105</td>\n",
       "      <td>RF03874/CM000039.3/97891177-97891281</td>\n",
       "    </tr>\n",
       "    <tr>\n",
       "      <th>3</th>\n",
       "      <td>RF03874</td>\n",
       "      <td>CM000015.3/30958770-30958874</td>\n",
       "      <td>105</td>\n",
       "      <td>RF03874/CM000015.3/30958770-30958874</td>\n",
       "    </tr>\n",
       "    <tr>\n",
       "      <th>4</th>\n",
       "      <td>RF03874</td>\n",
       "      <td>CM000001.3/62682320-62682424</td>\n",
       "      <td>105</td>\n",
       "      <td>RF03874/CM000001.3/62682320-62682424</td>\n",
       "    </tr>\n",
       "    <tr>\n",
       "      <th>...</th>\n",
       "      <td>...</td>\n",
       "      <td>...</td>\n",
       "      <td>...</td>\n",
       "      <td>...</td>\n",
       "    </tr>\n",
       "    <tr>\n",
       "      <th>3107417</th>\n",
       "      <td>RF02335</td>\n",
       "      <td>CH991768.1/104127-104022</td>\n",
       "      <td>106</td>\n",
       "      <td>RF02335/CH991768.1/104127-104022</td>\n",
       "    </tr>\n",
       "    <tr>\n",
       "      <th>3107418</th>\n",
       "      <td>RF02335</td>\n",
       "      <td>AHHH01000007.1/11193-11088</td>\n",
       "      <td>106</td>\n",
       "      <td>RF02335/AHHH01000007.1/11193-11088</td>\n",
       "    </tr>\n",
       "    <tr>\n",
       "      <th>3107419</th>\n",
       "      <td>RF02335</td>\n",
       "      <td>AY820283.1/1-104</td>\n",
       "      <td>104</td>\n",
       "      <td>RF02335/AY820283.1/1-104</td>\n",
       "    </tr>\n",
       "    <tr>\n",
       "      <th>3107420</th>\n",
       "      <td>RF02335</td>\n",
       "      <td>L27110.1/23-125</td>\n",
       "      <td>103</td>\n",
       "      <td>RF02335/L27110.1/23-125</td>\n",
       "    </tr>\n",
       "    <tr>\n",
       "      <th>3107421</th>\n",
       "      <td>RF02335</td>\n",
       "      <td>AACB02000005.1/19712-19607</td>\n",
       "      <td>106</td>\n",
       "      <td>RF02335/AACB02000005.1/19712-19607</td>\n",
       "    </tr>\n",
       "  </tbody>\n",
       "</table>\n",
       "<p>2987539 rows × 4 columns</p>\n",
       "</div>"
      ],
      "text/plain": [
       "            RFAM                        sample  size  \\\n",
       "0        RF03874  CM000012.3/40720025-40720129   105   \n",
       "1        RF03874  CM000039.3/48070580-48070476   105   \n",
       "2        RF03874  CM000039.3/97891177-97891281   105   \n",
       "3        RF03874  CM000015.3/30958770-30958874   105   \n",
       "4        RF03874  CM000001.3/62682320-62682424   105   \n",
       "...          ...                           ...   ...   \n",
       "3107417  RF02335      CH991768.1/104127-104022   106   \n",
       "3107418  RF02335    AHHH01000007.1/11193-11088   106   \n",
       "3107419  RF02335              AY820283.1/1-104   104   \n",
       "3107420  RF02335               L27110.1/23-125   103   \n",
       "3107421  RF02335    AACB02000005.1/19712-19607   106   \n",
       "\n",
       "                                         path  \n",
       "0        RF03874/CM000012.3/40720025-40720129  \n",
       "1        RF03874/CM000039.3/48070580-48070476  \n",
       "2        RF03874/CM000039.3/97891177-97891281  \n",
       "3        RF03874/CM000015.3/30958770-30958874  \n",
       "4        RF03874/CM000001.3/62682320-62682424  \n",
       "...                                       ...  \n",
       "3107417      RF02335/CH991768.1/104127-104022  \n",
       "3107418    RF02335/AHHH01000007.1/11193-11088  \n",
       "3107419              RF02335/AY820283.1/1-104  \n",
       "3107420               RF02335/L27110.1/23-125  \n",
       "3107421    RF02335/AACB02000005.1/19712-19607  \n",
       "\n",
       "[2987539 rows x 4 columns]"
      ]
     },
     "execution_count": 19,
     "metadata": {},
     "output_type": "execute_result"
    }
   ],
   "source": [
    "sizes_u300"
   ]
  },
  {
   "cell_type": "code",
   "execution_count": 21,
   "id": "f85147e8-f6a6-4c55-ac32-a9c997b3bad6",
   "metadata": {},
   "outputs": [],
   "source": [
    "sizes_u300[\"path\"].to_csv(\"/lustre/groups/crna01/workspace/nicolas_msc/RNARepLearn/rfam/data/raw/processed/release-14.8/under300/files.list\", index=False)"
   ]
  },
  {
   "cell_type": "code",
   "execution_count": 22,
   "id": "7a3ee8a0-697a-4bf0-8776-97ac8fb1de14",
   "metadata": {},
   "outputs": [
    {
     "name": "stderr",
     "output_type": "stream",
     "text": [
      "/home/icb/vnicolas.goedert/miniconda3/envs/RNARepLearn/lib/python3.10/site-packages/tqdm/auto.py:22: TqdmWarning: IProgress not found. Please update jupyter and ipywidgets. See https://ipywidgets.readthedocs.io/en/stable/user_install.html\n",
      "  from .autonotebook import tqdm as notebook_tqdm\n"
     ]
    }
   ],
   "source": [
    "from RNARepLearn.datasets import CombinedRfamDataset"
   ]
  },
  {
   "cell_type": "code",
   "execution_count": 25,
   "id": "1b33e9ab-69f9-4d45-a1b2-62c640365234",
   "metadata": {},
   "outputs": [
    {
     "name": "stderr",
     "output_type": "stream",
     "text": [
      "Processing...\n"
     ]
    },
    {
     "name": "stdout",
     "output_type": "stream",
     "text": [
      "Processing complete\n"
     ]
    },
    {
     "name": "stderr",
     "output_type": "stream",
     "text": [
      "Done!\n"
     ]
    }
   ],
   "source": [
    "ds = CombinedRfamDataset(\"/lustre/groups/crna01/workspace/nicolas_msc/RNARepLearn/rfam/data/raw/processed/release-14.8/\",None, \"under300\")"
   ]
  },
  {
   "cell_type": "code",
   "execution_count": 27,
   "id": "334c0fc3-0f3d-4a75-9dc7-f966031b7478",
   "metadata": {},
   "outputs": [],
   "source": [
    "import numpy as np"
   ]
  },
  {
   "cell_type": "code",
   "execution_count": 44,
   "id": "cb961e67-5f80-4e70-9b82-e83fb89b55a2",
   "metadata": {},
   "outputs": [
    {
     "ename": "KeyboardInterrupt",
     "evalue": "",
     "output_type": "error",
     "traceback": [
      "\u001b[0;31m---------------------------------------------------------------------------\u001b[0m",
      "\u001b[0;31mKeyboardInterrupt\u001b[0m                         Traceback (most recent call last)",
      "Cell \u001b[0;32mIn[44], line 2\u001b[0m\n\u001b[1;32m      1\u001b[0m \u001b[38;5;28;01mwhile\u001b[39;00m \u001b[38;5;28;01mTrue\u001b[39;00m:\n\u001b[0;32m----> 2\u001b[0m     x \u001b[38;5;241m=\u001b[39m \u001b[43mnp\u001b[49m\u001b[38;5;241;43m.\u001b[39;49m\u001b[43mload\u001b[49m\u001b[43m(\u001b[49m\u001b[38;5;124;43m\"\u001b[39;49m\u001b[38;5;124;43m/home/icb/vnicolas.goedert/workspace/RNARepLearn/rfam/data/raw/processed/release-14.8/RF00005/RF00005.npy\u001b[39;49m\u001b[38;5;124;43m\"\u001b[39;49m\u001b[43m,\u001b[49m\u001b[43m \u001b[49m\u001b[43mallow_pickle\u001b[49m\u001b[38;5;241;43m=\u001b[39;49m\u001b[38;5;28;43;01mTrue\u001b[39;49;00m\u001b[43m)\u001b[49m\u001b[38;5;241m.\u001b[39mitem()\n\u001b[1;32m      3\u001b[0m     \u001b[38;5;28;01mif\u001b[39;00m x[\u001b[38;5;124m'\u001b[39m\u001b[38;5;124mid\u001b[39m\u001b[38;5;124m'\u001b[39m] \u001b[38;5;241m==\u001b[39m \u001b[38;5;124m\"\u001b[39m\u001b[38;5;124mLSSL01001697.1/7778-7849\u001b[39m\u001b[38;5;124m\"\u001b[39m:\n\u001b[1;32m      4\u001b[0m         \u001b[38;5;28mprint\u001b[39m(x)\n",
      "File \u001b[0;32m~/miniconda3/envs/RNARepLearn/lib/python3.10/site-packages/numpy/lib/npyio.py:432\u001b[0m, in \u001b[0;36mload\u001b[0;34m(file, mmap_mode, allow_pickle, fix_imports, encoding, max_header_size)\u001b[0m\n\u001b[1;32m    429\u001b[0m         \u001b[38;5;28;01mreturn\u001b[39;00m \u001b[38;5;28mformat\u001b[39m\u001b[38;5;241m.\u001b[39mopen_memmap(file, mode\u001b[38;5;241m=\u001b[39mmmap_mode,\n\u001b[1;32m    430\u001b[0m                                   max_header_size\u001b[38;5;241m=\u001b[39mmax_header_size)\n\u001b[1;32m    431\u001b[0m     \u001b[38;5;28;01melse\u001b[39;00m:\n\u001b[0;32m--> 432\u001b[0m         \u001b[38;5;28;01mreturn\u001b[39;00m \u001b[38;5;28;43mformat\u001b[39;49m\u001b[38;5;241;43m.\u001b[39;49m\u001b[43mread_array\u001b[49m\u001b[43m(\u001b[49m\u001b[43mfid\u001b[49m\u001b[43m,\u001b[49m\u001b[43m \u001b[49m\u001b[43mallow_pickle\u001b[49m\u001b[38;5;241;43m=\u001b[39;49m\u001b[43mallow_pickle\u001b[49m\u001b[43m,\u001b[49m\n\u001b[1;32m    433\u001b[0m \u001b[43m                                 \u001b[49m\u001b[43mpickle_kwargs\u001b[49m\u001b[38;5;241;43m=\u001b[39;49m\u001b[43mpickle_kwargs\u001b[49m\u001b[43m,\u001b[49m\n\u001b[1;32m    434\u001b[0m \u001b[43m                                 \u001b[49m\u001b[43mmax_header_size\u001b[49m\u001b[38;5;241;43m=\u001b[39;49m\u001b[43mmax_header_size\u001b[49m\u001b[43m)\u001b[49m\n\u001b[1;32m    435\u001b[0m \u001b[38;5;28;01melse\u001b[39;00m:\n\u001b[1;32m    436\u001b[0m     \u001b[38;5;66;03m# Try a pickle\u001b[39;00m\n\u001b[1;32m    437\u001b[0m     \u001b[38;5;28;01mif\u001b[39;00m \u001b[38;5;129;01mnot\u001b[39;00m allow_pickle:\n",
      "File \u001b[0;32m~/miniconda3/envs/RNARepLearn/lib/python3.10/site-packages/numpy/lib/format.py:781\u001b[0m, in \u001b[0;36mread_array\u001b[0;34m(fp, allow_pickle, pickle_kwargs, max_header_size)\u001b[0m\n\u001b[1;32m    779\u001b[0m     pickle_kwargs \u001b[38;5;241m=\u001b[39m {}\n\u001b[1;32m    780\u001b[0m \u001b[38;5;28;01mtry\u001b[39;00m:\n\u001b[0;32m--> 781\u001b[0m     array \u001b[38;5;241m=\u001b[39m \u001b[43mpickle\u001b[49m\u001b[38;5;241;43m.\u001b[39;49m\u001b[43mload\u001b[49m\u001b[43m(\u001b[49m\u001b[43mfp\u001b[49m\u001b[43m,\u001b[49m\u001b[43m \u001b[49m\u001b[38;5;241;43m*\u001b[39;49m\u001b[38;5;241;43m*\u001b[39;49m\u001b[43mpickle_kwargs\u001b[49m\u001b[43m)\u001b[49m\n\u001b[1;32m    782\u001b[0m \u001b[38;5;28;01mexcept\u001b[39;00m \u001b[38;5;167;01mUnicodeError\u001b[39;00m \u001b[38;5;28;01mas\u001b[39;00m err:\n\u001b[1;32m    783\u001b[0m     \u001b[38;5;66;03m# Friendlier error message\u001b[39;00m\n\u001b[1;32m    784\u001b[0m     \u001b[38;5;28;01mraise\u001b[39;00m \u001b[38;5;167;01mUnicodeError\u001b[39;00m(\u001b[38;5;124m\"\u001b[39m\u001b[38;5;124mUnpickling a python object failed: \u001b[39m\u001b[38;5;132;01m%r\u001b[39;00m\u001b[38;5;130;01m\\n\u001b[39;00m\u001b[38;5;124m\"\u001b[39m\n\u001b[1;32m    785\u001b[0m                        \u001b[38;5;124m\"\u001b[39m\u001b[38;5;124mYou may need to pass the encoding= option \u001b[39m\u001b[38;5;124m\"\u001b[39m\n\u001b[1;32m    786\u001b[0m                        \u001b[38;5;124m\"\u001b[39m\u001b[38;5;124mto numpy.load\u001b[39m\u001b[38;5;124m\"\u001b[39m \u001b[38;5;241m%\u001b[39m (err,)) \u001b[38;5;28;01mfrom\u001b[39;00m \u001b[38;5;21;01merr\u001b[39;00m\n",
      "\u001b[0;31mKeyboardInterrupt\u001b[0m: "
     ]
    }
   ],
   "source": [
    "while True:\n",
    "    x = np.load(\"/home/icb/vnicolas.goedert/workspace/RNARepLearn/rfam/data/raw/processed/release-14.8/RF00005/RF00005.npy\", allow_pickle=True).item()\n",
    "    if x['id'] == \"LSSL01001697.1/7778-7849\":\n",
    "        print(x)\n",
    "        break"
   ]
  },
  {
   "cell_type": "code",
   "execution_count": 47,
   "id": "ed871b32-50fb-4a07-800f-92e7859c83e8",
   "metadata": {},
   "outputs": [
    {
     "data": {
      "text/plain": [
       "1430083"
      ]
     },
     "execution_count": 47,
     "metadata": {},
     "output_type": "execute_result"
    }
   ],
   "source": [
    "len(sizes[sizes[\"RFAM\"]==\"RF00005\"])"
   ]
  },
  {
   "cell_type": "code",
   "execution_count": null,
   "id": "656a2f03-c273-4df4-bc9a-d772378acb0e",
   "metadata": {},
   "outputs": [],
   "source": []
  }
 ],
 "metadata": {
  "kernelspec": {
   "display_name": "Python 3 (ipykernel)",
   "language": "python",
   "name": "python3"
  },
  "language_info": {
   "codemirror_mode": {
    "name": "ipython",
    "version": 3
   },
   "file_extension": ".py",
   "mimetype": "text/x-python",
   "name": "python",
   "nbconvert_exporter": "python",
   "pygments_lexer": "ipython3",
   "version": "3.10.9"
  }
 },
 "nbformat": 4,
 "nbformat_minor": 5
}
