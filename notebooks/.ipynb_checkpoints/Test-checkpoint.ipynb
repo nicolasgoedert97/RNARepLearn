{
 "cells": [
  {
   "cell_type": "code",
   "execution_count": null,
   "id": "d4fd10ce-800f-4b45-afcf-a9d114f70384",
   "metadata": {},
   "outputs": [],
   "source": [
    "from torch.utils.tensorboard import SummaryWriter\n",
    "writer = SummaryWriter()"
   ]
  }
 ],
 "metadata": {
  "kernelspec": {
   "display_name": "RFAM",
   "language": "python",
   "name": "rfam"
  },
  "language_info": {
   "name": ""
  }
 },
 "nbformat": 4,
 "nbformat_minor": 5
}
