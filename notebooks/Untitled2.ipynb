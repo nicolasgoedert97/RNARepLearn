{
 "cells": [
  {
   "cell_type": "code",
   "execution_count": 40,
   "id": "88aceec6-6a52-469a-9682-9d49aac0ff6d",
   "metadata": {},
   "outputs": [],
   "source": [
    "import torch\n",
    "import torch_geometric"
   ]
  },
  {
   "cell_type": "code",
   "execution_count": 36,
   "id": "aa0f7100-55e2-49cc-88e8-f457bbf00a13",
   "metadata": {},
   "outputs": [
    {
     "name": "stdout",
     "output_type": "stream",
     "text": [
      "Training:\t3212\n",
      "Test:\t401\n",
      "Validation:\t402\n"
     ]
    },
    {
     "name": "stderr",
     "output_type": "stream",
     "text": [
      "Processing...\n",
      "Done!\n"
     ]
    }
   ],
   "source": [
    "from RNARepLearn.datasets import Dataset_UTR5\n",
    "dataset = Dataset_UTR5(\"/lustre/groups/crna01/workspace/nicolas_msc/RNARepLearn/5utr/5UTR_Optimizer/processed/concat\")\n",
    "\n",
    "from RNARepLearn.utils import train_val_test_loaders\n",
    "train_loader, val_loader, test_loader = train_val_test_loaders(dataset, 0.8, 0.1, 0.1,32)"
   ]
  },
  {
   "cell_type": "code",
   "execution_count": 61,
   "id": "4d596c08-266f-4c2c-b2c1-94885d8c92e2",
   "metadata": {},
   "outputs": [],
   "source": [
    "from torch_geometric.utils import to_dense_batch\n",
    "batch = next(iter(train_loader))"
   ]
  },
  {
   "cell_type": "code",
   "execution_count": 62,
   "id": "8bd1b485-4f68-489d-8586-31f02f9d6155",
   "metadata": {},
   "outputs": [
    {
     "ename": "AttributeError",
     "evalue": "'GlobalStorage' object has no attribute 'device'",
     "output_type": "error",
     "traceback": [
      "\u001b[0;31m---------------------------------------------------------------------------\u001b[0m",
      "\u001b[0;31mKeyError\u001b[0m                                  Traceback (most recent call last)",
      "File \u001b[0;32m~/miniconda3/envs/RFAM/lib/python3.10/site-packages/torch_geometric/data/storage.py:61\u001b[0m, in \u001b[0;36mBaseStorage.__getattr__\u001b[0;34m(self, key)\u001b[0m\n\u001b[1;32m     60\u001b[0m \u001b[38;5;28;01mtry\u001b[39;00m:\n\u001b[0;32m---> 61\u001b[0m     \u001b[38;5;28;01mreturn\u001b[39;00m \u001b[38;5;28;43mself\u001b[39;49m\u001b[43m[\u001b[49m\u001b[43mkey\u001b[49m\u001b[43m]\u001b[49m\n\u001b[1;32m     62\u001b[0m \u001b[38;5;28;01mexcept\u001b[39;00m \u001b[38;5;167;01mKeyError\u001b[39;00m:\n",
      "File \u001b[0;32m~/miniconda3/envs/RFAM/lib/python3.10/site-packages/torch_geometric/data/storage.py:81\u001b[0m, in \u001b[0;36mBaseStorage.__getitem__\u001b[0;34m(self, key)\u001b[0m\n\u001b[1;32m     80\u001b[0m \u001b[38;5;28;01mdef\u001b[39;00m \u001b[38;5;21m__getitem__\u001b[39m(\u001b[38;5;28mself\u001b[39m, key: \u001b[38;5;28mstr\u001b[39m) \u001b[38;5;241m-\u001b[39m\u001b[38;5;241m>\u001b[39m Any:\n\u001b[0;32m---> 81\u001b[0m     \u001b[38;5;28;01mreturn\u001b[39;00m \u001b[38;5;28;43mself\u001b[39;49m\u001b[38;5;241;43m.\u001b[39;49m\u001b[43m_mapping\u001b[49m\u001b[43m[\u001b[49m\u001b[43mkey\u001b[49m\u001b[43m]\u001b[49m\n",
      "\u001b[0;31mKeyError\u001b[0m: 'device'",
      "\nDuring handling of the above exception, another exception occurred:\n",
      "\u001b[0;31mAttributeError\u001b[0m                            Traceback (most recent call last)",
      "Cell \u001b[0;32mIn[62], line 1\u001b[0m\n\u001b[0;32m----> 1\u001b[0m dense, mask \u001b[38;5;241m=\u001b[39m \u001b[43mto_dense_batch\u001b[49m\u001b[43m(\u001b[49m\u001b[43mbatch\u001b[49m\u001b[43m)\u001b[49m\n",
      "File \u001b[0;32m~/miniconda3/envs/RFAM/lib/python3.10/site-packages/torch_geometric/utils/to_dense_batch.py:36\u001b[0m, in \u001b[0;36mto_dense_batch\u001b[0;34m(x, batch, fill_value, max_num_nodes, batch_size)\u001b[0m\n\u001b[1;32m     11\u001b[0m \u001b[38;5;124mr\u001b[39m\u001b[38;5;124;03m\"\"\"Given a sparse batch of node features\u001b[39;00m\n\u001b[1;32m     12\u001b[0m \u001b[38;5;124;03m:math:`\\mathbf{X} \\in \\mathbb{R}^{(N_1 + \\ldots + N_B) \\times F}` (with\u001b[39;00m\n\u001b[1;32m     13\u001b[0m \u001b[38;5;124;03m:math:`N_i` indicating the number of nodes in graph :math:`i`), creates a\u001b[39;00m\n\u001b[0;32m   (...)\u001b[0m\n\u001b[1;32m     33\u001b[0m \u001b[38;5;124;03m:rtype: (:class:`Tensor`, :class:`BoolTensor`)\u001b[39;00m\n\u001b[1;32m     34\u001b[0m \u001b[38;5;124;03m\"\"\"\u001b[39;00m\n\u001b[1;32m     35\u001b[0m \u001b[38;5;28;01mif\u001b[39;00m batch \u001b[38;5;129;01mis\u001b[39;00m \u001b[38;5;28;01mNone\u001b[39;00m \u001b[38;5;129;01mand\u001b[39;00m max_num_nodes \u001b[38;5;129;01mis\u001b[39;00m \u001b[38;5;28;01mNone\u001b[39;00m:\n\u001b[0;32m---> 36\u001b[0m     mask \u001b[38;5;241m=\u001b[39m torch\u001b[38;5;241m.\u001b[39mones(\u001b[38;5;241m1\u001b[39m, x\u001b[38;5;241m.\u001b[39msize(\u001b[38;5;241m0\u001b[39m), dtype\u001b[38;5;241m=\u001b[39mtorch\u001b[38;5;241m.\u001b[39mbool, device\u001b[38;5;241m=\u001b[39m\u001b[43mx\u001b[49m\u001b[38;5;241;43m.\u001b[39;49m\u001b[43mdevice\u001b[49m)\n\u001b[1;32m     37\u001b[0m     \u001b[38;5;28;01mreturn\u001b[39;00m x\u001b[38;5;241m.\u001b[39munsqueeze(\u001b[38;5;241m0\u001b[39m), mask\n\u001b[1;32m     39\u001b[0m \u001b[38;5;28;01mif\u001b[39;00m batch \u001b[38;5;129;01mis\u001b[39;00m \u001b[38;5;28;01mNone\u001b[39;00m:\n",
      "File \u001b[0;32m~/miniconda3/envs/RFAM/lib/python3.10/site-packages/torch_geometric/data/data.py:428\u001b[0m, in \u001b[0;36mData.__getattr__\u001b[0;34m(self, key)\u001b[0m\n\u001b[1;32m    422\u001b[0m \u001b[38;5;28;01mif\u001b[39;00m \u001b[38;5;124m'\u001b[39m\u001b[38;5;124m_store\u001b[39m\u001b[38;5;124m'\u001b[39m \u001b[38;5;129;01mnot\u001b[39;00m \u001b[38;5;129;01min\u001b[39;00m \u001b[38;5;28mself\u001b[39m\u001b[38;5;241m.\u001b[39m\u001b[38;5;18m__dict__\u001b[39m:\n\u001b[1;32m    423\u001b[0m     \u001b[38;5;28;01mraise\u001b[39;00m \u001b[38;5;167;01mRuntimeError\u001b[39;00m(\n\u001b[1;32m    424\u001b[0m         \u001b[38;5;124m\"\u001b[39m\u001b[38;5;124mThe \u001b[39m\u001b[38;5;124m'\u001b[39m\u001b[38;5;124mdata\u001b[39m\u001b[38;5;124m'\u001b[39m\u001b[38;5;124m object was created by an older version of PyG. \u001b[39m\u001b[38;5;124m\"\u001b[39m\n\u001b[1;32m    425\u001b[0m         \u001b[38;5;124m\"\u001b[39m\u001b[38;5;124mIf this error occurred while loading an already existing \u001b[39m\u001b[38;5;124m\"\u001b[39m\n\u001b[1;32m    426\u001b[0m         \u001b[38;5;124m\"\u001b[39m\u001b[38;5;124mdataset, remove the \u001b[39m\u001b[38;5;124m'\u001b[39m\u001b[38;5;124mprocessed/\u001b[39m\u001b[38;5;124m'\u001b[39m\u001b[38;5;124m directory in the dataset\u001b[39m\u001b[38;5;124m'\u001b[39m\u001b[38;5;124ms \u001b[39m\u001b[38;5;124m\"\u001b[39m\n\u001b[1;32m    427\u001b[0m         \u001b[38;5;124m\"\u001b[39m\u001b[38;5;124mroot folder and try again.\u001b[39m\u001b[38;5;124m\"\u001b[39m)\n\u001b[0;32m--> 428\u001b[0m \u001b[38;5;28;01mreturn\u001b[39;00m \u001b[38;5;28;43mgetattr\u001b[39;49m\u001b[43m(\u001b[49m\u001b[38;5;28;43mself\u001b[39;49m\u001b[38;5;241;43m.\u001b[39;49m\u001b[43m_store\u001b[49m\u001b[43m,\u001b[49m\u001b[43m \u001b[49m\u001b[43mkey\u001b[49m\u001b[43m)\u001b[49m\n",
      "File \u001b[0;32m~/miniconda3/envs/RFAM/lib/python3.10/site-packages/torch_geometric/data/storage.py:63\u001b[0m, in \u001b[0;36mBaseStorage.__getattr__\u001b[0;34m(self, key)\u001b[0m\n\u001b[1;32m     61\u001b[0m     \u001b[38;5;28;01mreturn\u001b[39;00m \u001b[38;5;28mself\u001b[39m[key]\n\u001b[1;32m     62\u001b[0m \u001b[38;5;28;01mexcept\u001b[39;00m \u001b[38;5;167;01mKeyError\u001b[39;00m:\n\u001b[0;32m---> 63\u001b[0m     \u001b[38;5;28;01mraise\u001b[39;00m \u001b[38;5;167;01mAttributeError\u001b[39;00m(\n\u001b[1;32m     64\u001b[0m         \u001b[38;5;124mf\u001b[39m\u001b[38;5;124m\"\u001b[39m\u001b[38;5;124m'\u001b[39m\u001b[38;5;132;01m{\u001b[39;00m\u001b[38;5;28mself\u001b[39m\u001b[38;5;241m.\u001b[39m\u001b[38;5;18m__class__\u001b[39m\u001b[38;5;241m.\u001b[39m\u001b[38;5;18m__name__\u001b[39m\u001b[38;5;132;01m}\u001b[39;00m\u001b[38;5;124m'\u001b[39m\u001b[38;5;124m object has no attribute \u001b[39m\u001b[38;5;124m'\u001b[39m\u001b[38;5;132;01m{\u001b[39;00mkey\u001b[38;5;132;01m}\u001b[39;00m\u001b[38;5;124m'\u001b[39m\u001b[38;5;124m\"\u001b[39m)\n",
      "\u001b[0;31mAttributeError\u001b[0m: 'GlobalStorage' object has no attribute 'device'"
     ]
    }
   ],
   "source": [
    "dense, mask = to_dense_batch(batch)"
   ]
  },
  {
   "cell_type": "code",
   "execution_count": 4,
   "id": "7e47b8c1-5498-4337-88c0-8bf612f7f540",
   "metadata": {},
   "outputs": [
    {
     "data": {
      "text/plain": [
       "torch.Size([32, 50, 4])"
      ]
     },
     "execution_count": 4,
     "metadata": {},
     "output_type": "execute_result"
    }
   ],
   "source": [
    "to_dense_batch(batch.x, batch.batch)[0].shape"
   ]
  },
  {
   "cell_type": "code",
   "execution_count": 5,
   "id": "ea875ccc-68b1-4086-8553-2568a425fc6a",
   "metadata": {},
   "outputs": [],
   "source": [
    "from RNARepLearn.modules import RPINetEncoder"
   ]
  },
  {
   "cell_type": "code",
   "execution_count": 6,
   "id": "5b8994b6-13d6-4186-b224-88ca62210fee",
   "metadata": {},
   "outputs": [
    {
     "data": {
      "text/plain": [
       "RPINetEncoder(\n",
       "  (body): Sequential(\n",
       "    (0): RPINetGNNLayer()\n",
       "    (1): RPINetGNNLayer()\n",
       "    (2): RPINetGNNLayer()\n",
       "    (3): LSTM(32, 32, bidirectional=True)\n",
       "  )\n",
       ")"
      ]
     },
     "execution_count": 6,
     "metadata": {},
     "output_type": "execute_result"
    }
   ],
   "source": [
    "rpi = RPINetEncoder(4,32, 3, 9)\n",
    "rpi.double()"
   ]
  },
  {
   "cell_type": "code",
   "execution_count": 7,
   "id": "6bd574f2-36d3-41af-b36c-59b03874fe5d",
   "metadata": {},
   "outputs": [
    {
     "data": {
      "text/plain": [
       "DataBatch(x=[1600, 64], edge_index=[2, 14631], edge_weight=[14631], mrl=[32], ID=[32], library=[32], designed=[32], batch=[1600], ptr=[33])"
      ]
     },
     "execution_count": 7,
     "metadata": {},
     "output_type": "execute_result"
    }
   ],
   "source": [
    "batch = next(iter(train_loader))\n",
    "rpi(batch)"
   ]
  },
  {
   "cell_type": "code",
   "execution_count": 1,
   "id": "e3b03def-1961-4560-a920-ff09105ccffe",
   "metadata": {},
   "outputs": [],
   "source": [
    "import pandas as pd"
   ]
  },
  {
   "cell_type": "code",
   "execution_count": 49,
   "id": "f490c130-c998-4940-aad9-5ae0d1b3f57c",
   "metadata": {},
   "outputs": [
    {
     "name": "stderr",
     "output_type": "stream",
     "text": [
      "/tmp/ipykernel_76740/1336151956.py:1: DtypeWarning: Columns (33,34,35,36,37) have mixed types. Specify dtype option on import or set low_memory=False.\n",
      "  csv = pd.read_csv(\"../5utr/5UTR_design/raw/GSM3130443_designed_library.csv\")\n"
     ]
    },
    {
     "data": {
      "text/html": [
       "<div>\n",
       "<style scoped>\n",
       "    .dataframe tbody tr th:only-of-type {\n",
       "        vertical-align: middle;\n",
       "    }\n",
       "\n",
       "    .dataframe tbody tr th {\n",
       "        vertical-align: top;\n",
       "    }\n",
       "\n",
       "    .dataframe thead th {\n",
       "        text-align: right;\n",
       "    }\n",
       "</style>\n",
       "<table border=\"1\" class=\"dataframe\">\n",
       "  <thead>\n",
       "    <tr style=\"text-align: right;\">\n",
       "      <th></th>\n",
       "      <th>Unnamed: 0</th>\n",
       "      <th>utr</th>\n",
       "      <th>0</th>\n",
       "      <th>1</th>\n",
       "      <th>2</th>\n",
       "      <th>3</th>\n",
       "      <th>4</th>\n",
       "      <th>5</th>\n",
       "      <th>6</th>\n",
       "      <th>7</th>\n",
       "      <th>...</th>\n",
       "      <th>rl</th>\n",
       "      <th>id</th>\n",
       "      <th>info1</th>\n",
       "      <th>info2</th>\n",
       "      <th>info3</th>\n",
       "      <th>info4</th>\n",
       "      <th>library</th>\n",
       "      <th>mother</th>\n",
       "      <th>designed</th>\n",
       "      <th>match_score</th>\n",
       "    </tr>\n",
       "  </thead>\n",
       "  <tbody>\n",
       "    <tr>\n",
       "      <th>0</th>\n",
       "      <td>0</td>\n",
       "      <td>CCCACCCCGGGCTCTCTCCTGGCCTCCCACCCCCGCGCCCGGCTTC...</td>\n",
       "      <td>1763</td>\n",
       "      <td>1880</td>\n",
       "      <td>2154</td>\n",
       "      <td>2959</td>\n",
       "      <td>2122</td>\n",
       "      <td>1896</td>\n",
       "      <td>2618</td>\n",
       "      <td>1899</td>\n",
       "      <td>...</td>\n",
       "      <td>4.823082</td>\n",
       "      <td>NC_000012.12:g.4911352C&gt;T</td>\n",
       "      <td>rs886049508</td>\n",
       "      <td>chr12:4911298-4911381</td>\n",
       "      <td>snv</td>\n",
       "      <td>normal</td>\n",
       "      <td>snv</td>\n",
       "      <td>CCCACCCCGGGCTCTCTCCTGGCCTCCCACCCCCGCGCCCGGCTTC...</td>\n",
       "      <td>True</td>\n",
       "      <td>0.0</td>\n",
       "    </tr>\n",
       "    <tr>\n",
       "      <th>1</th>\n",
       "      <td>2</td>\n",
       "      <td>CCGTTCCTCCCCGCAGTCCTTCCCCTCCACTCCCTTCCCCTTCTCT...</td>\n",
       "      <td>1108</td>\n",
       "      <td>1317</td>\n",
       "      <td>774</td>\n",
       "      <td>1201</td>\n",
       "      <td>1813</td>\n",
       "      <td>2011</td>\n",
       "      <td>3340</td>\n",
       "      <td>2454</td>\n",
       "      <td>...</td>\n",
       "      <td>6.252208</td>\n",
       "      <td>8527</td>\n",
       "      <td>ENSG00000105492</td>\n",
       "      <td>ENST00000343300</td>\n",
       "      <td>-</td>\n",
       "      <td>-</td>\n",
       "      <td>human_utrs</td>\n",
       "      <td>CCGTTCCTCCCCGCAGTCCTTCCCCTCCACTCCCTTCCCCTTCTCT...</td>\n",
       "      <td>True</td>\n",
       "      <td>0.0</td>\n",
       "    </tr>\n",
       "    <tr>\n",
       "      <th>2</th>\n",
       "      <td>3</td>\n",
       "      <td>CCCTGATAACTGAATTGTTGTTTGTTTTATTTGTATTGTTGTTTGT...</td>\n",
       "      <td>918</td>\n",
       "      <td>894</td>\n",
       "      <td>523</td>\n",
       "      <td>782</td>\n",
       "      <td>877</td>\n",
       "      <td>999</td>\n",
       "      <td>1436</td>\n",
       "      <td>1799</td>\n",
       "      <td>...</td>\n",
       "      <td>7.499574</td>\n",
       "      <td>3409</td>\n",
       "      <td>20</td>\n",
       "      <td>8.81778335571289</td>\n",
       "      <td>-</td>\n",
       "      <td>-</td>\n",
       "      <td>target_no_uaug_allow_stop</td>\n",
       "      <td>CCCTGATAACTGAATTGTTGTTTGTTTTATTTGTATTGTTGTTTGT...</td>\n",
       "      <td>True</td>\n",
       "      <td>0.0</td>\n",
       "    </tr>\n",
       "    <tr>\n",
       "      <th>3</th>\n",
       "      <td>4</td>\n",
       "      <td>CCTCTGCCCGCCGTTCTGCTCGCTCGCTCCCCGCTCTGGAGTCTGC...</td>\n",
       "      <td>1439</td>\n",
       "      <td>1468</td>\n",
       "      <td>1322</td>\n",
       "      <td>1890</td>\n",
       "      <td>1347</td>\n",
       "      <td>1287</td>\n",
       "      <td>2007</td>\n",
       "      <td>2121</td>\n",
       "      <td>...</td>\n",
       "      <td>5.835379</td>\n",
       "      <td>8772</td>\n",
       "      <td>ENSG00000124570</td>\n",
       "      <td>ENST00000335686</td>\n",
       "      <td>-</td>\n",
       "      <td>-</td>\n",
       "      <td>human_utrs</td>\n",
       "      <td>CCTCTGCCCGCCGTTCTGCTCGCTCGCTCCCCGCTCTGGAGTCTGC...</td>\n",
       "      <td>True</td>\n",
       "      <td>0.0</td>\n",
       "    </tr>\n",
       "    <tr>\n",
       "      <th>4</th>\n",
       "      <td>5</td>\n",
       "      <td>CCGGCCCCGAGGGCAGGCTCTCCCCGGAGGCTCAGCCCCCTCTGCT...</td>\n",
       "      <td>952</td>\n",
       "      <td>876</td>\n",
       "      <td>854</td>\n",
       "      <td>1675</td>\n",
       "      <td>2170</td>\n",
       "      <td>1825</td>\n",
       "      <td>2585</td>\n",
       "      <td>1385</td>\n",
       "      <td>...</td>\n",
       "      <td>5.433105</td>\n",
       "      <td>6322</td>\n",
       "      <td>ENSG00000149932</td>\n",
       "      <td>ENST00000279396</td>\n",
       "      <td>-</td>\n",
       "      <td>-</td>\n",
       "      <td>human_utrs</td>\n",
       "      <td>CCGGCCCCGAGGGCAGGCTCTCCCCGGAGGCTCAGCCCCCTCTGCT...</td>\n",
       "      <td>True</td>\n",
       "      <td>0.0</td>\n",
       "    </tr>\n",
       "    <tr>\n",
       "      <th>...</th>\n",
       "      <td>...</td>\n",
       "      <td>...</td>\n",
       "      <td>...</td>\n",
       "      <td>...</td>\n",
       "      <td>...</td>\n",
       "      <td>...</td>\n",
       "      <td>...</td>\n",
       "      <td>...</td>\n",
       "      <td>...</td>\n",
       "      <td>...</td>\n",
       "      <td>...</td>\n",
       "      <td>...</td>\n",
       "      <td>...</td>\n",
       "      <td>...</td>\n",
       "      <td>...</td>\n",
       "      <td>...</td>\n",
       "      <td>...</td>\n",
       "      <td>...</td>\n",
       "      <td>...</td>\n",
       "      <td>...</td>\n",
       "      <td>...</td>\n",
       "    </tr>\n",
       "    <tr>\n",
       "      <th>100012</th>\n",
       "      <td>53024</td>\n",
       "      <td>CCGAGAGCAGGAGGGCGCATCCGTGGCCGTTCACATGGTTTCAAGG...</td>\n",
       "      <td>6</td>\n",
       "      <td>5</td>\n",
       "      <td>5</td>\n",
       "      <td>15</td>\n",
       "      <td>22</td>\n",
       "      <td>17</td>\n",
       "      <td>13</td>\n",
       "      <td>6</td>\n",
       "      <td>...</td>\n",
       "      <td>4.089237</td>\n",
       "      <td>NaN</td>\n",
       "      <td>NaN</td>\n",
       "      <td>NaN</td>\n",
       "      <td>NaN</td>\n",
       "      <td>NaN</td>\n",
       "      <td>human_utrs</td>\n",
       "      <td>CCGAGAGCAGGCGGGCGCATCCGTGGCCGTTCACATGGTTTCAAGG...</td>\n",
       "      <td>False</td>\n",
       "      <td>98.0</td>\n",
       "    </tr>\n",
       "    <tr>\n",
       "      <th>100013</th>\n",
       "      <td>53025</td>\n",
       "      <td>CAATTTGTTGGTTTAGTCTTCTATCTGTCACCGACAGGAAAATCAT...</td>\n",
       "      <td>6</td>\n",
       "      <td>7</td>\n",
       "      <td>6</td>\n",
       "      <td>3</td>\n",
       "      <td>4</td>\n",
       "      <td>3</td>\n",
       "      <td>8</td>\n",
       "      <td>8</td>\n",
       "      <td>...</td>\n",
       "      <td>7.380217</td>\n",
       "      <td>NaN</td>\n",
       "      <td>NaN</td>\n",
       "      <td>NaN</td>\n",
       "      <td>NaN</td>\n",
       "      <td>NaN</td>\n",
       "      <td>target_no_uaug_allow_stop</td>\n",
       "      <td>AAATTTGTTGGTTTAGTCTTCTATCTGTCACCGACAGGAAAATCAT...</td>\n",
       "      <td>False</td>\n",
       "      <td>96.0</td>\n",
       "    </tr>\n",
       "    <tr>\n",
       "      <th>100014</th>\n",
       "      <td>53026</td>\n",
       "      <td>CCGGGATACTTCACGTTAGGGGTCGGAAAAGATGAAACACAGGAAG...</td>\n",
       "      <td>6</td>\n",
       "      <td>9</td>\n",
       "      <td>16</td>\n",
       "      <td>28</td>\n",
       "      <td>16</td>\n",
       "      <td>12</td>\n",
       "      <td>7</td>\n",
       "      <td>0</td>\n",
       "      <td>...</td>\n",
       "      <td>2.335412</td>\n",
       "      <td>NaN</td>\n",
       "      <td>NaN</td>\n",
       "      <td>NaN</td>\n",
       "      <td>NaN</td>\n",
       "      <td>NaN</td>\n",
       "      <td>egfp_controls</td>\n",
       "      <td>CCGGGCTACTTCACGTTAGGGGTCGGAAAAGATGAAACACAGGAAG...</td>\n",
       "      <td>False</td>\n",
       "      <td>98.0</td>\n",
       "    </tr>\n",
       "    <tr>\n",
       "      <th>100015</th>\n",
       "      <td>53027</td>\n",
       "      <td>CATTCTATTTTGGAATCTCTATGTGTTTGGTTCAAATGGCGAAAAA...</td>\n",
       "      <td>15</td>\n",
       "      <td>3</td>\n",
       "      <td>0</td>\n",
       "      <td>4</td>\n",
       "      <td>0</td>\n",
       "      <td>6</td>\n",
       "      <td>3</td>\n",
       "      <td>10</td>\n",
       "      <td>...</td>\n",
       "      <td>7.121724</td>\n",
       "      <td>NaN</td>\n",
       "      <td>NaN</td>\n",
       "      <td>NaN</td>\n",
       "      <td>NaN</td>\n",
       "      <td>NaN</td>\n",
       "      <td>step_worst_to_best_allow_uatg</td>\n",
       "      <td>TATTCTATTTTGGAATCTCTATGTGTTTGGTTCAAATGGCGAAAAA...</td>\n",
       "      <td>False</td>\n",
       "      <td>98.0</td>\n",
       "    </tr>\n",
       "    <tr>\n",
       "      <th>100016</th>\n",
       "      <td>53028</td>\n",
       "      <td>CGACCCGACCGCACCCGGCGCCTGCCCTCGCTCGGCGTCCCCGGTC...</td>\n",
       "      <td>11</td>\n",
       "      <td>7</td>\n",
       "      <td>5</td>\n",
       "      <td>11</td>\n",
       "      <td>3</td>\n",
       "      <td>9</td>\n",
       "      <td>15</td>\n",
       "      <td>5</td>\n",
       "      <td>...</td>\n",
       "      <td>5.694511</td>\n",
       "      <td>NaN</td>\n",
       "      <td>NaN</td>\n",
       "      <td>NaN</td>\n",
       "      <td>NaN</td>\n",
       "      <td>NaN</td>\n",
       "      <td>snv</td>\n",
       "      <td>CGACCCGACCGCACCCGGCGCCTGCCCTCGCTCGGCGTCCCCGGTC...</td>\n",
       "      <td>False</td>\n",
       "      <td>98.0</td>\n",
       "    </tr>\n",
       "  </tbody>\n",
       "</table>\n",
       "<p>100017 rows × 42 columns</p>\n",
       "</div>"
      ],
      "text/plain": [
       "        Unnamed: 0                                                utr     0  \\\n",
       "0                0  CCCACCCCGGGCTCTCTCCTGGCCTCCCACCCCCGCGCCCGGCTTC...  1763   \n",
       "1                2  CCGTTCCTCCCCGCAGTCCTTCCCCTCCACTCCCTTCCCCTTCTCT...  1108   \n",
       "2                3  CCCTGATAACTGAATTGTTGTTTGTTTTATTTGTATTGTTGTTTGT...   918   \n",
       "3                4  CCTCTGCCCGCCGTTCTGCTCGCTCGCTCCCCGCTCTGGAGTCTGC...  1439   \n",
       "4                5  CCGGCCCCGAGGGCAGGCTCTCCCCGGAGGCTCAGCCCCCTCTGCT...   952   \n",
       "...            ...                                                ...   ...   \n",
       "100012       53024  CCGAGAGCAGGAGGGCGCATCCGTGGCCGTTCACATGGTTTCAAGG...     6   \n",
       "100013       53025  CAATTTGTTGGTTTAGTCTTCTATCTGTCACCGACAGGAAAATCAT...     6   \n",
       "100014       53026  CCGGGATACTTCACGTTAGGGGTCGGAAAAGATGAAACACAGGAAG...     6   \n",
       "100015       53027  CATTCTATTTTGGAATCTCTATGTGTTTGGTTCAAATGGCGAAAAA...    15   \n",
       "100016       53028  CGACCCGACCGCACCCGGCGCCTGCCCTCGCTCGGCGTCCCCGGTC...    11   \n",
       "\n",
       "           1     2     3     4     5     6     7  ...        rl  \\\n",
       "0       1880  2154  2959  2122  1896  2618  1899  ...  4.823082   \n",
       "1       1317   774  1201  1813  2011  3340  2454  ...  6.252208   \n",
       "2        894   523   782   877   999  1436  1799  ...  7.499574   \n",
       "3       1468  1322  1890  1347  1287  2007  2121  ...  5.835379   \n",
       "4        876   854  1675  2170  1825  2585  1385  ...  5.433105   \n",
       "...      ...   ...   ...   ...   ...   ...   ...  ...       ...   \n",
       "100012     5     5    15    22    17    13     6  ...  4.089237   \n",
       "100013     7     6     3     4     3     8     8  ...  7.380217   \n",
       "100014     9    16    28    16    12     7     0  ...  2.335412   \n",
       "100015     3     0     4     0     6     3    10  ...  7.121724   \n",
       "100016     7     5    11     3     9    15     5  ...  5.694511   \n",
       "\n",
       "                               id            info1                  info2  \\\n",
       "0       NC_000012.12:g.4911352C>T      rs886049508  chr12:4911298-4911381   \n",
       "1                            8527  ENSG00000105492        ENST00000343300   \n",
       "2                            3409               20       8.81778335571289   \n",
       "3                            8772  ENSG00000124570        ENST00000335686   \n",
       "4                            6322  ENSG00000149932        ENST00000279396   \n",
       "...                           ...              ...                    ...   \n",
       "100012                        NaN              NaN                    NaN   \n",
       "100013                        NaN              NaN                    NaN   \n",
       "100014                        NaN              NaN                    NaN   \n",
       "100015                        NaN              NaN                    NaN   \n",
       "100016                        NaN              NaN                    NaN   \n",
       "\n",
       "        info3   info4                        library  \\\n",
       "0         snv  normal                            snv   \n",
       "1           -       -                     human_utrs   \n",
       "2           -       -      target_no_uaug_allow_stop   \n",
       "3           -       -                     human_utrs   \n",
       "4           -       -                     human_utrs   \n",
       "...       ...     ...                            ...   \n",
       "100012    NaN     NaN                     human_utrs   \n",
       "100013    NaN     NaN      target_no_uaug_allow_stop   \n",
       "100014    NaN     NaN                  egfp_controls   \n",
       "100015    NaN     NaN  step_worst_to_best_allow_uatg   \n",
       "100016    NaN     NaN                            snv   \n",
       "\n",
       "                                                   mother  designed  \\\n",
       "0       CCCACCCCGGGCTCTCTCCTGGCCTCCCACCCCCGCGCCCGGCTTC...      True   \n",
       "1       CCGTTCCTCCCCGCAGTCCTTCCCCTCCACTCCCTTCCCCTTCTCT...      True   \n",
       "2       CCCTGATAACTGAATTGTTGTTTGTTTTATTTGTATTGTTGTTTGT...      True   \n",
       "3       CCTCTGCCCGCCGTTCTGCTCGCTCGCTCCCCGCTCTGGAGTCTGC...      True   \n",
       "4       CCGGCCCCGAGGGCAGGCTCTCCCCGGAGGCTCAGCCCCCTCTGCT...      True   \n",
       "...                                                   ...       ...   \n",
       "100012  CCGAGAGCAGGCGGGCGCATCCGTGGCCGTTCACATGGTTTCAAGG...     False   \n",
       "100013  AAATTTGTTGGTTTAGTCTTCTATCTGTCACCGACAGGAAAATCAT...     False   \n",
       "100014  CCGGGCTACTTCACGTTAGGGGTCGGAAAAGATGAAACACAGGAAG...     False   \n",
       "100015  TATTCTATTTTGGAATCTCTATGTGTTTGGTTCAAATGGCGAAAAA...     False   \n",
       "100016  CGACCCGACCGCACCCGGCGCCTGCCCTCGCTCGGCGTCCCCGGTC...     False   \n",
       "\n",
       "        match_score  \n",
       "0               0.0  \n",
       "1               0.0  \n",
       "2               0.0  \n",
       "3               0.0  \n",
       "4               0.0  \n",
       "...             ...  \n",
       "100012         98.0  \n",
       "100013         96.0  \n",
       "100014         98.0  \n",
       "100015         98.0  \n",
       "100016         98.0  \n",
       "\n",
       "[100017 rows x 42 columns]"
      ]
     },
     "execution_count": 49,
     "metadata": {},
     "output_type": "execute_result"
    }
   ],
   "source": [
    "csv = pd.read_csv(\"../5utr/5UTR_design/raw/GSM3130443_designed_library.csv\")\n",
    "csv"
   ]
  },
  {
   "cell_type": "code",
   "execution_count": 50,
   "id": "b6814cda-802c-4734-bc73-f79d5adcaae0",
   "metadata": {},
   "outputs": [
    {
     "data": {
      "text/plain": [
       "(array([  175.,  2155.,  6243.,  8941., 11629., 18377., 30606., 21022.,\n",
       "          837.,    32.]),\n",
       " array([0.32637645, 1.28138824, 2.23640002, 3.1914118 , 4.14642358,\n",
       "        5.10143536, 6.05644715, 7.01145893, 7.96647071, 8.92148249,\n",
       "        9.87649427]),\n",
       " <BarContainer object of 10 artists>)"
      ]
     },
     "execution_count": 50,
     "metadata": {},
     "output_type": "execute_result"
    },
    {
     "data": {
      "image/png": "[encoded data removed]",
      "text/plain": [
       "<Figure size 640x480 with 1 Axes>"
      ]
     },
     "metadata": {},
     "output_type": "display_data"
    }
   ],
   "source": [
    "plt.hist(csv[\"rl\"])"
   ]
  },
  {
   "cell_type": "code",
   "execution_count": 51,
   "id": "ba05cad9-9b4d-4fa5-9fc6-fc7dacaa5ad5",
   "metadata": {},
   "outputs": [
    {
     "data": {
      "text/plain": [
       "5.743631769231548"
      ]
     },
     "execution_count": 51,
     "metadata": {},
     "output_type": "execute_result"
    }
   ],
   "source": [
    "csv[\"rl\"].mean()"
   ]
  },
  {
   "cell_type": "code",
   "execution_count": 52,
   "id": "f6fbd53e-7b31-48e7-b5d7-8279c9ff9d49",
   "metadata": {},
   "outputs": [],
   "source": [
    "import matplotlib.pyplot as plt\n",
    "import numpy as np"
   ]
  },
  {
   "cell_type": "code",
   "execution_count": 53,
   "id": "f6556d21-0d3d-4692-b394-e98faeffa853",
   "metadata": {},
   "outputs": [],
   "source": [
    "exps = [\"RPI_bs128\", \"CNN_bs128\"]\n"
   ]
  },
  {
   "cell_type": "code",
   "execution_count": 54,
   "id": "1eb70372-d9ab-415d-a5b4-1276132fa944",
   "metadata": {},
   "outputs": [
    {
     "data": {
      "text/plain": [
       "<matplotlib.collections.PathCollection at 0x7f19c85d2d40>"
      ]
     },
     "execution_count": 54,
     "metadata": {},
     "output_type": "execute_result"
    },
    {
     "data": {
      "image/png": "[encoded data removed]",
      "text/plain": [
       "<Figure size 640x480 with 1 Axes>"
      ]
     },
     "metadata": {},
     "output_type": "display_data"
    }
   ],
   "source": [
    "csv = pd.read_csv(\"runs/\"+exps[1]+\"/test/pred.csv\")\n",
    "plt.xlim([0, 10])\n",
    "plt.ylim([0,10])\n",
    "plt.scatter(csv[\"pred_mrl\"],csv[\"true_mrl\"])\n"
   ]
  },
  {
   "cell_type": "code",
   "execution_count": 55,
   "id": "3002c4e5-e7ce-4a28-9336-5c23a46d85a6",
   "metadata": {},
   "outputs": [
    {
     "data": {
      "text/plain": [
       "0      5.647408\n",
       "1      5.706035\n",
       "2      5.736744\n",
       "3      5.754282\n",
       "4      5.756630\n",
       "         ...   \n",
       "995    5.758777\n",
       "996    5.748610\n",
       "997    5.727350\n",
       "998    5.653042\n",
       "999    5.868814\n",
       "Name: pred_mrl, Length: 1000, dtype: float64"
      ]
     },
     "execution_count": 55,
     "metadata": {},
     "output_type": "execute_result"
    },
    {
     "data": {
      "image/png": "[encoded data removed]",
      "text/plain": [
       "<Figure size 640x480 with 1 Axes>"
      ]
     },
     "metadata": {},
     "output_type": "display_data"
    }
   ],
   "source": [
    "csv = pd.read_csv(\"runs/\"+exps[0]+\"/test/pred.csv\")\n",
    "plt.xlim([0, 10])\n",
    "plt.ylim([0,10])\n",
    "plt.scatter(csv[\"pred_mrl\"],csv[\"true_mrl\"])\n",
    "csv[\"pred_mrl\"]"
   ]
  },
  {
   "cell_type": "code",
   "execution_count": 43,
   "id": "544968b6-6735-4b51-964d-184afe510779",
   "metadata": {},
   "outputs": [],
   "source": [
    "exps = [\"4k_CNN_20e_3el\", \"4k_RPI_20e_3el\",\"4k_GCN_20e_3el\"]"
   ]
  },
  {
   "cell_type": "code",
   "execution_count": 44,
   "id": "200165a7-fdc6-4726-9f7b-c7bd4eb97830",
   "metadata": {},
   "outputs": [
    {
     "data": {
      "text/plain": [
       "<matplotlib.collections.PathCollection at 0x7f19ca37a620>"
      ]
     },
     "execution_count": 44,
     "metadata": {},
     "output_type": "execute_result"
    },
    {
     "data": {
      "image/png": "[encoded data removed]",
      "text/plain": [
       "<Figure size 640x480 with 1 Axes>"
      ]
     },
     "metadata": {},
     "output_type": "display_data"
    }
   ],
   "source": [
    "csv = pd.read_csv(\"runs/\"+exps[0]+\"/test/pred.csv\")\n",
    "plt.xlim([0, 10])\n",
    "plt.ylim([0,10])\n",
    "plt.scatter(csv[\"pred_mrl\"],csv[\"true_mrl\"])"
   ]
  },
  {
   "cell_type": "code",
   "execution_count": 45,
   "id": "d451c7f3-125f-4aaf-b8c7-968f569b1ecd",
   "metadata": {},
   "outputs": [
    {
     "data": {
      "text/plain": [
       "<matplotlib.collections.PathCollection at 0x7f19cc40d030>"
      ]
     },
     "execution_count": 45,
     "metadata": {},
     "output_type": "execute_result"
    },
    {
     "data": {
      "image/png": "[encoded data removed]",
      "text/plain": [
       "<Figure size 640x480 with 1 Axes>"
      ]
     },
     "metadata": {},
     "output_type": "display_data"
    }
   ],
   "source": [
    "csv = pd.read_csv(\"runs/\"+exps[1]+\"/test/pred.csv\")\n",
    "plt.xlim([0, 10])\n",
    "plt.ylim([0,10])\n",
    "plt.scatter(csv[\"pred_mrl\"],csv[\"true_mrl\"])"
   ]
  },
  {
   "cell_type": "code",
   "execution_count": 47,
   "id": "fb680bc4-bf26-422f-aded-8b300fca56bb",
   "metadata": {},
   "outputs": [
    {
     "data": {
      "text/plain": [
       "<matplotlib.collections.PathCollection at 0x7f19c9ff2560>"
      ]
     },
     "execution_count": 47,
     "metadata": {},
     "output_type": "execute_result"
    },
    {
     "data": {
      "image/png": "[encoded data removed]",
      "text/plain": [
       "<Figure size 640x480 with 1 Axes>"
      ]
     },
     "metadata": {},
     "output_type": "display_data"
    }
   ],
   "source": [
    "csv = pd.read_csv(\"runs/\"+exps[2]+\"/test/pred.csv\")\n",
    "plt.xlim([0, 10])\n",
    "plt.ylim([0,10])\n",
    "plt.scatter(csv[\"pred_mrl\"],csv[\"true_mrl\"])"
   ]
  },
  {
   "cell_type": "code",
   "execution_count": null,
   "id": "b5b66c23-e6f3-4bf1-b557-4ee83f5d4c11",
   "metadata": {},
   "outputs": [],
   "source": []
  }
 ],
 "metadata": {
  "kernelspec": {
   "display_name": "RFAM",
   "language": "python",
   "name": "rfam"
  },
  "language_info": {
   "codemirror_mode": {
    "name": "ipython",
    "version": 3
   },
   "file_extension": ".py",
   "mimetype": "text/x-python",
   "name": "python",
   "nbconvert_exporter": "python",
   "pygments_lexer": "ipython3",
   "version": "3.10.8"
  }
 },
 "nbformat": 4,
 "nbformat_minor": 5
}
