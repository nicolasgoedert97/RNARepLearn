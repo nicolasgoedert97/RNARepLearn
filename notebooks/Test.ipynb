{
 "cells": [
  {
   "cell_type": "code",
   "execution_count": 1,
   "id": "d4fd10ce-800f-4b45-afcf-a9d114f70384",
   "metadata": {},
   "outputs": [
    {
     "name": "stderr",
     "output_type": "stream",
     "text": [
      "/home/icb/vnicolas.goedert/miniconda3/envs/RFAM/lib/python3.10/site-packages/tqdm/auto.py:22: TqdmWarning: IProgress not found. Please update jupyter and ipywidgets. See https://ipywidgets.readthedocs.io/en/stable/user_install.html\n",
      "  from .autonotebook import tqdm as notebook_tqdm\n"
     ]
    }
   ],
   "source": [
    "import torch\n",
    "from torch.utils.tensorboard import SummaryWriter\n",
    "writer = SummaryWriter()"
   ]
  },
  {
   "cell_type": "code",
   "execution_count": 2,
   "id": "32be10dc-b5e6-4613-bd70-e6b57ceb722f",
   "metadata": {},
   "outputs": [],
   "source": [
    "rfam_dir = \"../rfam/data/raw/processed/release-14.8\"\n",
    "rfams = [\"RF00001\",\"RF00174\",\"RF00169\",\"RF00050\"]"
   ]
  },
  {
   "cell_type": "code",
   "execution_count": 3,
   "id": "cce2179b-c3f0-41c6-b289-c52eaa5cdef3",
   "metadata": {},
   "outputs": [
    {
     "name": "stderr",
     "output_type": "stream",
     "text": [
      "Processing...\n",
      "Done!\n"
     ]
    }
   ],
   "source": [
    "from RNARepLearn.datasets import CombinedRfamDataset, SingleRfamDataset\n",
    "#dataset = CombinedRfamDataset(rfam_dir, rfams, \"Under300\", 15, 300)\n",
    "dataset = SingleRfamDataset(rfam_dir, \"RF00001\", 15)\n",
    "\n",
    "train_size = int(0.8 * len(dataset))\n",
    "test_size = len(dataset) - train_size\n",
    "train_dataset, test_dataset = torch.utils.data.random_split(dataset, [train_size, test_size])\n",
    "\n",
    "from torch_geometric.loader import DataLoader\n",
    "train_loader = DataLoader(train_dataset, batch_size=32, shuffle=True)"
   ]
  },
  {
   "cell_type": "code",
   "execution_count": 4,
   "id": "560792d4-64fe-4706-b3c8-97fbc283689e",
   "metadata": {},
   "outputs": [],
   "source": [
    "##Model\n",
    "import torch.nn.functional as F\n",
    "from torch_geometric.nn import GCNConv, Linear\n",
    "\n",
    "class Encoder(torch.nn.Module):\n",
    "    def __init__(self, input_channels, output_channels):\n",
    "        super().__init__()\n",
    "        self.conv1 = GCNConv(input_channels, output_channels)\n",
    "        self.conv2 = GCNConv(output_channels,output_channels)\n",
    "\n",
    "        \n",
    "    def forward(self, data):\n",
    "        x, edge_index = data.x, data.edge_index\n",
    "\n",
    "        #build representation, encode\n",
    "        # input -> V_N,D\n",
    "        x = self.conv1(x, edge_index)\n",
    "        x = F.relu(x)\n",
    "        x = F.dropout(x, training=self.training)\n",
    "        x = self.conv2(x, edge_index)\n",
    "        x = F.relu(x)\n",
    "        x = self.conv2(x,edge_index)\n",
    "        x = F.relu(x)\n",
    "        \n",
    "        return x\n",
    "    \n",
    "class AttentionDecoder(torch.nn.Module):\n",
    "    def __init__(self, input_channels, output_channels):\n",
    "        super().__init__()\n",
    "        self.key_projection = Linear(input_channels, input_channels)\n",
    "        self.query_projection = Linear(input_channels, input_channels)\n",
    "        self.nuc_projection = Linear(input_channels, output_channels)\n",
    "        \n",
    "    def forward(self, x):\n",
    "        keys = self.key_projection(x)\n",
    "        queries = self.query_projection(x)\n",
    "        \n",
    "        nucleotides = self.nuc_projection(x)\n",
    "        \n",
    "        dotprod = torch.matmul(queries,keys.T)\n",
    "        \n",
    "        return F.softmax(nucleotides, dim=1), F.softmax(dotprod, dim=1)"
   ]
  },
  {
   "cell_type": "code",
   "execution_count": 5,
   "id": "b86d9a8d-fdb5-4163-bbd9-884edb37cf3f",
   "metadata": {},
   "outputs": [],
   "source": [
    "layers = []\n",
    "layers.append(Encoder(4,64))\n",
    "layers.append(AttentionDecoder(64,4))\n",
    "model = torch.nn.Sequential(*layers)"
   ]
  },
  {
   "cell_type": "code",
   "execution_count": 6,
   "id": "b17075e7-9b46-4ba9-9f5e-6655b3ea8f4b",
   "metadata": {},
   "outputs": [],
   "source": [
    "from RNARepLearn.train import MaskedTraining\n",
    "training = MaskedTraining(model, 10, 15, writer)"
   ]
  },
  {
   "cell_type": "code",
   "execution_count": null,
   "id": "c3976d2f-d322-4e13-bb31-2f6bced16f63",
   "metadata": {},
   "outputs": [
    {
     "name": "stdout",
     "output_type": "stream",
     "text": [
      "[Epoch    1/  10] [Batch    1/ 125] Loss:  9.13e+00 Nucleotide-Loss:  1.39e+00 Edge-Loss:  7.75e+00\n",
      "[Epoch    1/  10] [Batch   11/ 125] Loss:  8.87e+00 Nucleotide-Loss:  1.20e+00 Edge-Loss:  7.67e+00\n",
      "[Epoch    1/  10] [Batch   21/ 125] Loss:  8.63e+00 Nucleotide-Loss:  1.09e+00 Edge-Loss:  7.54e+00\n",
      "[Epoch    1/  10] [Batch   31/ 125] Loss:  8.25e+00 Nucleotide-Loss:  1.01e+00 Edge-Loss:  7.24e+00\n",
      "[Epoch    1/  10] [Batch   41/ 125] Loss:  8.09e+00 Nucleotide-Loss:  8.73e-01 Edge-Loss:  7.22e+00\n",
      "[Epoch    1/  10] [Batch   51/ 125] Loss:  7.81e+00 Nucleotide-Loss:  8.06e-01 Edge-Loss:  7.00e+00\n",
      "[Epoch    1/  10] [Batch   61/ 125] Loss:  7.87e+00 Nucleotide-Loss:  7.89e-01 Edge-Loss:  7.08e+00\n",
      "[Epoch    1/  10] [Batch   71/ 125] Loss:  7.73e+00 Nucleotide-Loss:  8.02e-01 Edge-Loss:  6.92e+00\n",
      "[Epoch    1/  10] [Batch   81/ 125] Loss:  8.11e+00 Nucleotide-Loss:  7.85e-01 Edge-Loss:  7.32e+00\n",
      "[Epoch    1/  10] [Batch   91/ 125] Loss:  7.69e+00 Nucleotide-Loss:  8.08e-01 Edge-Loss:  6.88e+00\n",
      "[Epoch    1/  10] [Batch  101/ 125] Loss:  7.70e+00 Nucleotide-Loss:  7.70e-01 Edge-Loss:  6.93e+00\n",
      "[Epoch    1/  10] [Batch  111/ 125] Loss:  7.63e+00 Nucleotide-Loss:  7.57e-01 Edge-Loss:  6.88e+00\n"
     ]
    }
   ],
   "source": [
    "training.run(train_loader)"
   ]
  },
  {
   "cell_type": "code",
   "execution_count": null,
   "id": "1684a4ec-718f-455b-becf-cf7d75d342b5",
   "metadata": {},
   "outputs": [],
   "source": []
  }
 ],
 "metadata": {
  "kernelspec": {
   "display_name": "RFAM",
   "language": "python",
   "name": "rfam"
  },
  "language_info": {
   "codemirror_mode": {
    "name": "ipython",
    "version": 3
   },
   "file_extension": ".py",
   "mimetype": "text/x-python",
   "name": "python",
   "nbconvert_exporter": "python",
   "pygments_lexer": "ipython3",
   "version": "3.10.8"
  }
 },
 "nbformat": 4,
 "nbformat_minor": 5
}
