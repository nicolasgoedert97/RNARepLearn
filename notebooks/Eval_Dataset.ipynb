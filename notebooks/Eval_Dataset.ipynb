{
 "cells": [
  {
   "cell_type": "code",
   "execution_count": 1,
   "id": "98b7e64e-5cff-4860-87ed-dfa8aefa9c98",
   "metadata": {},
   "outputs": [
    {
     "name": "stderr",
     "output_type": "stream",
     "text": [
      "/home/icb/vnicolas.goedert/miniconda3/envs/RNARepLearn/lib/python3.10/site-packages/tqdm/auto.py:22: TqdmWarning: IProgress not found. Please update jupyter and ipywidgets. See https://ipywidgets.readthedocs.io/en/stable/user_install.html\n",
      "  from .autonotebook import tqdm as notebook_tqdm\n"
     ]
    }
   ],
   "source": [
    "import pandas as pd\n",
    "import numpy as np\n",
    "import matplotlib.pyplot as plt\n",
    "from RNARepLearn.datasets import CombinedRfamDataset"
   ]
  },
  {
   "cell_type": "code",
   "execution_count": 2,
   "id": "da1ea347-6892-41a7-88fd-e27f9b38155b",
   "metadata": {},
   "outputs": [
    {
     "name": "stdout",
     "output_type": "stream",
     "text": [
      "Processing complete\n"
     ]
    },
    {
     "name": "stderr",
     "output_type": "stream",
     "text": [
      "Processing...\n",
      "Done!\n"
     ]
    }
   ],
   "source": [
    "ds = CombinedRfamDataset(\"/lustre/groups/crna01/workspace/nicolas_msc/RNARepLearn/rfam/data/raw/processed/release-14.8\", None ,\"All_300\")"
   ]
  },
  {
   "cell_type": "code",
   "execution_count": 5,
   "id": "82b6a9a9-f689-4a19-8136-ddeadcd4a9c7",
   "metadata": {},
   "outputs": [
    {
     "data": {
      "text/plain": [
       "<torch_geometric.loader.dataloader.DataLoader at 0x7fc9f0c76800>"
      ]
     },
     "execution_count": 5,
     "metadata": {},
     "output_type": "execute_result"
    }
   ],
   "source": []
  },
  {
   "cell_type": "code",
   "execution_count": 19,
   "id": "967dbf5f-7a10-4169-9857-c18608a582b5",
   "metadata": {},
   "outputs": [],
   "source": [
    "ids = [ID.split(\"/\")[-1][:-3] for ID in ds.processed_file_names]"
   ]
  },
  {
   "cell_type": "code",
   "execution_count": 22,
   "id": "d34b1e3d-a70c-4389-8673-2b6c3d8daf3e",
   "metadata": {},
   "outputs": [],
   "source": [
    "sizes = pd.read_csv(\"/home/icb/vnicolas.goedert/workspace/RNARepLearn/rfam/data/raw/processed/release-14.8/all_sizes\", delim_whitespace=True, header= None)\n",
    "sizes.columns=[\"RFAM\",\"sample\",\"size\"]"
   ]
  },
  {
   "cell_type": "code",
   "execution_count": 25,
   "id": "aa786f0e-e883-47bc-b94b-f02c077cc644",
   "metadata": {},
   "outputs": [
    {
     "data": {
      "text/html": [
       "<div>\n",
       "<style scoped>\n",
       "    .dataframe tbody tr th:only-of-type {\n",
       "        vertical-align: middle;\n",
       "    }\n",
       "\n",
       "    .dataframe tbody tr th {\n",
       "        vertical-align: top;\n",
       "    }\n",
       "\n",
       "    .dataframe thead th {\n",
       "        text-align: right;\n",
       "    }\n",
       "</style>\n",
       "<table border=\"1\" class=\"dataframe\">\n",
       "  <thead>\n",
       "    <tr style=\"text-align: right;\">\n",
       "      <th></th>\n",
       "      <th>RFAM</th>\n",
       "      <th>sample</th>\n",
       "      <th>size</th>\n",
       "    </tr>\n",
       "  </thead>\n",
       "  <tbody>\n",
       "    <tr>\n",
       "      <th>322376</th>\n",
       "      <td>RF00001</td>\n",
       "      <td>DS562887.1/11698675-11698792</td>\n",
       "      <td>118</td>\n",
       "    </tr>\n",
       "    <tr>\n",
       "      <th>322377</th>\n",
       "      <td>RF00001</td>\n",
       "      <td>AP014719.1/1816426-1816310</td>\n",
       "      <td>117</td>\n",
       "    </tr>\n",
       "    <tr>\n",
       "      <th>322378</th>\n",
       "      <td>RF00001</td>\n",
       "      <td>ALWZ044074759.1/326-208</td>\n",
       "      <td>119</td>\n",
       "    </tr>\n",
       "    <tr>\n",
       "      <th>322379</th>\n",
       "      <td>RF00001</td>\n",
       "      <td>CM000801.1/35667655-35667745</td>\n",
       "      <td>91</td>\n",
       "    </tr>\n",
       "    <tr>\n",
       "      <th>322380</th>\n",
       "      <td>RF00001</td>\n",
       "      <td>AOTI011160105.1/2121-2239</td>\n",
       "      <td>119</td>\n",
       "    </tr>\n",
       "    <tr>\n",
       "      <th>...</th>\n",
       "      <td>...</td>\n",
       "      <td>...</td>\n",
       "      <td>...</td>\n",
       "    </tr>\n",
       "    <tr>\n",
       "      <th>463015</th>\n",
       "      <td>RF00001</td>\n",
       "      <td>AJ318074.1/3315-3429</td>\n",
       "      <td>115</td>\n",
       "    </tr>\n",
       "    <tr>\n",
       "      <th>463016</th>\n",
       "      <td>RF00001</td>\n",
       "      <td>AY544572.1/31-151</td>\n",
       "      <td>121</td>\n",
       "    </tr>\n",
       "    <tr>\n",
       "      <th>463017</th>\n",
       "      <td>RF00001</td>\n",
       "      <td>EF175853.1/1-105</td>\n",
       "      <td>105</td>\n",
       "    </tr>\n",
       "    <tr>\n",
       "      <th>463018</th>\n",
       "      <td>RF00001</td>\n",
       "      <td>DQ867109.1/483-591</td>\n",
       "      <td>109</td>\n",
       "    </tr>\n",
       "    <tr>\n",
       "      <th>463019</th>\n",
       "      <td>RF00001</td>\n",
       "      <td>AF516462.1/347-450</td>\n",
       "      <td>104</td>\n",
       "    </tr>\n",
       "  </tbody>\n",
       "</table>\n",
       "<p>140644 rows × 3 columns</p>\n",
       "</div>"
      ],
      "text/plain": [
       "           RFAM                        sample  size\n",
       "322376  RF00001  DS562887.1/11698675-11698792   118\n",
       "322377  RF00001    AP014719.1/1816426-1816310   117\n",
       "322378  RF00001       ALWZ044074759.1/326-208   119\n",
       "322379  RF00001  CM000801.1/35667655-35667745    91\n",
       "322380  RF00001     AOTI011160105.1/2121-2239   119\n",
       "...         ...                           ...   ...\n",
       "463015  RF00001          AJ318074.1/3315-3429   115\n",
       "463016  RF00001             AY544572.1/31-151   121\n",
       "463017  RF00001              EF175853.1/1-105   105\n",
       "463018  RF00001            DQ867109.1/483-591   109\n",
       "463019  RF00001            AF516462.1/347-450   104\n",
       "\n",
       "[140644 rows x 3 columns]"
      ]
     },
     "execution_count": 25,
     "metadata": {},
     "output_type": "execute_result"
    }
   ],
   "source": [
    "sizes[sizes[\"RFAM\"]==\"RF00001\"]"
   ]
  },
  {
   "cell_type": "code",
   "execution_count": 4,
   "id": "ae0e5c7e-7ac1-40cd-aec7-2c5504463350",
   "metadata": {},
   "outputs": [
    {
     "data": {
      "image/png": "[encoded data removed]",
      "text/plain": [
       "<Figure size 640x480 with 1 Axes>"
      ]
     },
     "metadata": {},
     "output_type": "display_data"
    }
   ],
   "source": [
    "plt.hist(sizes[\"size\"], bins=range(min(sizes[\"size\"]), 500, 50))\n",
    "plt.show()"
   ]
  },
  {
   "cell_type": "code",
   "execution_count": 8,
   "id": "d0593e8f-fa03-4531-bb5a-66bbd3d56271",
   "metadata": {},
   "outputs": [
    {
     "data": {
      "text/html": [
       "<div>\n",
       "<style scoped>\n",
       "    .dataframe tbody tr th:only-of-type {\n",
       "        vertical-align: middle;\n",
       "    }\n",
       "\n",
       "    .dataframe tbody tr th {\n",
       "        vertical-align: top;\n",
       "    }\n",
       "\n",
       "    .dataframe thead th {\n",
       "        text-align: right;\n",
       "    }\n",
       "</style>\n",
       "<table border=\"1\" class=\"dataframe\">\n",
       "  <thead>\n",
       "    <tr style=\"text-align: right;\">\n",
       "      <th></th>\n",
       "      <th>RFAM</th>\n",
       "      <th>sample</th>\n",
       "      <th>size</th>\n",
       "    </tr>\n",
       "  </thead>\n",
       "  <tbody>\n",
       "    <tr>\n",
       "      <th>0</th>\n",
       "      <td>RF03874</td>\n",
       "      <td>CM000012.3/40720025-40720129</td>\n",
       "      <td>105</td>\n",
       "    </tr>\n",
       "    <tr>\n",
       "      <th>1</th>\n",
       "      <td>RF03874</td>\n",
       "      <td>CM000039.3/48070580-48070476</td>\n",
       "      <td>105</td>\n",
       "    </tr>\n",
       "    <tr>\n",
       "      <th>2</th>\n",
       "      <td>RF03874</td>\n",
       "      <td>CM000039.3/97891177-97891281</td>\n",
       "      <td>105</td>\n",
       "    </tr>\n",
       "    <tr>\n",
       "      <th>3</th>\n",
       "      <td>RF03874</td>\n",
       "      <td>CM000015.3/30958770-30958874</td>\n",
       "      <td>105</td>\n",
       "    </tr>\n",
       "    <tr>\n",
       "      <th>4</th>\n",
       "      <td>RF03874</td>\n",
       "      <td>CM000001.3/62682320-62682424</td>\n",
       "      <td>105</td>\n",
       "    </tr>\n",
       "    <tr>\n",
       "      <th>...</th>\n",
       "      <td>...</td>\n",
       "      <td>...</td>\n",
       "      <td>...</td>\n",
       "    </tr>\n",
       "    <tr>\n",
       "      <th>3107417</th>\n",
       "      <td>RF02335</td>\n",
       "      <td>CH991768.1/104127-104022</td>\n",
       "      <td>106</td>\n",
       "    </tr>\n",
       "    <tr>\n",
       "      <th>3107418</th>\n",
       "      <td>RF02335</td>\n",
       "      <td>AHHH01000007.1/11193-11088</td>\n",
       "      <td>106</td>\n",
       "    </tr>\n",
       "    <tr>\n",
       "      <th>3107419</th>\n",
       "      <td>RF02335</td>\n",
       "      <td>AY820283.1/1-104</td>\n",
       "      <td>104</td>\n",
       "    </tr>\n",
       "    <tr>\n",
       "      <th>3107420</th>\n",
       "      <td>RF02335</td>\n",
       "      <td>L27110.1/23-125</td>\n",
       "      <td>103</td>\n",
       "    </tr>\n",
       "    <tr>\n",
       "      <th>3107421</th>\n",
       "      <td>RF02335</td>\n",
       "      <td>AACB02000005.1/19712-19607</td>\n",
       "      <td>106</td>\n",
       "    </tr>\n",
       "  </tbody>\n",
       "</table>\n",
       "<p>2987539 rows × 3 columns</p>\n",
       "</div>"
      ],
      "text/plain": [
       "            RFAM                        sample  size\n",
       "0        RF03874  CM000012.3/40720025-40720129   105\n",
       "1        RF03874  CM000039.3/48070580-48070476   105\n",
       "2        RF03874  CM000039.3/97891177-97891281   105\n",
       "3        RF03874  CM000015.3/30958770-30958874   105\n",
       "4        RF03874  CM000001.3/62682320-62682424   105\n",
       "...          ...                           ...   ...\n",
       "3107417  RF02335      CH991768.1/104127-104022   106\n",
       "3107418  RF02335    AHHH01000007.1/11193-11088   106\n",
       "3107419  RF02335              AY820283.1/1-104   104\n",
       "3107420  RF02335               L27110.1/23-125   103\n",
       "3107421  RF02335    AACB02000005.1/19712-19607   106\n",
       "\n",
       "[2987539 rows x 3 columns]"
      ]
     },
     "execution_count": 8,
     "metadata": {},
     "output_type": "execute_result"
    }
   ],
   "source": [
    "sizes[sizes['size']<300]"
   ]
  },
  {
   "cell_type": "code",
   "execution_count": null,
   "id": "656a2f03-c273-4df4-bc9a-d772378acb0e",
   "metadata": {},
   "outputs": [],
   "source": []
  }
 ],
 "metadata": {
  "kernelspec": {
   "display_name": "Python 3 (ipykernel)",
   "language": "python",
   "name": "python3"
  },
  "language_info": {
   "codemirror_mode": {
    "name": "ipython",
    "version": 3
   },
   "file_extension": ".py",
   "mimetype": "text/x-python",
   "name": "python",
   "nbconvert_exporter": "python",
   "pygments_lexer": "ipython3",
   "version": "3.9.6"
  }
 },
 "nbformat": 4,
 "nbformat_minor": 5
}
