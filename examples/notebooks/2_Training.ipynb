{
 "cells": [
  {
   "cell_type": "markdown",
   "id": "4533def9-3aed-428e-99c8-7290c7108cce",
   "metadata": {},
   "source": [
    "# Self-Supervised"
   ]
  },
  {
   "cell_type": "markdown",
   "id": "1dc627d2-27b0-4d6a-bc37-93b10e2a1bd0",
   "metadata": {},
   "source": [
    "## Create Dataset"
   ]
  },
  {
   "cell_type": "code",
   "execution_count": 1,
   "id": "960b9ffe-3513-4247-a676-460bc99e1ef6",
   "metadata": {
    "tags": []
   },
   "outputs": [
    {
     "name": "stdout",
     "output_type": "stream",
     "text": [
      "Avalaible threads: 48\n"
     ]
    },
    {
     "name": "stderr",
     "output_type": "stream",
     "text": [
      "/p/project/hai_rnareplearn/miniconda3/envs/RL/lib/python3.11/site-packages/tqdm/auto.py:21: TqdmWarning: IProgress not found. Please update jupyter and ipywidgets. See https://ipywidgets.readthedocs.io/en/stable/user_install.html\n",
      "  from .autonotebook import tqdm as notebook_tqdm\n"
     ]
    }
   ],
   "source": [
    "import os\n",
    "from RNARepLearn.datasets import GFileDataset, GFileDatasetUTR\n",
    "from RNARepLearn.utils import random_train_val_test_loaders"
   ]
  },
  {
   "cell_type": "code",
   "execution_count": 2,
   "id": "cc0f94d8-f015-4076-bbad-e45efa7594fb",
   "metadata": {
    "tags": []
   },
   "outputs": [],
   "source": [
    "rfams = [\"RF00006\", \"RF00007\",\"RF00008\",\"RF00010\",\"RF00011\"]\n",
    "rfam = GFileDataset(\"../example_data/rfam_14.08_sample\",rfams)\n",
    "batch_size = 64"
   ]
  },
  {
   "cell_type": "code",
   "execution_count": 3,
   "id": "1c8bb190-3ab8-4abd-8880-25877e7f6f15",
   "metadata": {},
   "outputs": [
    {
     "name": "stdout",
     "output_type": "stream",
     "text": [
      "Training:\t1538\n",
      "Test:\t192\n",
      "Validation:\t193\n"
     ]
    }
   ],
   "source": [
    "train, val, test = random_train_val_test_loaders(rfam, 0.8,0.1,0.1, batch_size=batch_size, pin_memory=False, num_workers=0)"
   ]
  },
  {
   "cell_type": "markdown",
   "id": "da3b6a21-a635-4fd2-82d9-51b165579768",
   "metadata": {},
   "source": [
    "# Load Model"
   ]
  },
  {
   "cell_type": "code",
   "execution_count": 4,
   "id": "717f3a70-25c7-4767-812f-5215993e8083",
   "metadata": {},
   "outputs": [],
   "source": [
    "from RNARepLearn.models import Encoder_Decoder_Model, Seq_Struc_GNN\n",
    "from RNARepLearn.modules import  AttentionDecoder\n",
    "from torch_geometric.nn import GCNConv\n",
    "\n",
    "gnn = Seq_Struc_GNN(4, 128, 6, GCNConv)\n",
    "decoder = AttentionDecoder(128, 4)\n",
    "\n",
    "dummy_model = Encoder_Decoder_Model(gnn, decoder)"
   ]
  },
  {
   "cell_type": "markdown",
   "id": "debb5e72-cb72-4e6b-90db-a144204e12ba",
   "metadata": {},
   "source": [
    "# Self-Supervised Pretraining"
   ]
  },
  {
   "cell_type": "code",
   "execution_count": 5,
   "id": "2fcfd3bb-7bc6-4dd6-8c39-55c40601d3c7",
   "metadata": {},
   "outputs": [
    {
     "name": "stdout",
     "output_type": "stream",
     "text": [
      "Learning rate: 0.002\n",
      "Creating new SummaryWriter\n",
      "Model: \n",
      "Encoder_Decoder_Model(\n",
      "  (model): Sequential(\n",
      "    (0): Seq_Struc_GNN(\n",
      "      (body): Sequential(\n",
      "        (0): Sep_Seq_Struc_Layer(\n",
      "        (seq_op): CNN_Seq(\n",
      "          (body): Conv1d(4, 128, kernel_size=(9,), stride=(1,), padding=same)\n",
      "        )\n",
      "        (struc_op): GCNConv(4, 128)\n",
      "      )\n",
      "        (1): <function relu at 0x14833c207f60>\n",
      "        (2): <function dropout at 0x14833c207b00>\n",
      "        (3): Sep_Seq_Struc_Layer(\n",
      "        (seq_op): CNN_Seq(\n",
      "          (body): Conv1d(128, 128, kernel_size=(9,), stride=(1,), padding=same)\n",
      "        )\n",
      "        (struc_op): GCNConv(128, 128)\n",
      "      )\n",
      "        (4): <function relu at 0x14833c207f60>\n",
      "        (5): <function dropout at 0x14833c207b00>\n",
      "        (6): Sep_Seq_Struc_Layer(\n",
      "        (seq_op): CNN_Seq(\n",
      "          (body): Conv1d(128, 128, kernel_size=(9,), stride=(1,), padding=same)\n",
      "        )\n",
      "        (struc_op): GCNConv(128, 128)\n",
      "      )\n",
      "        (7): <function relu at 0x14833c207f60>\n",
      "        (8): <function dropout at 0x14833c207b00>\n",
      "        (9): Sep_Seq_Struc_Layer(\n",
      "        (seq_op): CNN_Seq(\n",
      "          (body): Conv1d(128, 128, kernel_size=(9,), stride=(1,), padding=same)\n",
      "        )\n",
      "        (struc_op): GCNConv(128, 128)\n",
      "      )\n",
      "        (10): <function relu at 0x14833c207f60>\n",
      "        (11): <function dropout at 0x14833c207b00>\n",
      "        (12): Sep_Seq_Struc_Layer(\n",
      "        (seq_op): CNN_Seq(\n",
      "          (body): Conv1d(128, 128, kernel_size=(9,), stride=(1,), padding=same)\n",
      "        )\n",
      "        (struc_op): GCNConv(128, 128)\n",
      "      )\n",
      "        (13): <function relu at 0x14833c207f60>\n",
      "        (14): <function dropout at 0x14833c207b00>\n",
      "        (15): Sep_Seq_Struc_Layer(\n",
      "        (seq_op): CNN_Seq(\n",
      "          (body): Conv1d(128, 128, kernel_size=(9,), stride=(1,), padding=same)\n",
      "        )\n",
      "        (struc_op): GCNConv(128, 128)\n",
      "      )\n",
      "        (16): <function relu at 0x14833c207f60>\n",
      "        (17): <function dropout at 0x14833c207b00>\n",
      "      )\n",
      "    )\n",
      "    (1): AttentionDecoder(\n",
      "      (key_projection): Linear(128, 128, bias=True)\n",
      "      (query_projection): Linear(128, 128, bias=True)\n",
      "      (nuc_projection): Linear(128, 4, bias=True)\n",
      "    )\n",
      "  )\n",
      ")\n"
     ]
    }
   ],
   "source": [
    "from RNARepLearn.train import MaskedTraining\n",
    "training = MaskedTraining(dummy_model, 10, 15, None, print_out=True)"
   ]
  },
  {
   "cell_type": "code",
   "execution_count": 8,
   "id": "cb86c364-dd65-4172-a21d-8ea80015d08e",
   "metadata": {},
   "outputs": [
    {
     "name": "stdout",
     "output_type": "stream",
     "text": [
      "Training running on device: cuda:0\n",
      "[Epoch    1/  10] [Batch   10/  24] Loss:  8.41e+01 Nucleotide-Loss:  1.38e+00 Edge-Loss:  8.27e+01  Memory  428238336\n",
      "[Epoch    1/  10] [Batch   20/  24] Loss:  1.70e+01 Nucleotide-Loss:  1.39e+00 Edge-Loss:  1.57e+01  Memory  444457984\n",
      "[Epoch    1/  10] Epoch-Loss:  5.06e+01 Epoch-Loss Val:  1.17e+01 Nucleotide-Loss Val:  1.39e+00 Edge-Loss Val:  1.03e+01  Memory  574652928\n",
      "[Epoch    2/  10] [Batch    6/  24] Loss:  1.28e+01 Nucleotide-Loss:  1.38e+00 Edge-Loss:  1.14e+01  Memory  562494976\n",
      "[Epoch    2/  10] [Batch   16/  24] Loss:  1.12e+01 Nucleotide-Loss:  1.38e+00 Edge-Loss:  9.78e+00  Memory  589882880\n",
      "[Epoch    2/  10] Epoch-Loss:  1.20e+01 Epoch-Loss Val:  1.04e+01 Nucleotide-Loss Val:  1.38e+00 Edge-Loss Val:  9.00e+00  Memory  539070976\n",
      "[Epoch    3/  10] [Batch    2/  24] Loss:  1.02e+01 Nucleotide-Loss:  1.39e+00 Edge-Loss:  8.81e+00  Memory  493769216\n",
      "[Epoch    3/  10] [Batch   12/  24] Loss:  1.01e+01 Nucleotide-Loss:  1.38e+00 Edge-Loss:  8.72e+00  Memory  517996032\n",
      "[Epoch    3/  10] [Batch   22/  24] Loss:  1.09e+01 Nucleotide-Loss:  1.38e+00 Edge-Loss:  9.54e+00  Memory  459047936\n",
      "[Epoch    3/  10] Epoch-Loss:  1.04e+01 Epoch-Loss Val:  1.02e+01 Nucleotide-Loss Val:  1.38e+00 Edge-Loss Val:  8.77e+00  Memory  506927616\n",
      "[Epoch    4/  10] [Batch    8/  24] Loss:  1.03e+01 Nucleotide-Loss:  1.38e+00 Edge-Loss:  8.95e+00  Memory  543325696\n",
      "[Epoch    4/  10] [Batch   18/  24] Loss:  1.09e+01 Nucleotide-Loss:  1.38e+00 Edge-Loss:  9.52e+00  Memory  455454720\n",
      "[Epoch    4/  10] Epoch-Loss:  1.06e+01 Epoch-Loss Val:  1.01e+01 Nucleotide-Loss Val:  1.38e+00 Edge-Loss Val:  8.71e+00  Memory  565805056\n",
      "[Epoch    5/  10] [Batch    4/  24] Loss:  1.01e+01 Nucleotide-Loss:  1.38e+00 Edge-Loss:  8.70e+00  Memory  579299840\n",
      "[Epoch    5/  10] [Batch   14/  24] Loss:  1.01e+01 Nucleotide-Loss:  1.38e+00 Edge-Loss:  8.73e+00  Memory  545868288\n",
      "[Epoch    5/  10] [Batch   24/  24] Loss:  1.01e+01 Nucleotide-Loss:  1.39e+00 Edge-Loss:  8.71e+00  Memory  555214848\n",
      "[Epoch    5/  10] Epoch-Loss:  1.01e+01 Epoch-Loss Val:  1.00e+01 Nucleotide-Loss Val:  1.38e+00 Edge-Loss Val:  8.63e+00  Memory  511419904\n",
      "[Epoch    6/  10] [Batch   10/  24] Loss:  1.02e+01 Nucleotide-Loss:  1.39e+00 Edge-Loss:  8.81e+00  Memory  441929216\n",
      "[Epoch    6/  10] [Batch   20/  24] Loss:  1.00e+01 Nucleotide-Loss:  1.38e+00 Edge-Loss:  8.65e+00  Memory  530214400\n",
      "[Epoch    6/  10] Epoch-Loss:  1.01e+01 Epoch-Loss Val:  1.01e+01 Nucleotide-Loss Val:  1.38e+00 Edge-Loss Val:  8.72e+00  Memory  537925632\n",
      "[Epoch    7/  10] [Batch    6/  24] Loss:  1.01e+01 Nucleotide-Loss:  1.38e+00 Edge-Loss:  8.71e+00  Memory  585947648\n",
      "[Epoch    7/  10] [Batch   16/  24] Loss:  1.01e+01 Nucleotide-Loss:  1.38e+00 Edge-Loss:  8.67e+00  Memory  606853120\n",
      "[Epoch    7/  10] Epoch-Loss:  1.01e+01 Epoch-Loss Val:  1.01e+01 Nucleotide-Loss Val:  1.38e+00 Edge-Loss Val:  8.67e+00  Memory  472963584\n",
      "[Epoch    8/  10] [Batch    2/  24] Loss:  1.01e+01 Nucleotide-Loss:  1.38e+00 Edge-Loss:  8.76e+00  Memory  536920576\n",
      "[Epoch    8/  10] [Batch   12/  24] Loss:  1.01e+01 Nucleotide-Loss:  1.38e+00 Edge-Loss:  8.73e+00  Memory  511865856\n",
      "[Epoch    8/  10] [Batch   22/  24] Loss:  1.01e+01 Nucleotide-Loss:  1.38e+00 Edge-Loss:  8.77e+00  Memory  492838912\n",
      "[Epoch    8/  10] Epoch-Loss:  1.01e+01 Epoch-Loss Val:  9.96e+00 Nucleotide-Loss Val:  1.38e+00 Edge-Loss Val:  8.58e+00  Memory  425410048\n",
      "[Epoch    9/  10] [Batch    8/  24] Loss:  1.01e+01 Nucleotide-Loss:  1.39e+00 Edge-Loss:  8.67e+00  Memory  600614912\n",
      "[Epoch    9/  10] [Batch   18/  24] Loss:  9.98e+00 Nucleotide-Loss:  1.38e+00 Edge-Loss:  8.60e+00  Memory  542561792\n",
      "[Epoch    9/  10] Epoch-Loss:  1.00e+01 Epoch-Loss Val:  9.95e+00 Nucleotide-Loss Val:  1.38e+00 Edge-Loss Val:  8.56e+00  Memory  532573696\n",
      "[Epoch   10/  10] [Batch    4/  24] Loss:  1.02e+01 Nucleotide-Loss:  1.38e+00 Edge-Loss:  8.86e+00  Memory  475868160\n",
      "[Epoch   10/  10] [Batch   14/  24] Loss:  9.90e+00 Nucleotide-Loss:  1.39e+00 Edge-Loss:  8.51e+00  Memory  529235968\n",
      "[Epoch   10/  10] [Batch   24/  24] Loss:  1.00e+01 Nucleotide-Loss:  1.38e+00 Edge-Loss:  8.63e+00  Memory  537180160\n",
      "[Epoch   10/  10] Epoch-Loss:  1.00e+01 Epoch-Loss Val:  9.87e+00 Nucleotide-Loss Val:  1.38e+00 Edge-Loss Val:  8.49e+00  Memory  509297152\n"
     ]
    }
   ],
   "source": [
    "training.run(train, val)"
   ]
  },
  {
   "cell_type": "markdown",
   "id": "3cc5f53f-4145-4d4b-8d6c-ca7ed53d5eb8",
   "metadata": {},
   "source": [
    "# Load pretrained model(s)"
   ]
  },
  {
   "cell_type": "code",
   "execution_count": 5,
   "id": "8d3aa934-8884-4c77-87eb-0a84efafb93b",
   "metadata": {},
   "outputs": [
    {
     "data": {
      "text/plain": [
       "torch_geometric.nn.conv.gat_conv.GATConv"
      ]
     },
     "execution_count": 5,
     "metadata": {},
     "output_type": "execute_result"
    }
   ],
   "source": [
    "import gin\n",
    "import torch_geometric\n",
    "import torch\n",
    "gin.external_configurable(torch_geometric.nn.GCNConv, \"GCNConv\")\n",
    "gin.external_configurable(torch_geometric.nn.TransformerConv, \"TransformerConv\")\n",
    "gin.external_configurable(torch_geometric.transforms.AddLaplacianEigenvectorPE, \"AddLaplacianEigenvectorPE\")\n",
    "gin.external_configurable(torch_geometric.nn.ChebConv, \"ChebConv\")\n",
    "gin.external_configurable(torch_geometric.nn.GraphConv, \"GraphConv\")\n",
    "gin.external_configurable(torch_geometric.nn.GatedGraphConv, \"GatedGraphConv\")\n",
    "gin.external_configurable(torch_geometric.nn.TAGConv, \"TAGConv\")\n",
    "gin.external_configurable(torch_geometric.nn.GATConv, \"GATConv\")"
   ]
  },
  {
   "cell_type": "code",
   "execution_count": 16,
   "id": "8cb76a21-fa4d-4f60-839b-49b2249d1800",
   "metadata": {},
   "outputs": [],
   "source": [
    "model_selection = ['GCNConv','RPINet', 'GatedGraphConv', 'GCN_LSTM']\n",
    "model_name = model_selection[0]"
   ]
  },
  {
   "cell_type": "code",
   "execution_count": 17,
   "id": "a696a8fd-a6c2-4c11-b8c3-94fd4dbcb8dd",
   "metadata": {},
   "outputs": [
    {
     "data": {
      "text/plain": [
       "<All keys matched successfully>"
      ]
     },
     "execution_count": 17,
     "metadata": {},
     "output_type": "execute_result"
    }
   ],
   "source": [
    "gin.parse_config_file(os.path.join(\"../example_data/pretrained_models/trained_unlabeled/\",model_name,\"gin.config\"))\n",
    "model = Encoder_Decoder_Model()\n",
    "model.load_state_dict(torch.load(os.path.join(\"../example_data/pretrained_models/trained_unlabeled/\",model_name,\"final_model\")))"
   ]
  },
  {
   "cell_type": "markdown",
   "id": "ae8bf7a5-cccc-444f-a03f-765594be9cc7",
   "metadata": {},
   "source": [
    "# Downstream task: Translation efficiency \n",
    "# Change to task-specific decoder"
   ]
  },
  {
   "cell_type": "code",
   "execution_count": 35,
   "id": "f0b73ffa-e764-4c7c-885f-3e11a96210a5",
   "metadata": {},
   "outputs": [],
   "source": [
    "from RNARepLearn.modules import TE_Decoder\n",
    "\n",
    "batch_size = 128\n",
    "\n",
    "encoder = next(model.model.children())\n",
    "decoder = TE_Decoder(batch_size, 512)\n",
    "\n",
    "model = Encoder_Decoder_Model(encoder, decoder)"
   ]
  },
  {
   "cell_type": "markdown",
   "id": "ae9b9d17-dde1-43e3-8330-b6b3b9765c4d",
   "metadata": {},
   "source": [
    "# Load mean-ribosome-load labeled data"
   ]
  },
  {
   "cell_type": "code",
   "execution_count": 36,
   "id": "b3b518c5-d912-47c0-96f3-14b3210bdcf4",
   "metadata": {},
   "outputs": [
    {
     "data": {
      "text/plain": [
       "GFileDatasetUTR(100014)"
      ]
     },
     "execution_count": 36,
     "metadata": {},
     "output_type": "execute_result"
    }
   ],
   "source": [
    "ds = GFileDatasetUTR(\"../example_data/mean_ribosomoe_load\",[\"GSM3130443_designed_lib\"])\n",
    "ds\n"
   ]
  },
  {
   "cell_type": "code",
   "execution_count": 37,
   "id": "457e9a3c-8aca-42a4-9c8d-bcf330cebb0c",
   "metadata": {},
   "outputs": [
    {
     "name": "stdout",
     "output_type": "stream",
     "text": [
      "Training:\t80011\n",
      "Test:\t10001\n",
      "Validation:\t10002\n"
     ]
    }
   ],
   "source": [
    "train, val, test = random_train_val_test_loaders(ds, 0.8,0.1,0.1, batch_size=batch_size, pin_memory=False, num_workers=0)"
   ]
  },
  {
   "cell_type": "markdown",
   "id": "40c639bb-e6e7-4610-b8cc-d33b727ebe5e",
   "metadata": {},
   "source": [
    "# TE prediction"
   ]
  },
  {
   "cell_type": "code",
   "execution_count": 38,
   "id": "e48aba90-48a4-4a09-9a0e-d7019c313b9a",
   "metadata": {},
   "outputs": [
    {
     "name": "stdout",
     "output_type": "stream",
     "text": [
      "Learning rate: 2e-05\n",
      "Creating new SummaryWriter\n",
      "Model: \n",
      "Encoder_Decoder_Model(\n",
      "  (model): Sequential(\n",
      "    (0): Seq_Struc_GNN(\n",
      "      (body): Sequential(\n",
      "        (0): Sep_Seq_Struc_Layer(\n",
      "        (seq_op): CNN_Seq(\n",
      "          (body): Conv1d(4, 512, kernel_size=(9,), stride=(1,), padding=same)\n",
      "        )\n",
      "        (struc_op): GCNConv(4, 512)\n",
      "      )\n",
      "        (1): <function relu at 0x14833c207f60>\n",
      "        (2): <function dropout at 0x14833c207b00>\n",
      "        (3): Sep_Seq_Struc_Layer(\n",
      "        (seq_op): CNN_Seq(\n",
      "          (body): Conv1d(512, 512, kernel_size=(9,), stride=(1,), padding=same)\n",
      "        )\n",
      "        (struc_op): GCNConv(512, 512)\n",
      "      )\n",
      "        (4): <function relu at 0x14833c207f60>\n",
      "        (5): <function dropout at 0x14833c207b00>\n",
      "        (6): Sep_Seq_Struc_Layer(\n",
      "        (seq_op): CNN_Seq(\n",
      "          (body): Conv1d(512, 512, kernel_size=(9,), stride=(1,), padding=same)\n",
      "        )\n",
      "        (struc_op): GCNConv(512, 512)\n",
      "      )\n",
      "        (7): <function relu at 0x14833c207f60>\n",
      "        (8): <function dropout at 0x14833c207b00>\n",
      "        (9): Sep_Seq_Struc_Layer(\n",
      "        (seq_op): CNN_Seq(\n",
      "          (body): Conv1d(512, 512, kernel_size=(9,), stride=(1,), padding=same)\n",
      "        )\n",
      "        (struc_op): GCNConv(512, 512)\n",
      "      )\n",
      "        (10): <function relu at 0x14833c207f60>\n",
      "        (11): <function dropout at 0x14833c207b00>\n",
      "        (12): Sep_Seq_Struc_Layer(\n",
      "        (seq_op): CNN_Seq(\n",
      "          (body): Conv1d(512, 512, kernel_size=(9,), stride=(1,), padding=same)\n",
      "        )\n",
      "        (struc_op): GCNConv(512, 512)\n",
      "      )\n",
      "        (13): <function relu at 0x14833c207f60>\n",
      "        (14): <function dropout at 0x14833c207b00>\n",
      "        (15): Sep_Seq_Struc_Layer(\n",
      "        (seq_op): CNN_Seq(\n",
      "          (body): Conv1d(512, 512, kernel_size=(9,), stride=(1,), padding=same)\n",
      "        )\n",
      "        (struc_op): GCNConv(512, 512)\n",
      "      )\n",
      "        (16): <function relu at 0x14833c207f60>\n",
      "        (17): <function dropout at 0x14833c207b00>\n",
      "      )\n",
      "    )\n",
      "    (1): TE_Decoder(\n",
      "      (linear): Linear(512, 1, bias=True)\n",
      "    )\n",
      "  )\n",
      ")\n"
     ]
    }
   ],
   "source": [
    "from RNARepLearn.train import TETraining\n",
    "training = TETraining(model, 10, None)"
   ]
  }
 ],
 "metadata": {
  "kernelspec": {
   "display_name": "RL",
   "language": "python",
   "name": "rl"
  },
  "language_info": {
   "codemirror_mode": {
    "name": "ipython",
    "version": 3
   },
   "file_extension": ".py",
   "mimetype": "text/x-python",
   "name": "python",
   "nbconvert_exporter": "python",
   "pygments_lexer": "ipython3",
   "version": "3.11.3"
  }
 },
 "nbformat": 4,
 "nbformat_minor": 5
}
