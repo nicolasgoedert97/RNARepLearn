{
 "cells": [
  {
   "cell_type": "code",
   "execution_count": 1,
   "id": "1c857e57-8f50-491e-9979-2f478d86e6cd",
   "metadata": {},
   "outputs": [
    {
     "name": "stderr",
     "output_type": "stream",
     "text": [
      "/home/icb/vnicolas.goedert/miniconda3/envs/RFAM/lib/python3.10/site-packages/tqdm/auto.py:22: TqdmWarning: IProgress not found. Please update jupyter and ipywidgets. See https://ipywidgets.readthedocs.io/en/stable/user_install.html\n",
      "  from .autonotebook import tqdm as notebook_tqdm\n"
     ]
    }
   ],
   "source": [
    "import torch\n",
    "import torch_geometric"
   ]
  },
  {
   "cell_type": "code",
   "execution_count": 2,
   "id": "fde15794-e4d9-43d1-87dd-c6f47579d4a5",
   "metadata": {},
   "outputs": [
    {
     "name": "stderr",
     "output_type": "stream",
     "text": [
      "Processing...\n",
      "Done!\n"
     ]
    }
   ],
   "source": [
    "rfam_dir = \"../rfam/data/raw/processed/release-14.8\"\n",
    "rfams = [\"RF00001\",\"RF00174\",\"RF00169\",\"RF00050\"]\n",
    "\n",
    "from RNARepLearn.datasets import CombinedRfamDataset, SingleRfamDataset\n",
    "#dataset = CombinedRfamDataset(rfam_dir, rfams, \"Under300\", 15, 300)\n",
    "dataset = SingleRfamDataset(rfam_dir, \"RF00001\", 15)\n",
    "\n",
    "train_size = int(0.8 * len(dataset))\n",
    "test_size = int(0.5 * (len(dataset)-train_size))\n",
    "val_size = len(dataset)-train_size-test_size\n",
    "train_dataset, test_dataset, val_dataset = torch.utils.data.random_split(dataset, [train_size, test_size, val_size])\n",
    "\n",
    "from torch_geometric.loader import DataLoader\n",
    "train_loader = DataLoader(train_dataset, batch_size=32, shuffle=True)\n",
    "val_loader = DataLoader(val_dataset, batch_size=32)\n",
    "from torch.utils.tensorboard import SummaryWriter\n",
    "writer = SummaryWriter()"
   ]
  },
  {
   "cell_type": "code",
   "execution_count": 9,
   "id": "8fcef9ed-0b72-4587-afaa-4ddb840b949a",
   "metadata": {},
   "outputs": [],
   "source": [
    "from RNARepLearn.modules import LinearEmbedding, RPINetEncoder, AttentionDecoder\n",
    "layers = []\n",
    "layers.append(LinearEmbedding(4, 32))\n",
    "layers.append(RPINetEncoder(32, 32, 7))\n",
    "layers.append(AttentionDecoder(32, 4))\n",
    "model = torch.nn.Sequential(*layers)"
   ]
  },
  {
   "cell_type": "code",
   "execution_count": 10,
   "id": "3ac86e5e-5097-41b7-8266-d4e3656aa5ca",
   "metadata": {},
   "outputs": [],
   "source": [
    "##Setup\n",
    "device = torch.device('cuda' if torch.cuda.is_available() else 'cpu')\n",
    "model = model.to(device)\n",
    "model = model.double()\n",
    "optimizer = torch.optim.Adam(model.parameters(), lr=0.01, weight_decay=5e-4)\n",
    "\n",
    "n_epochs = 10"
   ]
  },
  {
   "cell_type": "code",
   "execution_count": 11,
   "id": "f448cf9d-ad09-46ae-b1bb-e25d395e7c6e",
   "metadata": {},
   "outputs": [],
   "source": [
    "from RNARepLearn.train import MaskedTraining\n",
    "training = MaskedTraining(model, 10, 15, writer)"
   ]
  },
  {
   "cell_type": "code",
   "execution_count": 13,
   "id": "cf5083fa-ddc9-4de8-9d53-b5a2d20be8c7",
   "metadata": {},
   "outputs": [
    {
     "ename": "NameError",
     "evalue": "name 'writer' is not defined",
     "output_type": "error",
     "traceback": [
      "\u001b[0;31m---------------------------------------------------------------------------\u001b[0m",
      "\u001b[0;31mNameError\u001b[0m                                 Traceback (most recent call last)",
      "Cell \u001b[0;32mIn[13], line 1\u001b[0m\n\u001b[0;32m----> 1\u001b[0m \u001b[43mtraining\u001b[49m\u001b[38;5;241;43m.\u001b[39;49m\u001b[43mrun\u001b[49m\u001b[43m(\u001b[49m\u001b[43mtrain_loader\u001b[49m\u001b[43m)\u001b[49m\n",
      "File \u001b[0;32m/lustre/groups/crna01/workspace/nicolas_msc/RNARepLearn/RNARepLearn/train.py:37\u001b[0m, in \u001b[0;36mMaskedTraining.run\u001b[0;34m(self, data_loader, val_loader)\u001b[0m\n\u001b[1;32m     33\u001b[0m \u001b[38;5;28mself\u001b[39m\u001b[38;5;241m.\u001b[39moptimizer\u001b[38;5;241m.\u001b[39mzero_grad()\n\u001b[1;32m     35\u001b[0m nucs, bpp \u001b[38;5;241m=\u001b[39m \u001b[38;5;28mself\u001b[39m\u001b[38;5;241m.\u001b[39mmodel(batch)\n\u001b[0;32m---> 37\u001b[0m \u001b[43mwriter\u001b[49m\u001b[38;5;241m.\u001b[39madd_scalar(\u001b[38;5;124m\"\u001b[39m\u001b[38;5;124mLoss/train\u001b[39m\u001b[38;5;124m\"\u001b[39m, loss, epoch)\n\u001b[1;32m     38\u001b[0m writer\u001b[38;5;241m.\u001b[39madd_scalar(\u001b[38;5;124m\"\u001b[39m\u001b[38;5;124mLoss_nodes/train\u001b[39m\u001b[38;5;124m\"\u001b[39m, node_loss, epoch)\n\u001b[1;32m     39\u001b[0m writer\u001b[38;5;241m.\u001b[39madd_scalar(\u001b[38;5;124m\"\u001b[39m\u001b[38;5;124mLoss_edges/train\u001b[39m\u001b[38;5;124m\"\u001b[39m, edge_loss, epoch)\n",
      "\u001b[0;31mNameError\u001b[0m: name 'writer' is not defined"
     ]
    }
   ],
   "source": [
    "training.run(train_loader)"
   ]
  },
  {
   "cell_type": "code",
   "execution_count": 6,
   "id": "a28f5946-3102-445c-80ee-a89abaed5d95",
   "metadata": {},
   "outputs": [
    {
     "name": "stdout",
     "output_type": "stream",
     "text": [
      "0.036535288038247946\n",
      "[Epoch    1/  10] [Batch    1/ 125] Loss:  8.97e+00 Nucleotide-Loss:  1.39e+00 Edge-Loss:  7.58e+00 Node_accuracy  3.82e-02\n",
      "0.03759276537977665\n",
      "0.036995275016855074\n",
      "0.03703332897827453\n",
      "0.03775433171650231\n",
      "0.04065079386125073\n",
      "0.04041120630054664\n",
      "0.041047311539076925\n",
      "0.042415546119421076\n",
      "0.0413196451662169\n",
      "0.04058328658888613\n",
      "[Epoch    1/  10] [Batch   11/ 125] Loss:  8.05e+00 Nucleotide-Loss:  1.38e+00 Edge-Loss:  6.67e+00 Node_accuracy  4.12e-02\n",
      "0.041015826707139505\n",
      "0.04063228458886548\n",
      "0.04120530592338296\n"
     ]
    },
    {
     "ename": "KeyboardInterrupt",
     "evalue": "",
     "output_type": "error",
     "traceback": [
      "\u001b[0;31m---------------------------------------------------------------------------\u001b[0m",
      "\u001b[0;31mKeyboardInterrupt\u001b[0m                         Traceback (most recent call last)",
      "Cell \u001b[0;32mIn[6], line 25\u001b[0m\n\u001b[1;32m     22\u001b[0m nucs, bpp \u001b[38;5;241m=\u001b[39m model(batch)\n\u001b[1;32m     24\u001b[0m node_loss \u001b[38;5;241m=\u001b[39m cel_loss(nucs\u001b[38;5;241m.\u001b[39mcpu()[nuc_mask],true_x[nuc_mask])\n\u001b[0;32m---> 25\u001b[0m edge_loss \u001b[38;5;241m=\u001b[39m kl_loss(bpp\u001b[38;5;241m.\u001b[39mcpu()[nuc_mask]\u001b[38;5;241m.\u001b[39mlog() , torch\u001b[38;5;241m.\u001b[39mtensor(\u001b[43mreconstruct_bpp\u001b[49m\u001b[43m(\u001b[49m\u001b[43mbatch\u001b[49m\u001b[38;5;241;43m.\u001b[39;49m\u001b[43medge_index\u001b[49m\u001b[38;5;241;43m.\u001b[39;49m\u001b[43mcpu\u001b[49m\u001b[43m(\u001b[49m\u001b[43m)\u001b[49m\u001b[43m,\u001b[49m\u001b[43m \u001b[49m\u001b[43mtrue_edges\u001b[49m\u001b[43m,\u001b[49m\u001b[43m \u001b[49m\u001b[43m(\u001b[49m\u001b[38;5;28;43mlen\u001b[39;49m\u001b[43m(\u001b[49m\u001b[43mbpp\u001b[49m\u001b[43m)\u001b[49m\u001b[43m,\u001b[49m\u001b[38;5;28;43mlen\u001b[39;49m\u001b[43m(\u001b[49m\u001b[43mbpp\u001b[49m\u001b[43m)\u001b[49m\u001b[43m)\u001b[49m\u001b[43m)\u001b[49m[nuc_mask]))\n\u001b[1;32m     27\u001b[0m loss \u001b[38;5;241m=\u001b[39m node_loss \u001b[38;5;241m+\u001b[39m edge_loss\n\u001b[1;32m     29\u001b[0m loss\u001b[38;5;241m.\u001b[39mbackward()\n",
      "File \u001b[0;32m/lustre/groups/crna01/workspace/nicolas_msc/RNARepLearn/RNARepLearn/utils.py:32\u001b[0m, in \u001b[0;36mreconstruct_bpp\u001b[0;34m(edge_index, weights, shape)\u001b[0m\n\u001b[1;32m     31\u001b[0m \u001b[38;5;28;01mdef\u001b[39;00m \u001b[38;5;21mreconstruct_bpp\u001b[39m(edge_index, weights, shape):\n\u001b[0;32m---> 32\u001b[0m     mat \u001b[38;5;241m=\u001b[39m \u001b[43msparse\u001b[49m\u001b[38;5;241;43m.\u001b[39;49m\u001b[43mcoo_matrix\u001b[49m\u001b[43m(\u001b[49m\u001b[43m(\u001b[49m\u001b[43mweights\u001b[49m\u001b[43m,\u001b[49m\u001b[43m \u001b[49m\u001b[43m(\u001b[49m\u001b[43medge_index\u001b[49m\u001b[43m[\u001b[49m\u001b[38;5;241;43m0\u001b[39;49m\u001b[43m]\u001b[49m\u001b[43m,\u001b[49m\u001b[43m \u001b[49m\u001b[43medge_index\u001b[49m\u001b[43m[\u001b[49m\u001b[38;5;241;43m1\u001b[39;49m\u001b[43m]\u001b[49m\u001b[43m)\u001b[49m\u001b[43m)\u001b[49m\u001b[43m,\u001b[49m\u001b[43m \u001b[49m\u001b[43mshape\u001b[49m\u001b[38;5;241;43m=\u001b[39;49m\u001b[43mshape\u001b[49m\u001b[43m)\u001b[49m\u001b[38;5;241;43m.\u001b[39;49m\u001b[43mtoarray\u001b[49m\u001b[43m(\u001b[49m\u001b[43m)\u001b[49m\n\u001b[1;32m     33\u001b[0m     \u001b[38;5;28;01mreturn\u001b[39;00m mat\n",
      "File \u001b[0;32m~/miniconda3/envs/RFAM/lib/python3.10/site-packages/scipy/sparse/_coo.py:326\u001b[0m, in \u001b[0;36mcoo_matrix.toarray\u001b[0;34m(self, order, out)\u001b[0m\n\u001b[1;32m    324\u001b[0m     \u001b[38;5;28;01mraise\u001b[39;00m \u001b[38;5;167;01mValueError\u001b[39;00m(\u001b[38;5;124m\"\u001b[39m\u001b[38;5;124mOutput array must be C or F contiguous\u001b[39m\u001b[38;5;124m\"\u001b[39m)\n\u001b[1;32m    325\u001b[0m M,N \u001b[38;5;241m=\u001b[39m \u001b[38;5;28mself\u001b[39m\u001b[38;5;241m.\u001b[39mshape\n\u001b[0;32m--> 326\u001b[0m \u001b[43mcoo_todense\u001b[49m\u001b[43m(\u001b[49m\u001b[43mM\u001b[49m\u001b[43m,\u001b[49m\u001b[43m \u001b[49m\u001b[43mN\u001b[49m\u001b[43m,\u001b[49m\u001b[43m \u001b[49m\u001b[38;5;28;43mself\u001b[39;49m\u001b[38;5;241;43m.\u001b[39;49m\u001b[43mnnz\u001b[49m\u001b[43m,\u001b[49m\u001b[43m \u001b[49m\u001b[38;5;28;43mself\u001b[39;49m\u001b[38;5;241;43m.\u001b[39;49m\u001b[43mrow\u001b[49m\u001b[43m,\u001b[49m\u001b[43m \u001b[49m\u001b[38;5;28;43mself\u001b[39;49m\u001b[38;5;241;43m.\u001b[39;49m\u001b[43mcol\u001b[49m\u001b[43m,\u001b[49m\u001b[43m \u001b[49m\u001b[38;5;28;43mself\u001b[39;49m\u001b[38;5;241;43m.\u001b[39;49m\u001b[43mdata\u001b[49m\u001b[43m,\u001b[49m\n\u001b[1;32m    327\u001b[0m \u001b[43m            \u001b[49m\u001b[43mB\u001b[49m\u001b[38;5;241;43m.\u001b[39;49m\u001b[43mravel\u001b[49m\u001b[43m(\u001b[49m\u001b[38;5;124;43m'\u001b[39;49m\u001b[38;5;124;43mA\u001b[39;49m\u001b[38;5;124;43m'\u001b[39;49m\u001b[43m)\u001b[49m\u001b[43m,\u001b[49m\u001b[43m \u001b[49m\u001b[43mfortran\u001b[49m\u001b[43m)\u001b[49m\n\u001b[1;32m    328\u001b[0m \u001b[38;5;28;01mreturn\u001b[39;00m B\n",
      "\u001b[0;31mKeyboardInterrupt\u001b[0m: "
     ]
    }
   ],
   "source": [
    "from RNARepLearn.utils import mask_batch, reconstruct_bpp\n",
    "\n",
    "##Training\n",
    "\n",
    "train_hist = {}\n",
    "train_hist[\"loss\"]=[]\n",
    "train_hist[\"nucleotide_loss\"]=[]\n",
    "train_hist[\"edge_loss\"]=[]\n",
    "model.train()\n",
    "cel_loss = torch.nn.CrossEntropyLoss()\n",
    "kl_loss = torch.nn.KLDivLoss(reduction='batchmean')\n",
    "\n",
    "for epoch in range(n_epochs):\n",
    "    for idx, batch in enumerate(train_loader):\n",
    "        true_x = torch.clone(batch.x)\n",
    "        true_edges = torch.clone(batch.edge_weight)\n",
    "\n",
    "        nuc_mask, edge_mask = mask_batch(batch,15)\n",
    "        batch.to(device)\n",
    "        optimizer.zero_grad()\n",
    "        \n",
    "        nucs, bpp = model(batch)\n",
    "\n",
    "        node_loss = cel_loss(nucs.cpu()[nuc_mask],true_x[nuc_mask])\n",
    "        edge_loss = kl_loss(bpp.cpu()[nuc_mask].log() , torch.tensor(reconstruct_bpp(batch.edge_index.cpu(), true_edges, (len(bpp),len(bpp)))[nuc_mask]))\n",
    "        \n",
    "        loss = node_loss + edge_loss\n",
    "        \n",
    "        writer.add_scalar(\"Loss/train\", loss, epoch)\n",
    "        writer.add_scalar(\"Loss_nodes/train\", node_loss, epoch)\n",
    "        writer.add_scalar(\"Loss_edges/train\", edge_loss, epoch)\n",
    "\n",
    "        loss.backward()\n",
    "        optimizer.step()\n",
    "        \n",
    "        node_accuracy = int((nucs.cpu()[nuc_mask].argmax(dim=1)==true_x[nuc_mask].argmax(dim=1)).sum()) / len(nuc_mask)\n",
    "        \n",
    "        writer.add_scalar(\"Node_Accuracy/train\", node_accuracy, epoch)\n",
    "        \n",
    "        if val_loader is not None:\n",
    "            model.eval()\n",
    "            node_accuracy_val = []\n",
    "            for batch in val_loader:\n",
    "                true_x = torch.clone(batch.x)\n",
    "                nuc_mask, edge_mask = mask_batch(batch,15)\n",
    "                batch.to(device)\n",
    "                optimizer.zero_grad()\n",
    "        \n",
    "                nucs, bpp = model(batch)\n",
    "                node_accuracy_val.append(int((nucs.cpu()[nuc_mask].argmax(dim=1)==true_x[nuc_mask].argmax(dim=1)).sum()) / len(nuc_mask))\n",
    "            node_accuracy_val = sum(node_accuracy_val)/len(node_accuracy_val)\n",
    "            writer.add_scalar(\"Node_Accuracy/val\", node_accuracy, epoch)\n",
    "            \n",
    "            model.train()\n",
    "        \n",
    "        \n",
    "        \n",
    "        \n",
    "        if idx % 10 == 0:\n",
    "            print('\\r[Epoch %4d/%4d] [Batch %4d/%4d] Loss: % 2.2e Nucleotide-Loss: % 2.2e Edge-Loss: % 2.2e Node_accuracy % 2.2e' % (epoch + 1, n_epochs, \n",
    "                                                                idx + 1, len(train_loader), \n",
    "                                                                loss.item(),node_loss.item(),edge_loss.item(),node_accuracy))\n",
    "writer.flush()\n",
    "        "
   ]
  },
  {
   "cell_type": "code",
   "execution_count": null,
   "id": "cd462b48-ed4c-4d8e-bb60-c21dd8e668e8",
   "metadata": {},
   "outputs": [],
   "source": []
  }
 ],
 "metadata": {
  "kernelspec": {
   "display_name": "RFAM",
   "language": "python",
   "name": "rfam"
  },
  "language_info": {
   "codemirror_mode": {
    "name": "ipython",
    "version": 3
   },
   "file_extension": ".py",
   "mimetype": "text/x-python",
   "name": "python",
   "nbconvert_exporter": "python",
   "pygments_lexer": "ipython3",
   "version": "3.10.8"
  }
 },
 "nbformat": 4,
 "nbformat_minor": 5
}
