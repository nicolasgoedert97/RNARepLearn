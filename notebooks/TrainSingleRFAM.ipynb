{
 "cells": [
  {
   "cell_type": "code",
   "execution_count": 1,
   "id": "50b88dc5-1bb7-4763-a723-d127060a73eb",
   "metadata": {},
   "outputs": [
    {
     "name": "stderr",
     "output_type": "stream",
     "text": [
      "/home/icb/vnicolas.goedert/miniconda3/envs/RFAM/lib/python3.10/site-packages/tqdm/auto.py:22: TqdmWarning: IProgress not found. Please update jupyter and ipywidgets. See https://ipywidgets.readthedocs.io/en/stable/user_install.html\n",
      "  from .autonotebook import tqdm as notebook_tqdm\n"
     ]
    }
   ],
   "source": [
    "import numpy as np\n",
    "import torch\n",
    "import os\n",
    "import pandas as pd\n",
    "import torch_geometric\n",
    "import pickle\n",
    "import tqdm\n",
    "import random"
   ]
  },
  {
   "cell_type": "code",
   "execution_count": 2,
   "id": "83abfb0e-9d96-4704-890b-919e224fe125",
   "metadata": {},
   "outputs": [],
   "source": [
    "rfam_dir = \"../rfam/data/raw/processed/release-14.8\"\n",
    "rfam = \"RF04088\""
   ]
  },
  {
   "cell_type": "code",
   "execution_count": 3,
   "id": "5e095ec9-6dca-45bc-88ef-b18ee157fbf8",
   "metadata": {},
   "outputs": [
    {
     "name": "stderr",
     "output_type": "stream",
     "text": [
      "Processing...\n",
      "Done!\n"
     ]
    },
    {
     "data": {
      "text/plain": [
       "SingleMaskedRfamDataset(4988)"
      ]
     },
     "execution_count": 3,
     "metadata": {},
     "output_type": "execute_result"
    }
   ],
   "source": [
    "from RNARepLearn.datasets import SingleMaskedRfamDataset\n",
    "rfam_dataset = SingleMaskedRfamDataset(rfam_dir,rfam,15)\n",
    "rfam_dataset"
   ]
  },
  {
   "cell_type": "code",
   "execution_count": 4,
   "id": "268fe005-5b4c-42eb-a1e6-69ea00416bad",
   "metadata": {},
   "outputs": [],
   "source": [
    "train_size = int(0.8 * len(rfam_dataset))\n",
    "test_size = len(rfam_dataset) - train_size\n",
    "train_dataset, test_dataset = torch.utils.data.random_split(rfam_dataset, [train_size, test_size])"
   ]
  },
  {
   "cell_type": "code",
   "execution_count": 5,
   "id": "5e7be29e-fd0f-4ffd-b546-54777e8dea18",
   "metadata": {},
   "outputs": [],
   "source": [
    "from torch_geometric.loader import DataLoader\n",
    "train_loader = DataLoader(train_dataset, batch_size=32, shuffle=True)"
   ]
  },
  {
   "cell_type": "code",
   "execution_count": 9,
   "id": "3948b385-555c-45d0-97d8-70ccc3f35167",
   "metadata": {},
   "outputs": [],
   "source": [
    "##Model\n",
    "import torch.nn.functional as F\n",
    "from torch_geometric.nn import GCNConv, Linear\n",
    "\n",
    "class GCN(torch.nn.Module):\n",
    "    def __init__(self):\n",
    "        super().__init__()\n",
    "        self.conv1 = GCNConv(rfam_dataset.num_node_features, 64)\n",
    "        self.Wk = Linear(64,64)\n",
    "        self.Wq = Linear(64,64)\n",
    "\n",
    "        \n",
    "    def forward(self, data):\n",
    "        x, edge_index = data.x, data.edge_index\n",
    "\n",
    "        #build representation\n",
    "        # input -> V_N,D\n",
    "        x = self.conv1(x, edge_index)\n",
    "        x = F.relu(x)\n",
    "        x = F.dropout(x, training=self.training)\n",
    "        \n",
    "        #attention\n",
    "        # linear projection Wq_D,D and Wk_D,D\n",
    "        w_q = self.Wq(x)\n",
    "        w_k = self.Wk(x)\n",
    "\n",
    "        print(x.shape)\n",
    "        print(w_q.shape)\n",
    "        print(w_k.shape) \n",
    "        \n",
    "        queries = torch.tensordot(x,w_q)\n",
    "        keys = torch.tensordot(x,w_k)\n",
    "        print(queries.shape)\n",
    "        \n",
    "        transpose=keys.T\n",
    "        dot_prod = torch.tensordot(queries, transpose)\n",
    "        bpp = F.softmax(dot_prod, dim=1)\n",
    "        \n",
    "        \n",
    "        x = self.conv2(x, edge_index)\n",
    "\n",
    "        return F.softmax(x, dim=1), bpp\n",
    "    \n",
    "def mask(batch, percentage):\n",
    "    mask = [random.randrange(100) < percentage for i in range(batch.x.shape[0])]\n",
    "    # mask nodes\n",
    "    batch.x[mask] = torch.tensor([0.0,0.0,0.0,0.0],dtype=torch.float64)\n",
    "    \n",
    "    # mask edges\n",
    "    masked_bases = np.asarray(range(len(mask)))[mask]\n",
    "    masked_edges_index_from = np.where(np.isin(batch.edge_index[0],masked_bases))\n",
    "    masked_edges_index_to = np.where(np.isin(batch.edge_index[1],masked_bases))\n",
    "    masked_edges = np.union1d(masked_edges_index_from, masked_edges_index_to)\n",
    "    \n",
    "    #batch.edge_attr[masked_edges]=0.0\n",
    "    \n",
    "    return batch"
   ]
  },
  {
   "cell_type": "code",
   "execution_count": 10,
   "id": "3d6db26a-dc57-43d5-9b92-b6bbeed36b81",
   "metadata": {},
   "outputs": [],
   "source": [
    "##Setup\n",
    "device = torch.device('cuda' if torch.cuda.is_available() else 'cpu')\n",
    "model = GCN().to(device)\n",
    "model = model.double()\n",
    "optimizer = torch.optim.Adam(model.parameters(), lr=0.01, weight_decay=5e-4)\n",
    "\n",
    "n_epochs = 20\n"
   ]
  },
  {
   "cell_type": "code",
   "execution_count": 11,
   "id": "4c0902e2-7468-4a06-bbd1-4ad1f1fc3f5c",
   "metadata": {},
   "outputs": [
    {
     "name": "stdout",
     "output_type": "stream",
     "text": [
      "torch.Size([6545, 64])\n",
      "torch.Size([6545, 64])\n",
      "torch.Size([6545, 64])\n",
      "torch.Size([])\n"
     ]
    },
    {
     "ename": "IndexError",
     "evalue": "dimension specified as -2 but tensor has no dimensions",
     "output_type": "error",
     "traceback": [
      "\u001b[0;31m---------------------------------------------------------------------------\u001b[0m",
      "\u001b[0;31mIndexError\u001b[0m                                Traceback (most recent call last)",
      "Cell \u001b[0;32mIn[11], line 13\u001b[0m\n\u001b[1;32m     11\u001b[0m batch\u001b[38;5;241m.\u001b[39mto(device)\n\u001b[1;32m     12\u001b[0m optimizer\u001b[38;5;241m.\u001b[39mzero_grad()\n\u001b[0;32m---> 13\u001b[0m out,bpp \u001b[38;5;241m=\u001b[39m \u001b[43mmodel\u001b[49m\u001b[43m(\u001b[49m\u001b[43mbatch\u001b[49m\u001b[43m)\u001b[49m\n\u001b[1;32m     15\u001b[0m node_loss \u001b[38;5;241m=\u001b[39m cel_loss(out,batch\u001b[38;5;241m.\u001b[39my)\n\u001b[1;32m     16\u001b[0m \u001b[38;5;66;03m#edge_loss = mse_loss(out,)\u001b[39;00m\n",
      "File \u001b[0;32m~/miniconda3/envs/RFAM/lib/python3.10/site-packages/torch/nn/modules/module.py:1130\u001b[0m, in \u001b[0;36mModule._call_impl\u001b[0;34m(self, *input, **kwargs)\u001b[0m\n\u001b[1;32m   1126\u001b[0m \u001b[38;5;66;03m# If we don't have any hooks, we want to skip the rest of the logic in\u001b[39;00m\n\u001b[1;32m   1127\u001b[0m \u001b[38;5;66;03m# this function, and just call forward.\u001b[39;00m\n\u001b[1;32m   1128\u001b[0m \u001b[38;5;28;01mif\u001b[39;00m \u001b[38;5;129;01mnot\u001b[39;00m (\u001b[38;5;28mself\u001b[39m\u001b[38;5;241m.\u001b[39m_backward_hooks \u001b[38;5;129;01mor\u001b[39;00m \u001b[38;5;28mself\u001b[39m\u001b[38;5;241m.\u001b[39m_forward_hooks \u001b[38;5;129;01mor\u001b[39;00m \u001b[38;5;28mself\u001b[39m\u001b[38;5;241m.\u001b[39m_forward_pre_hooks \u001b[38;5;129;01mor\u001b[39;00m _global_backward_hooks\n\u001b[1;32m   1129\u001b[0m         \u001b[38;5;129;01mor\u001b[39;00m _global_forward_hooks \u001b[38;5;129;01mor\u001b[39;00m _global_forward_pre_hooks):\n\u001b[0;32m-> 1130\u001b[0m     \u001b[38;5;28;01mreturn\u001b[39;00m \u001b[43mforward_call\u001b[49m\u001b[43m(\u001b[49m\u001b[38;5;241;43m*\u001b[39;49m\u001b[38;5;28;43minput\u001b[39;49m\u001b[43m,\u001b[49m\u001b[43m \u001b[49m\u001b[38;5;241;43m*\u001b[39;49m\u001b[38;5;241;43m*\u001b[39;49m\u001b[43mkwargs\u001b[49m\u001b[43m)\u001b[49m\n\u001b[1;32m   1131\u001b[0m \u001b[38;5;66;03m# Do not call functions when jit is used\u001b[39;00m\n\u001b[1;32m   1132\u001b[0m full_backward_hooks, non_full_backward_hooks \u001b[38;5;241m=\u001b[39m [], []\n",
      "Cell \u001b[0;32mIn[9], line 36\u001b[0m, in \u001b[0;36mGCN.forward\u001b[0;34m(self, data)\u001b[0m\n\u001b[1;32m     33\u001b[0m \u001b[38;5;28mprint\u001b[39m(queries\u001b[38;5;241m.\u001b[39mshape)\n\u001b[1;32m     35\u001b[0m transpose\u001b[38;5;241m=\u001b[39mkeys\u001b[38;5;241m.\u001b[39mT\n\u001b[0;32m---> 36\u001b[0m dot_prod \u001b[38;5;241m=\u001b[39m \u001b[43mtorch\u001b[49m\u001b[38;5;241;43m.\u001b[39;49m\u001b[43mtensordot\u001b[49m\u001b[43m(\u001b[49m\u001b[43mqueries\u001b[49m\u001b[43m,\u001b[49m\u001b[43m \u001b[49m\u001b[43mtranspose\u001b[49m\u001b[43m)\u001b[49m\n\u001b[1;32m     37\u001b[0m bpp \u001b[38;5;241m=\u001b[39m F\u001b[38;5;241m.\u001b[39msoftmax(dot_prod, dim\u001b[38;5;241m=\u001b[39m\u001b[38;5;241m1\u001b[39m)\n\u001b[1;32m     40\u001b[0m x \u001b[38;5;241m=\u001b[39m \u001b[38;5;28mself\u001b[39m\u001b[38;5;241m.\u001b[39mconv2(x, edge_index)\n",
      "File \u001b[0;32m~/miniconda3/envs/RFAM/lib/python3.10/site-packages/torch/functional.py:1064\u001b[0m, in \u001b[0;36mtensordot\u001b[0;34m(a, b, dims, out)\u001b[0m\n\u001b[1;32m   1061\u001b[0m     dims_b \u001b[38;5;241m=\u001b[39m \u001b[38;5;28mlist\u001b[39m(\u001b[38;5;28mrange\u001b[39m(dims))\n\u001b[1;32m   1063\u001b[0m \u001b[38;5;28;01mif\u001b[39;00m out \u001b[38;5;129;01mis\u001b[39;00m \u001b[38;5;28;01mNone\u001b[39;00m:\n\u001b[0;32m-> 1064\u001b[0m     \u001b[38;5;28;01mreturn\u001b[39;00m \u001b[43m_VF\u001b[49m\u001b[38;5;241;43m.\u001b[39;49m\u001b[43mtensordot\u001b[49m\u001b[43m(\u001b[49m\u001b[43ma\u001b[49m\u001b[43m,\u001b[49m\u001b[43m \u001b[49m\u001b[43mb\u001b[49m\u001b[43m,\u001b[49m\u001b[43m \u001b[49m\u001b[43mdims_a\u001b[49m\u001b[43m,\u001b[49m\u001b[43m \u001b[49m\u001b[43mdims_b\u001b[49m\u001b[43m)\u001b[49m  \u001b[38;5;66;03m# type: ignore[attr-defined]\u001b[39;00m\n\u001b[1;32m   1065\u001b[0m \u001b[38;5;28;01melse\u001b[39;00m:\n\u001b[1;32m   1066\u001b[0m     \u001b[38;5;28;01mreturn\u001b[39;00m _VF\u001b[38;5;241m.\u001b[39mtensordot(a, b, dims_a, dims_b, out\u001b[38;5;241m=\u001b[39mout)\n",
      "\u001b[0;31mIndexError\u001b[0m: dimension specified as -2 but tensor has no dimensions"
     ]
    }
   ],
   "source": [
    "##Training\n",
    "train_hist = {}\n",
    "train_hist[\"loss\"]=[]\n",
    "model.train()\n",
    "cel_loss = torch.nn.CrossEntropyLoss()\n",
    "mse_loss = torch.nn.MSELoss()\n",
    "\n",
    "for epoch in range(n_epochs):\n",
    "    for idx, batch in enumerate(train_loader):\n",
    "        batch = mask(batch,15)\n",
    "        batch.to(device)\n",
    "        optimizer.zero_grad()\n",
    "        out,bpp = model(batch)\n",
    "    \n",
    "        node_loss = cel_loss(out,batch.y)\n",
    "        #edge_loss = mse_loss(out,)\n",
    "        \n",
    "        loss = node_loss\n",
    "\n",
    "        loss.backward()\n",
    "        optimizer.step()\n",
    "        train_hist[\"loss\"].append(loss.item())\n",
    "        \n",
    "        print('\\r[Epoch %4d/%4d] [Batch %4d/%4d] Loss: % 2.2e' % (epoch + 1, n_epochs, \n",
    "                                                                idx + 1, len(train_loader), \n",
    "                                                                loss.item()))\n",
    "    "
   ]
  },
  {
   "cell_type": "code",
   "execution_count": 11,
   "id": "6a46b265-d9fc-4f05-819b-d9983b1db811",
   "metadata": {},
   "outputs": [
    {
     "data": {
      "text/plain": [
       "torch.Size([6562, 4])"
      ]
     },
     "execution_count": 11,
     "metadata": {},
     "output_type": "execute_result"
    }
   ],
   "source": [
    "model(batch).shape"
   ]
  },
  {
   "cell_type": "code",
   "execution_count": 12,
   "id": "f0ddb9d0-38a4-4cc0-834a-96b8e56c7330",
   "metadata": {},
   "outputs": [
    {
     "data": {
      "text/plain": [
       "tensor([[0.8031, 0.0166, 0.1088, 0.0714],\n",
       "        [0.8020, 0.0165, 0.1095, 0.0720],\n",
       "        [0.0278, 0.0197, 0.0144, 0.9381],\n",
       "        ...,\n",
       "        [0.7696, 0.0213, 0.1157, 0.0933],\n",
       "        [0.0286, 0.0198, 0.0154, 0.9362],\n",
       "        [0.0282, 0.0199, 0.0153, 0.9366]], device='cuda:0',\n",
       "       dtype=torch.float64, grad_fn=<SoftmaxBackward0>)"
      ]
     },
     "execution_count": 12,
     "metadata": {},
     "output_type": "execute_result"
    }
   ],
   "source": [
    "test_loader = DataLoader(test_dataset, batch_size=32, shuffle=True)\n",
    "test_data = next(iter(test_loader))\n",
    "test_data.to(device)\n",
    "pred = model(test_data)\n",
    "pred"
   ]
  },
  {
   "cell_type": "code",
   "execution_count": 13,
   "id": "fa4c4c81-3fe5-4099-a478-9252a4b451ad",
   "metadata": {},
   "outputs": [],
   "source": [
    "from sklearn.metrics import roc_curve"
   ]
  },
  {
   "cell_type": "code",
   "execution_count": 14,
   "id": "270cb1c9-5e74-4343-a6f3-c8a753de49aa",
   "metadata": {},
   "outputs": [],
   "source": [
    "yscore = pred.detach().cpu().numpy()"
   ]
  },
  {
   "cell_type": "code",
   "execution_count": 10,
   "id": "0baa4505-4b80-4b26-bbeb-69e4ef80ddc7",
   "metadata": {},
   "outputs": [
    {
     "data": {
      "image/png": "[encoded data removed]",
      "text/plain": [
       "<Figure size 640x480 with 1 Axes>"
      ]
     },
     "metadata": {},
     "output_type": "display_data"
    }
   ],
   "source": [
    "import matplotlib.pyplot as plt\n",
    "fig, ax = plt.subplots()\n",
    "ax.loglog(np.abs(train_hist['loss']))\n",
    "ax.set_xlabel('Iter')\n",
    "ax.set_ylabel('Loss')\n",
    "ax.grid(True)"
   ]
  },
  {
   "cell_type": "code",
   "execution_count": 13,
   "id": "33c9c7fe-9d89-4c14-84c5-a758eabbcb04",
   "metadata": {},
   "outputs": [
    {
     "data": {
      "image/png": "[encoded data removed]",
      "text/plain": [
       "<Figure size 640x480 with 1 Axes>"
      ]
     },
     "metadata": {},
     "output_type": "display_data"
    }
   ],
   "source": [
    "import matplotlib.pyplot as plt\n",
    "fig, ax = plt.subplots()\n",
    "ax.loglog(np.abs(train_hist['loss']))\n",
    "ax.set_xlabel('Iter')\n",
    "ax.set_ylabel('Loss')\n",
    "ax.grid(True)"
   ]
  },
  {
   "cell_type": "code",
   "execution_count": null,
   "id": "35d27646-61e1-49c1-bdc7-c3695eab9a1c",
   "metadata": {},
   "outputs": [],
   "source": []
  }
 ],
 "metadata": {
  "kernelspec": {
   "display_name": "RFAM",
   "language": "python",
   "name": "rfam"
  },
  "language_info": {
   "codemirror_mode": {
    "name": "ipython",
    "version": 3
   },
   "file_extension": ".py",
   "mimetype": "text/x-python",
   "name": "python",
   "nbconvert_exporter": "python",
   "pygments_lexer": "ipython3",
   "version": "3.10.8"
  }
 },
 "nbformat": 4,
 "nbformat_minor": 5
}
