{
 "cells": [
  {
   "cell_type": "code",
   "execution_count": 1,
   "id": "d5d4f572-7583-4504-86dd-35eb187b1107",
   "metadata": {},
   "outputs": [
    {
     "name": "stderr",
     "output_type": "stream",
     "text": [
      "/home/icb/vnicolas.goedert/miniconda3/envs/RFAM/lib/python3.10/site-packages/tqdm/auto.py:22: TqdmWarning: IProgress not found. Please update jupyter and ipywidgets. See https://ipywidgets.readthedocs.io/en/stable/user_install.html\n",
      "  from .autonotebook import tqdm as notebook_tqdm\n"
     ]
    }
   ],
   "source": [
    "import numpy as np\n",
    "import torch\n",
    "import os\n",
    "import pandas as pd\n",
    "import torch_geometric\n",
    "import pickle\n",
    "import tqdm\n",
    "import random"
   ]
  },
  {
   "cell_type": "code",
   "execution_count": 2,
   "id": "cd086858-2c40-47a8-9c30-ecc7b8687bd7",
   "metadata": {},
   "outputs": [],
   "source": [
    "rfam_dir = \"../rfam/data/raw/processed/release-14.8\"\n",
    "rfam = \"RF04088\""
   ]
  },
  {
   "cell_type": "code",
   "execution_count": 3,
   "id": "0fb9f0c1-84b5-4739-8dfc-53d060d8b179",
   "metadata": {},
   "outputs": [
    {
     "name": "stderr",
     "output_type": "stream",
     "text": [
      "Processing...\n",
      "Done!\n"
     ]
    },
    {
     "data": {
      "text/plain": [
       "SingleRfamDataset(4988)"
      ]
     },
     "execution_count": 3,
     "metadata": {},
     "output_type": "execute_result"
    }
   ],
   "source": [
    "from RNARepLearn.datasets import SingleRfamDataset\n",
    "rfam_dataset = SingleRfamDataset(rfam_dir,rfam,15)\n",
    "rfam_dataset"
   ]
  },
  {
   "cell_type": "code",
   "execution_count": 4,
   "id": "3917d2e9-81bb-4b8a-ad14-b2c92543c385",
   "metadata": {},
   "outputs": [],
   "source": [
    "train_size = int(0.8 * len(rfam_dataset))\n",
    "test_size = len(rfam_dataset) - train_size\n",
    "train_dataset, test_dataset = torch.utils.data.random_split(rfam_dataset, [train_size, test_size])"
   ]
  },
  {
   "cell_type": "code",
   "execution_count": 5,
   "id": "aa5ee5a1-c2fe-463c-8d1e-a8b56e9598f8",
   "metadata": {},
   "outputs": [],
   "source": [
    "from torch_geometric.loader import DataLoader\n",
    "train_loader = DataLoader(train_dataset, batch_size=32, shuffle=True)"
   ]
  },
  {
   "cell_type": "code",
   "execution_count": 6,
   "id": "39254250-0961-45b5-9a93-928a70f2ac2f",
   "metadata": {},
   "outputs": [],
   "source": [
    "##Model\n",
    "import torch.nn.functional as F\n",
    "from torch_geometric.nn import GCNConv, Linear\n",
    "\n",
    "class Encoder(torch.nn.Module):\n",
    "    def __init__(self, input_channels, output_channels):\n",
    "        super().__init__()\n",
    "        self.conv1 = GCNConv(input_channels, output_channels)\n",
    "\n",
    "        \n",
    "    def forward(self, data):\n",
    "        x, edge_index = data.x, data.edge_index\n",
    "\n",
    "        #build representation, encode\n",
    "        # input -> V_N,D\n",
    "        x = self.conv1(x, edge_index)\n",
    "        x = F.relu(x)\n",
    "        x = F.dropout(x, training=self.training)\n",
    "        \n",
    "        return x\n",
    "    \n",
    "class AttentionDecoder(torch.nn.Module):\n",
    "    def __init__(self, input_channels, output_channels):\n",
    "        super().__init__()\n",
    "        self.key_projection = Linear(input_channels, input_channels)\n",
    "        self.query_projection = Linear(input_channels, input_channels)\n",
    "        self.nuc_projection = Linear(input_channels, output_channels)\n",
    "        \n",
    "    def forward(self, x):\n",
    "        keys = self.key_projection(x)\n",
    "        queries = self.query_projection(x)\n",
    "        \n",
    "        nucleotides = self.nuc_projection(x)\n",
    "        \n",
    "        dotprod = torch.matmul(queries,keys.T)\n",
    "        \n",
    "        return F.softmax(nucleotides, dim=1), F.softmax(dotprod, dim=1)\n",
    "    "
   ]
  },
  {
   "cell_type": "code",
   "execution_count": 18,
   "id": "c314afc2-f613-49d1-afd3-0e3474aeaee7",
   "metadata": {},
   "outputs": [],
   "source": [
    "layers = []\n",
    "layers.append(Encoder(4,64))\n",
    "layers.append(AttentionDecoder(64,4))\n",
    "model = torch.nn.Sequential(*layers)"
   ]
  },
  {
   "cell_type": "code",
   "execution_count": 19,
   "id": "71ae2e09-10aa-459a-a147-512fb639c58a",
   "metadata": {},
   "outputs": [],
   "source": [
    "##Setup\n",
    "device = torch.device('cuda' if torch.cuda.is_available() else 'cpu')\n",
    "model = model.to(device)\n",
    "model = model.double()\n",
    "optimizer = torch.optim.Adam(model.parameters(), lr=0.01, weight_decay=5e-4)\n",
    "\n",
    "n_epochs = 10"
   ]
  },
  {
   "cell_type": "code",
   "execution_count": 20,
   "id": "851713a8-0f95-4c9e-86a8-e05c135e3137",
   "metadata": {},
   "outputs": [
    {
     "name": "stdout",
     "output_type": "stream",
     "text": [
      "[Epoch    1/  10] [Batch    1/ 125] Loss:  1.47e+00 Nucleotide-Loss:  1.39e+00 Edge-Loss:  8.65e-02\n",
      "[Epoch    1/  10] [Batch    2/ 125] Loss:  1.46e+00 Nucleotide-Loss:  1.37e+00 Edge-Loss:  8.76e-02\n",
      "[Epoch    1/  10] [Batch    3/ 125] Loss:  1.44e+00 Nucleotide-Loss:  1.35e+00 Edge-Loss:  8.71e-02\n",
      "[Epoch    1/  10] [Batch    4/ 125] Loss:  1.42e+00 Nucleotide-Loss:  1.33e+00 Edge-Loss:  8.50e-02\n",
      "[Epoch    1/  10] [Batch    5/ 125] Loss:  1.40e+00 Nucleotide-Loss:  1.32e+00 Edge-Loss:  8.71e-02\n",
      "[Epoch    1/  10] [Batch    6/ 125] Loss:  1.38e+00 Nucleotide-Loss:  1.29e+00 Edge-Loss:  8.62e-02\n",
      "[Epoch    1/  10] [Batch    7/ 125] Loss:  1.36e+00 Nucleotide-Loss:  1.27e+00 Edge-Loss:  8.61e-02\n",
      "[Epoch    1/  10] [Batch    8/ 125] Loss:  1.33e+00 Nucleotide-Loss:  1.24e+00 Edge-Loss:  8.58e-02\n",
      "[Epoch    1/  10] [Batch    9/ 125] Loss:  1.33e+00 Nucleotide-Loss:  1.24e+00 Edge-Loss:  8.92e-02\n",
      "[Epoch    1/  10] [Batch   10/ 125] Loss:  1.29e+00 Nucleotide-Loss:  1.21e+00 Edge-Loss:  8.55e-02\n",
      "[Epoch    1/  10] [Batch   11/ 125] Loss:  1.26e+00 Nucleotide-Loss:  1.17e+00 Edge-Loss:  8.60e-02\n",
      "[Epoch    1/  10] [Batch   12/ 125] Loss:  1.25e+00 Nucleotide-Loss:  1.16e+00 Edge-Loss:  8.60e-02\n",
      "[Epoch    1/  10] [Batch   13/ 125] Loss:  1.22e+00 Nucleotide-Loss:  1.13e+00 Edge-Loss:  8.66e-02\n",
      "[Epoch    1/  10] [Batch   14/ 125] Loss:  1.21e+00 Nucleotide-Loss:  1.12e+00 Edge-Loss:  8.71e-02\n",
      "[Epoch    1/  10] [Batch   15/ 125] Loss:  1.18e+00 Nucleotide-Loss:  1.10e+00 Edge-Loss:  8.72e-02\n",
      "[Epoch    1/  10] [Batch   16/ 125] Loss:  1.16e+00 Nucleotide-Loss:  1.08e+00 Edge-Loss:  8.53e-02\n",
      "[Epoch    1/  10] [Batch   17/ 125] Loss:  1.14e+00 Nucleotide-Loss:  1.05e+00 Edge-Loss:  8.62e-02\n",
      "[Epoch    1/  10] [Batch   18/ 125] Loss:  1.14e+00 Nucleotide-Loss:  1.06e+00 Edge-Loss:  8.69e-02\n",
      "[Epoch    1/  10] [Batch   19/ 125] Loss:  1.12e+00 Nucleotide-Loss:  1.04e+00 Edge-Loss:  8.57e-02\n",
      "[Epoch    1/  10] [Batch   20/ 125] Loss:  1.12e+00 Nucleotide-Loss:  1.03e+00 Edge-Loss:  8.58e-02\n",
      "[Epoch    1/  10] [Batch   21/ 125] Loss:  1.10e+00 Nucleotide-Loss:  1.02e+00 Edge-Loss:  8.39e-02\n",
      "[Epoch    1/  10] [Batch   22/ 125] Loss:  1.08e+00 Nucleotide-Loss:  9.96e-01 Edge-Loss:  8.43e-02\n",
      "[Epoch    1/  10] [Batch   23/ 125] Loss:  1.09e+00 Nucleotide-Loss:  1.01e+00 Edge-Loss:  8.44e-02\n",
      "[Epoch    1/  10] [Batch   24/ 125] Loss:  1.11e+00 Nucleotide-Loss:  1.03e+00 Edge-Loss:  8.54e-02\n",
      "[Epoch    1/  10] [Batch   25/ 125] Loss:  1.09e+00 Nucleotide-Loss:  1.00e+00 Edge-Loss:  8.51e-02\n",
      "[Epoch    1/  10] [Batch   26/ 125] Loss:  1.11e+00 Nucleotide-Loss:  1.03e+00 Edge-Loss:  8.40e-02\n",
      "[Epoch    1/  10] [Batch   27/ 125] Loss:  1.07e+00 Nucleotide-Loss:  9.86e-01 Edge-Loss:  8.52e-02\n",
      "[Epoch    1/  10] [Batch   28/ 125] Loss:  1.10e+00 Nucleotide-Loss:  1.01e+00 Edge-Loss:  8.55e-02\n",
      "[Epoch    1/  10] [Batch   29/ 125] Loss:  1.10e+00 Nucleotide-Loss:  1.01e+00 Edge-Loss:  8.45e-02\n",
      "[Epoch    1/  10] [Batch   30/ 125] Loss:  1.10e+00 Nucleotide-Loss:  1.02e+00 Edge-Loss:  8.50e-02\n",
      "[Epoch    1/  10] [Batch   31/ 125] Loss:  1.10e+00 Nucleotide-Loss:  1.02e+00 Edge-Loss:  8.35e-02\n",
      "[Epoch    1/  10] [Batch   32/ 125] Loss:  1.08e+00 Nucleotide-Loss:  9.91e-01 Edge-Loss:  8.56e-02\n",
      "[Epoch    1/  10] [Batch   33/ 125] Loss:  1.07e+00 Nucleotide-Loss:  9.84e-01 Edge-Loss:  8.62e-02\n",
      "[Epoch    1/  10] [Batch   34/ 125] Loss:  1.08e+00 Nucleotide-Loss:  9.94e-01 Edge-Loss:  8.73e-02\n",
      "[Epoch    1/  10] [Batch   35/ 125] Loss:  1.10e+00 Nucleotide-Loss:  1.02e+00 Edge-Loss:  8.85e-02\n",
      "[Epoch    1/  10] [Batch   36/ 125] Loss:  1.08e+00 Nucleotide-Loss:  9.92e-01 Edge-Loss:  8.56e-02\n",
      "[Epoch    1/  10] [Batch   37/ 125] Loss:  1.09e+00 Nucleotide-Loss:  1.01e+00 Edge-Loss:  8.54e-02\n",
      "[Epoch    1/  10] [Batch   38/ 125] Loss:  1.09e+00 Nucleotide-Loss:  1.00e+00 Edge-Loss:  8.54e-02\n",
      "[Epoch    1/  10] [Batch   39/ 125] Loss:  1.05e+00 Nucleotide-Loss:  9.64e-01 Edge-Loss:  8.55e-02\n",
      "[Epoch    1/  10] [Batch   40/ 125] Loss:  1.04e+00 Nucleotide-Loss:  9.49e-01 Edge-Loss:  8.70e-02\n",
      "[Epoch    1/  10] [Batch   41/ 125] Loss:  1.02e+00 Nucleotide-Loss:  9.32e-01 Edge-Loss:  8.60e-02\n",
      "[Epoch    1/  10] [Batch   42/ 125] Loss:  1.03e+00 Nucleotide-Loss:  9.49e-01 Edge-Loss:  8.63e-02\n",
      "[Epoch    1/  10] [Batch   43/ 125] Loss:  1.00e+00 Nucleotide-Loss:  9.19e-01 Edge-Loss:  8.55e-02\n",
      "[Epoch    1/  10] [Batch   44/ 125] Loss:  1.00e+00 Nucleotide-Loss:  9.17e-01 Edge-Loss:  8.40e-02\n",
      "[Epoch    1/  10] [Batch   45/ 125] Loss:  9.91e-01 Nucleotide-Loss:  9.07e-01 Edge-Loss:  8.45e-02\n",
      "[Epoch    1/  10] [Batch   46/ 125] Loss:  9.95e-01 Nucleotide-Loss:  9.10e-01 Edge-Loss:  8.50e-02\n",
      "[Epoch    1/  10] [Batch   47/ 125] Loss:  9.97e-01 Nucleotide-Loss:  9.12e-01 Edge-Loss:  8.56e-02\n",
      "[Epoch    1/  10] [Batch   48/ 125] Loss:  9.79e-01 Nucleotide-Loss:  8.95e-01 Edge-Loss:  8.41e-02\n",
      "[Epoch    1/  10] [Batch   49/ 125] Loss:  9.68e-01 Nucleotide-Loss:  8.83e-01 Edge-Loss:  8.50e-02\n",
      "[Epoch    1/  10] [Batch   50/ 125] Loss:  9.55e-01 Nucleotide-Loss:  8.73e-01 Edge-Loss:  8.25e-02\n",
      "[Epoch    1/  10] [Batch   51/ 125] Loss:  9.61e-01 Nucleotide-Loss:  8.75e-01 Edge-Loss:  8.58e-02\n",
      "[Epoch    1/  10] [Batch   52/ 125] Loss:  9.57e-01 Nucleotide-Loss:  8.74e-01 Edge-Loss:  8.37e-02\n",
      "[Epoch    1/  10] [Batch   53/ 125] Loss:  9.43e-01 Nucleotide-Loss:  8.59e-01 Edge-Loss:  8.38e-02\n",
      "[Epoch    1/  10] [Batch   54/ 125] Loss:  9.44e-01 Nucleotide-Loss:  8.59e-01 Edge-Loss:  8.58e-02\n",
      "[Epoch    1/  10] [Batch   55/ 125] Loss:  9.28e-01 Nucleotide-Loss:  8.43e-01 Edge-Loss:  8.45e-02\n",
      "[Epoch    1/  10] [Batch   56/ 125] Loss:  9.25e-01 Nucleotide-Loss:  8.40e-01 Edge-Loss:  8.50e-02\n",
      "[Epoch    1/  10] [Batch   57/ 125] Loss:  9.14e-01 Nucleotide-Loss:  8.31e-01 Edge-Loss:  8.30e-02\n",
      "[Epoch    1/  10] [Batch   58/ 125] Loss:  9.12e-01 Nucleotide-Loss:  8.27e-01 Edge-Loss:  8.46e-02\n",
      "[Epoch    1/  10] [Batch   59/ 125] Loss:  9.13e-01 Nucleotide-Loss:  8.28e-01 Edge-Loss:  8.47e-02\n",
      "[Epoch    1/  10] [Batch   60/ 125] Loss:  8.99e-01 Nucleotide-Loss:  8.15e-01 Edge-Loss:  8.37e-02\n",
      "[Epoch    1/  10] [Batch   61/ 125] Loss:  9.05e-01 Nucleotide-Loss:  8.19e-01 Edge-Loss:  8.56e-02\n",
      "[Epoch    1/  10] [Batch   62/ 125] Loss:  8.89e-01 Nucleotide-Loss:  8.06e-01 Edge-Loss:  8.27e-02\n",
      "[Epoch    1/  10] [Batch   63/ 125] Loss:  8.90e-01 Nucleotide-Loss:  8.06e-01 Edge-Loss:  8.43e-02\n",
      "[Epoch    1/  10] [Batch   64/ 125] Loss:  8.89e-01 Nucleotide-Loss:  8.04e-01 Edge-Loss:  8.51e-02\n",
      "[Epoch    1/  10] [Batch   65/ 125] Loss:  8.76e-01 Nucleotide-Loss:  7.92e-01 Edge-Loss:  8.37e-02\n",
      "[Epoch    1/  10] [Batch   66/ 125] Loss:  8.78e-01 Nucleotide-Loss:  7.94e-01 Edge-Loss:  8.33e-02\n",
      "[Epoch    1/  10] [Batch   67/ 125] Loss:  8.85e-01 Nucleotide-Loss:  7.99e-01 Edge-Loss:  8.53e-02\n",
      "[Epoch    1/  10] [Batch   68/ 125] Loss:  8.71e-01 Nucleotide-Loss:  7.89e-01 Edge-Loss:  8.18e-02\n",
      "[Epoch    1/  10] [Batch   69/ 125] Loss:  8.68e-01 Nucleotide-Loss:  7.85e-01 Edge-Loss:  8.38e-02\n",
      "[Epoch    1/  10] [Batch   70/ 125] Loss:  8.60e-01 Nucleotide-Loss:  7.77e-01 Edge-Loss:  8.28e-02\n",
      "[Epoch    1/  10] [Batch   71/ 125] Loss:  8.69e-01 Nucleotide-Loss:  7.83e-01 Edge-Loss:  8.64e-02\n",
      "[Epoch    1/  10] [Batch   72/ 125] Loss:  8.61e-01 Nucleotide-Loss:  7.77e-01 Edge-Loss:  8.33e-02\n",
      "[Epoch    1/  10] [Batch   73/ 125] Loss:  8.61e-01 Nucleotide-Loss:  7.76e-01 Edge-Loss:  8.42e-02\n",
      "[Epoch    1/  10] [Batch   74/ 125] Loss:  8.60e-01 Nucleotide-Loss:  7.76e-01 Edge-Loss:  8.34e-02\n",
      "[Epoch    1/  10] [Batch   75/ 125] Loss:  8.56e-01 Nucleotide-Loss:  7.75e-01 Edge-Loss:  8.09e-02\n",
      "[Epoch    1/  10] [Batch   76/ 125] Loss:  8.59e-01 Nucleotide-Loss:  7.76e-01 Edge-Loss:  8.29e-02\n",
      "[Epoch    1/  10] [Batch   77/ 125] Loss:  8.56e-01 Nucleotide-Loss:  7.72e-01 Edge-Loss:  8.38e-02\n",
      "[Epoch    1/  10] [Batch   78/ 125] Loss:  8.57e-01 Nucleotide-Loss:  7.73e-01 Edge-Loss:  8.40e-02\n",
      "[Epoch    1/  10] [Batch   79/ 125] Loss:  8.52e-01 Nucleotide-Loss:  7.68e-01 Edge-Loss:  8.42e-02\n",
      "[Epoch    1/  10] [Batch   80/ 125] Loss:  8.51e-01 Nucleotide-Loss:  7.67e-01 Edge-Loss:  8.44e-02\n",
      "[Epoch    1/  10] [Batch   81/ 125] Loss:  8.46e-01 Nucleotide-Loss:  7.63e-01 Edge-Loss:  8.35e-02\n",
      "[Epoch    1/  10] [Batch   82/ 125] Loss:  8.44e-01 Nucleotide-Loss:  7.62e-01 Edge-Loss:  8.21e-02\n",
      "[Epoch    1/  10] [Batch   83/ 125] Loss:  8.47e-01 Nucleotide-Loss:  7.65e-01 Edge-Loss:  8.28e-02\n",
      "[Epoch    1/  10] [Batch   84/ 125] Loss:  8.45e-01 Nucleotide-Loss:  7.61e-01 Edge-Loss:  8.36e-02\n",
      "[Epoch    1/  10] [Batch   85/ 125] Loss:  8.51e-01 Nucleotide-Loss:  7.66e-01 Edge-Loss:  8.52e-02\n",
      "[Epoch    1/  10] [Batch   86/ 125] Loss:  8.42e-01 Nucleotide-Loss:  7.60e-01 Edge-Loss:  8.24e-02\n",
      "[Epoch    1/  10] [Batch   87/ 125] Loss:  8.46e-01 Nucleotide-Loss:  7.62e-01 Edge-Loss:  8.36e-02\n",
      "[Epoch    1/  10] [Batch   88/ 125] Loss:  8.45e-01 Nucleotide-Loss:  7.60e-01 Edge-Loss:  8.45e-02\n",
      "[Epoch    1/  10] [Batch   89/ 125] Loss:  8.44e-01 Nucleotide-Loss:  7.63e-01 Edge-Loss:  8.15e-02\n",
      "[Epoch    1/  10] [Batch   90/ 125] Loss:  8.42e-01 Nucleotide-Loss:  7.59e-01 Edge-Loss:  8.25e-02\n",
      "[Epoch    1/  10] [Batch   91/ 125] Loss:  8.42e-01 Nucleotide-Loss:  7.59e-01 Edge-Loss:  8.30e-02\n",
      "[Epoch    1/  10] [Batch   92/ 125] Loss:  8.46e-01 Nucleotide-Loss:  7.64e-01 Edge-Loss:  8.19e-02\n",
      "[Epoch    1/  10] [Batch   93/ 125] Loss:  8.41e-01 Nucleotide-Loss:  7.59e-01 Edge-Loss:  8.15e-02\n",
      "[Epoch    1/  10] [Batch   94/ 125] Loss:  8.42e-01 Nucleotide-Loss:  7.60e-01 Edge-Loss:  8.23e-02\n",
      "[Epoch    1/  10] [Batch   95/ 125] Loss:  8.43e-01 Nucleotide-Loss:  7.60e-01 Edge-Loss:  8.32e-02\n",
      "[Epoch    1/  10] [Batch   96/ 125] Loss:  8.41e-01 Nucleotide-Loss:  7.58e-01 Edge-Loss:  8.31e-02\n",
      "[Epoch    1/  10] [Batch   97/ 125] Loss:  8.42e-01 Nucleotide-Loss:  7.59e-01 Edge-Loss:  8.35e-02\n",
      "[Epoch    1/  10] [Batch   98/ 125] Loss:  8.42e-01 Nucleotide-Loss:  7.58e-01 Edge-Loss:  8.37e-02\n",
      "[Epoch    1/  10] [Batch   99/ 125] Loss:  8.41e-01 Nucleotide-Loss:  7.58e-01 Edge-Loss:  8.32e-02\n",
      "[Epoch    1/  10] [Batch  100/ 125] Loss:  8.39e-01 Nucleotide-Loss:  7.55e-01 Edge-Loss:  8.34e-02\n",
      "[Epoch    1/  10] [Batch  101/ 125] Loss:  8.42e-01 Nucleotide-Loss:  7.58e-01 Edge-Loss:  8.39e-02\n",
      "[Epoch    1/  10] [Batch  102/ 125] Loss:  8.40e-01 Nucleotide-Loss:  7.56e-01 Edge-Loss:  8.39e-02\n",
      "[Epoch    1/  10] [Batch  103/ 125] Loss:  8.42e-01 Nucleotide-Loss:  7.58e-01 Edge-Loss:  8.37e-02\n",
      "[Epoch    1/  10] [Batch  104/ 125] Loss:  8.40e-01 Nucleotide-Loss:  7.57e-01 Edge-Loss:  8.28e-02\n",
      "[Epoch    1/  10] [Batch  105/ 125] Loss:  8.42e-01 Nucleotide-Loss:  7.58e-01 Edge-Loss:  8.39e-02\n",
      "[Epoch    1/  10] [Batch  106/ 125] Loss:  8.38e-01 Nucleotide-Loss:  7.55e-01 Edge-Loss:  8.36e-02\n",
      "[Epoch    1/  10] [Batch  107/ 125] Loss:  8.43e-01 Nucleotide-Loss:  7.59e-01 Edge-Loss:  8.38e-02\n",
      "[Epoch    1/  10] [Batch  108/ 125] Loss:  8.39e-01 Nucleotide-Loss:  7.55e-01 Edge-Loss:  8.39e-02\n",
      "[Epoch    1/  10] [Batch  109/ 125] Loss:  8.39e-01 Nucleotide-Loss:  7.56e-01 Edge-Loss:  8.22e-02\n",
      "[Epoch    1/  10] [Batch  110/ 125] Loss:  8.37e-01 Nucleotide-Loss:  7.54e-01 Edge-Loss:  8.29e-02\n",
      "[Epoch    1/  10] [Batch  111/ 125] Loss:  8.40e-01 Nucleotide-Loss:  7.57e-01 Edge-Loss:  8.30e-02\n",
      "[Epoch    1/  10] [Batch  112/ 125] Loss:  8.38e-01 Nucleotide-Loss:  7.56e-01 Edge-Loss:  8.26e-02\n",
      "[Epoch    1/  10] [Batch  113/ 125] Loss:  8.36e-01 Nucleotide-Loss:  7.53e-01 Edge-Loss:  8.32e-02\n",
      "[Epoch    1/  10] [Batch  114/ 125] Loss:  8.36e-01 Nucleotide-Loss:  7.54e-01 Edge-Loss:  8.22e-02\n",
      "[Epoch    1/  10] [Batch  115/ 125] Loss:  8.37e-01 Nucleotide-Loss:  7.55e-01 Edge-Loss:  8.19e-02\n",
      "[Epoch    1/  10] [Batch  116/ 125] Loss:  8.36e-01 Nucleotide-Loss:  7.54e-01 Edge-Loss:  8.19e-02\n",
      "[Epoch    1/  10] [Batch  117/ 125] Loss:  8.38e-01 Nucleotide-Loss:  7.54e-01 Edge-Loss:  8.38e-02\n",
      "[Epoch    1/  10] [Batch  118/ 125] Loss:  8.38e-01 Nucleotide-Loss:  7.54e-01 Edge-Loss:  8.38e-02\n",
      "[Epoch    1/  10] [Batch  119/ 125] Loss:  8.39e-01 Nucleotide-Loss:  7.54e-01 Edge-Loss:  8.48e-02\n",
      "[Epoch    1/  10] [Batch  120/ 125] Loss:  8.34e-01 Nucleotide-Loss:  7.54e-01 Edge-Loss:  8.05e-02\n",
      "[Epoch    1/  10] [Batch  121/ 125] Loss:  8.37e-01 Nucleotide-Loss:  7.53e-01 Edge-Loss:  8.48e-02\n",
      "[Epoch    1/  10] [Batch  122/ 125] Loss:  8.37e-01 Nucleotide-Loss:  7.52e-01 Edge-Loss:  8.42e-02\n",
      "[Epoch    1/  10] [Batch  123/ 125] Loss:  8.37e-01 Nucleotide-Loss:  7.53e-01 Edge-Loss:  8.38e-02\n",
      "[Epoch    1/  10] [Batch  124/ 125] Loss:  8.33e-01 Nucleotide-Loss:  7.52e-01 Edge-Loss:  8.16e-02\n",
      "[Epoch    1/  10] [Batch  125/ 125] Loss:  8.33e-01 Nucleotide-Loss:  7.53e-01 Edge-Loss:  8.00e-02\n",
      "[Epoch    2/  10] [Batch    1/ 125] Loss:  8.38e-01 Nucleotide-Loss:  7.53e-01 Edge-Loss:  8.46e-02\n",
      "[Epoch    2/  10] [Batch    2/ 125] Loss:  8.37e-01 Nucleotide-Loss:  7.52e-01 Edge-Loss:  8.48e-02\n",
      "[Epoch    2/  10] [Batch    3/ 125] Loss:  8.35e-01 Nucleotide-Loss:  7.52e-01 Edge-Loss:  8.23e-02\n",
      "[Epoch    2/  10] [Batch    4/ 125] Loss:  8.33e-01 Nucleotide-Loss:  7.51e-01 Edge-Loss:  8.21e-02\n",
      "[Epoch    2/  10] [Batch    5/ 125] Loss:  8.35e-01 Nucleotide-Loss:  7.52e-01 Edge-Loss:  8.31e-02\n",
      "[Epoch    2/  10] [Batch    6/ 125] Loss:  8.35e-01 Nucleotide-Loss:  7.52e-01 Edge-Loss:  8.35e-02\n",
      "[Epoch    2/  10] [Batch    7/ 125] Loss:  8.33e-01 Nucleotide-Loss:  7.50e-01 Edge-Loss:  8.27e-02\n",
      "[Epoch    2/  10] [Batch    8/ 125] Loss:  8.37e-01 Nucleotide-Loss:  7.53e-01 Edge-Loss:  8.35e-02\n",
      "[Epoch    2/  10] [Batch    9/ 125] Loss:  8.37e-01 Nucleotide-Loss:  7.53e-01 Edge-Loss:  8.38e-02\n",
      "[Epoch    2/  10] [Batch   10/ 125] Loss:  8.35e-01 Nucleotide-Loss:  7.52e-01 Edge-Loss:  8.27e-02\n",
      "[Epoch    2/  10] [Batch   11/ 125] Loss:  8.36e-01 Nucleotide-Loss:  7.52e-01 Edge-Loss:  8.34e-02\n",
      "[Epoch    2/  10] [Batch   12/ 125] Loss:  8.35e-01 Nucleotide-Loss:  7.53e-01 Edge-Loss:  8.23e-02\n",
      "[Epoch    2/  10] [Batch   13/ 125] Loss:  8.35e-01 Nucleotide-Loss:  7.53e-01 Edge-Loss:  8.25e-02\n",
      "[Epoch    2/  10] [Batch   14/ 125] Loss:  8.33e-01 Nucleotide-Loss:  7.51e-01 Edge-Loss:  8.22e-02\n",
      "[Epoch    2/  10] [Batch   15/ 125] Loss:  8.35e-01 Nucleotide-Loss:  7.53e-01 Edge-Loss:  8.27e-02\n",
      "[Epoch    2/  10] [Batch   16/ 125] Loss:  8.36e-01 Nucleotide-Loss:  7.53e-01 Edge-Loss:  8.33e-02\n",
      "[Epoch    2/  10] [Batch   17/ 125] Loss:  8.32e-01 Nucleotide-Loss:  7.51e-01 Edge-Loss:  8.12e-02\n",
      "[Epoch    2/  10] [Batch   18/ 125] Loss:  8.36e-01 Nucleotide-Loss:  7.52e-01 Edge-Loss:  8.35e-02\n",
      "[Epoch    2/  10] [Batch   19/ 125] Loss:  8.34e-01 Nucleotide-Loss:  7.51e-01 Edge-Loss:  8.30e-02\n",
      "[Epoch    2/  10] [Batch   20/ 125] Loss:  8.35e-01 Nucleotide-Loss:  7.52e-01 Edge-Loss:  8.30e-02\n",
      "[Epoch    2/  10] [Batch   21/ 125] Loss:  8.35e-01 Nucleotide-Loss:  7.52e-01 Edge-Loss:  8.36e-02\n",
      "[Epoch    2/  10] [Batch   22/ 125] Loss:  8.36e-01 Nucleotide-Loss:  7.52e-01 Edge-Loss:  8.38e-02\n",
      "[Epoch    2/  10] [Batch   23/ 125] Loss:  8.32e-01 Nucleotide-Loss:  7.51e-01 Edge-Loss:  8.10e-02\n",
      "[Epoch    2/  10] [Batch   24/ 125] Loss:  8.33e-01 Nucleotide-Loss:  7.50e-01 Edge-Loss:  8.29e-02\n",
      "[Epoch    2/  10] [Batch   25/ 125] Loss:  8.34e-01 Nucleotide-Loss:  7.50e-01 Edge-Loss:  8.39e-02\n",
      "[Epoch    2/  10] [Batch   26/ 125] Loss:  8.33e-01 Nucleotide-Loss:  7.51e-01 Edge-Loss:  8.20e-02\n",
      "[Epoch    2/  10] [Batch   27/ 125] Loss:  8.33e-01 Nucleotide-Loss:  7.51e-01 Edge-Loss:  8.24e-02\n",
      "[Epoch    2/  10] [Batch   28/ 125] Loss:  8.33e-01 Nucleotide-Loss:  7.52e-01 Edge-Loss:  8.11e-02\n",
      "[Epoch    2/  10] [Batch   29/ 125] Loss:  8.36e-01 Nucleotide-Loss:  7.52e-01 Edge-Loss:  8.34e-02\n",
      "[Epoch    2/  10] [Batch   30/ 125] Loss:  8.37e-01 Nucleotide-Loss:  7.53e-01 Edge-Loss:  8.41e-02\n",
      "[Epoch    2/  10] [Batch   31/ 125] Loss:  8.35e-01 Nucleotide-Loss:  7.52e-01 Edge-Loss:  8.27e-02\n",
      "[Epoch    2/  10] [Batch   32/ 125] Loss:  8.36e-01 Nucleotide-Loss:  7.52e-01 Edge-Loss:  8.41e-02\n",
      "[Epoch    2/  10] [Batch   33/ 125] Loss:  8.35e-01 Nucleotide-Loss:  7.52e-01 Edge-Loss:  8.23e-02\n",
      "[Epoch    2/  10] [Batch   34/ 125] Loss:  8.34e-01 Nucleotide-Loss:  7.52e-01 Edge-Loss:  8.25e-02\n",
      "[Epoch    2/  10] [Batch   35/ 125] Loss:  8.37e-01 Nucleotide-Loss:  7.53e-01 Edge-Loss:  8.45e-02\n",
      "[Epoch    2/  10] [Batch   36/ 125] Loss:  8.35e-01 Nucleotide-Loss:  7.51e-01 Edge-Loss:  8.37e-02\n",
      "[Epoch    2/  10] [Batch   37/ 125] Loss:  8.33e-01 Nucleotide-Loss:  7.51e-01 Edge-Loss:  8.26e-02\n",
      "[Epoch    2/  10] [Batch   38/ 125] Loss:  8.34e-01 Nucleotide-Loss:  7.50e-01 Edge-Loss:  8.40e-02\n",
      "[Epoch    2/  10] [Batch   39/ 125] Loss:  8.37e-01 Nucleotide-Loss:  7.51e-01 Edge-Loss:  8.61e-02\n",
      "[Epoch    2/  10] [Batch   40/ 125] Loss:  8.35e-01 Nucleotide-Loss:  7.51e-01 Edge-Loss:  8.34e-02\n",
      "[Epoch    2/  10] [Batch   41/ 125] Loss:  8.34e-01 Nucleotide-Loss:  7.51e-01 Edge-Loss:  8.36e-02\n",
      "[Epoch    2/  10] [Batch   42/ 125] Loss:  8.35e-01 Nucleotide-Loss:  7.51e-01 Edge-Loss:  8.39e-02\n",
      "[Epoch    2/  10] [Batch   43/ 125] Loss:  8.34e-01 Nucleotide-Loss:  7.52e-01 Edge-Loss:  8.19e-02\n",
      "[Epoch    2/  10] [Batch   44/ 125] Loss:  8.35e-01 Nucleotide-Loss:  7.51e-01 Edge-Loss:  8.41e-02\n",
      "[Epoch    2/  10] [Batch   45/ 125] Loss:  8.32e-01 Nucleotide-Loss:  7.50e-01 Edge-Loss:  8.15e-02\n",
      "[Epoch    2/  10] [Batch   46/ 125] Loss:  8.35e-01 Nucleotide-Loss:  7.52e-01 Edge-Loss:  8.24e-02\n",
      "[Epoch    2/  10] [Batch   47/ 125] Loss:  8.34e-01 Nucleotide-Loss:  7.50e-01 Edge-Loss:  8.37e-02\n",
      "[Epoch    2/  10] [Batch   48/ 125] Loss:  8.34e-01 Nucleotide-Loss:  7.51e-01 Edge-Loss:  8.25e-02\n",
      "[Epoch    2/  10] [Batch   49/ 125] Loss:  8.33e-01 Nucleotide-Loss:  7.50e-01 Edge-Loss:  8.28e-02\n",
      "[Epoch    2/  10] [Batch   50/ 125] Loss:  8.34e-01 Nucleotide-Loss:  7.50e-01 Edge-Loss:  8.39e-02\n",
      "[Epoch    2/  10] [Batch   51/ 125] Loss:  8.34e-01 Nucleotide-Loss:  7.50e-01 Edge-Loss:  8.31e-02\n",
      "[Epoch    2/  10] [Batch   52/ 125] Loss:  8.35e-01 Nucleotide-Loss:  7.52e-01 Edge-Loss:  8.28e-02\n",
      "[Epoch    2/  10] [Batch   53/ 125] Loss:  8.35e-01 Nucleotide-Loss:  7.53e-01 Edge-Loss:  8.26e-02\n",
      "[Epoch    2/  10] [Batch   54/ 125] Loss:  8.36e-01 Nucleotide-Loss:  7.51e-01 Edge-Loss:  8.48e-02\n",
      "[Epoch    2/  10] [Batch   55/ 125] Loss:  8.37e-01 Nucleotide-Loss:  7.52e-01 Edge-Loss:  8.49e-02\n",
      "[Epoch    2/  10] [Batch   56/ 125] Loss:  8.33e-01 Nucleotide-Loss:  7.50e-01 Edge-Loss:  8.24e-02\n",
      "[Epoch    2/  10] [Batch   57/ 125] Loss:  8.36e-01 Nucleotide-Loss:  7.52e-01 Edge-Loss:  8.44e-02\n",
      "[Epoch    2/  10] [Batch   58/ 125] Loss:  8.33e-01 Nucleotide-Loss:  7.50e-01 Edge-Loss:  8.32e-02\n",
      "[Epoch    2/  10] [Batch   59/ 125] Loss:  8.34e-01 Nucleotide-Loss:  7.50e-01 Edge-Loss:  8.34e-02\n",
      "[Epoch    2/  10] [Batch   60/ 125] Loss:  8.36e-01 Nucleotide-Loss:  7.51e-01 Edge-Loss:  8.47e-02\n",
      "[Epoch    2/  10] [Batch   61/ 125] Loss:  8.34e-01 Nucleotide-Loss:  7.51e-01 Edge-Loss:  8.30e-02\n",
      "[Epoch    2/  10] [Batch   62/ 125] Loss:  8.36e-01 Nucleotide-Loss:  7.52e-01 Edge-Loss:  8.37e-02\n",
      "[Epoch    2/  10] [Batch   63/ 125] Loss:  8.34e-01 Nucleotide-Loss:  7.50e-01 Edge-Loss:  8.36e-02\n",
      "[Epoch    2/  10] [Batch   64/ 125] Loss:  8.33e-01 Nucleotide-Loss:  7.50e-01 Edge-Loss:  8.26e-02\n",
      "[Epoch    2/  10] [Batch   65/ 125] Loss:  8.33e-01 Nucleotide-Loss:  7.51e-01 Edge-Loss:  8.22e-02\n",
      "[Epoch    2/  10] [Batch   66/ 125] Loss:  8.33e-01 Nucleotide-Loss:  7.50e-01 Edge-Loss:  8.31e-02\n",
      "[Epoch    2/  10] [Batch   67/ 125] Loss:  8.35e-01 Nucleotide-Loss:  7.52e-01 Edge-Loss:  8.30e-02\n",
      "[Epoch    2/  10] [Batch   68/ 125] Loss:  8.32e-01 Nucleotide-Loss:  7.50e-01 Edge-Loss:  8.15e-02\n",
      "[Epoch    2/  10] [Batch   69/ 125] Loss:  8.39e-01 Nucleotide-Loss:  7.53e-01 Edge-Loss:  8.56e-02\n",
      "[Epoch    2/  10] [Batch   70/ 125] Loss:  8.33e-01 Nucleotide-Loss:  7.51e-01 Edge-Loss:  8.24e-02\n",
      "[Epoch    2/  10] [Batch   71/ 125] Loss:  8.34e-01 Nucleotide-Loss:  7.51e-01 Edge-Loss:  8.30e-02\n",
      "[Epoch    2/  10] [Batch   72/ 125] Loss:  8.38e-01 Nucleotide-Loss:  7.54e-01 Edge-Loss:  8.38e-02\n",
      "[Epoch    2/  10] [Batch   73/ 125] Loss:  8.34e-01 Nucleotide-Loss:  7.51e-01 Edge-Loss:  8.33e-02\n",
      "[Epoch    2/  10] [Batch   74/ 125] Loss:  8.36e-01 Nucleotide-Loss:  7.51e-01 Edge-Loss:  8.49e-02\n",
      "[Epoch    2/  10] [Batch   75/ 125] Loss:  8.35e-01 Nucleotide-Loss:  7.51e-01 Edge-Loss:  8.41e-02\n",
      "[Epoch    2/  10] [Batch   76/ 125] Loss:  8.34e-01 Nucleotide-Loss:  7.52e-01 Edge-Loss:  8.26e-02\n",
      "[Epoch    2/  10] [Batch   77/ 125] Loss:  8.34e-01 Nucleotide-Loss:  7.51e-01 Edge-Loss:  8.25e-02\n",
      "[Epoch    2/  10] [Batch   78/ 125] Loss:  8.36e-01 Nucleotide-Loss:  7.52e-01 Edge-Loss:  8.40e-02\n",
      "[Epoch    2/  10] [Batch   79/ 125] Loss:  8.33e-01 Nucleotide-Loss:  7.50e-01 Edge-Loss:  8.26e-02\n",
      "[Epoch    2/  10] [Batch   80/ 125] Loss:  8.34e-01 Nucleotide-Loss:  7.51e-01 Edge-Loss:  8.29e-02\n",
      "[Epoch    2/  10] [Batch   81/ 125] Loss:  8.33e-01 Nucleotide-Loss:  7.51e-01 Edge-Loss:  8.23e-02\n",
      "[Epoch    2/  10] [Batch   82/ 125] Loss:  8.37e-01 Nucleotide-Loss:  7.53e-01 Edge-Loss:  8.39e-02\n",
      "[Epoch    2/  10] [Batch   83/ 125] Loss:  8.34e-01 Nucleotide-Loss:  7.51e-01 Edge-Loss:  8.26e-02\n",
      "[Epoch    2/  10] [Batch   84/ 125] Loss:  8.32e-01 Nucleotide-Loss:  7.51e-01 Edge-Loss:  8.10e-02\n",
      "[Epoch    2/  10] [Batch   85/ 125] Loss:  8.36e-01 Nucleotide-Loss:  7.53e-01 Edge-Loss:  8.28e-02\n",
      "[Epoch    2/  10] [Batch   86/ 125] Loss:  8.34e-01 Nucleotide-Loss:  7.51e-01 Edge-Loss:  8.32e-02\n",
      "[Epoch    2/  10] [Batch   87/ 125] Loss:  8.35e-01 Nucleotide-Loss:  7.51e-01 Edge-Loss:  8.38e-02\n",
      "[Epoch    2/  10] [Batch   88/ 125] Loss:  8.35e-01 Nucleotide-Loss:  7.51e-01 Edge-Loss:  8.31e-02\n",
      "[Epoch    2/  10] [Batch   89/ 125] Loss:  8.36e-01 Nucleotide-Loss:  7.54e-01 Edge-Loss:  8.24e-02\n",
      "[Epoch    2/  10] [Batch   90/ 125] Loss:  8.34e-01 Nucleotide-Loss:  7.52e-01 Edge-Loss:  8.19e-02\n",
      "[Epoch    2/  10] [Batch   91/ 125] Loss:  8.32e-01 Nucleotide-Loss:  7.49e-01 Edge-Loss:  8.28e-02\n",
      "[Epoch    2/  10] [Batch   92/ 125] Loss:  8.34e-01 Nucleotide-Loss:  7.51e-01 Edge-Loss:  8.38e-02\n",
      "[Epoch    2/  10] [Batch   93/ 125] Loss:  8.35e-01 Nucleotide-Loss:  7.52e-01 Edge-Loss:  8.33e-02\n",
      "[Epoch    2/  10] [Batch   94/ 125] Loss:  8.34e-01 Nucleotide-Loss:  7.51e-01 Edge-Loss:  8.26e-02\n",
      "[Epoch    2/  10] [Batch   95/ 125] Loss:  8.33e-01 Nucleotide-Loss:  7.51e-01 Edge-Loss:  8.20e-02\n",
      "[Epoch    2/  10] [Batch   96/ 125] Loss:  8.35e-01 Nucleotide-Loss:  7.51e-01 Edge-Loss:  8.37e-02\n",
      "[Epoch    2/  10] [Batch   97/ 125] Loss:  8.34e-01 Nucleotide-Loss:  7.51e-01 Edge-Loss:  8.31e-02\n",
      "[Epoch    2/  10] [Batch   98/ 125] Loss:  8.36e-01 Nucleotide-Loss:  7.52e-01 Edge-Loss:  8.40e-02\n",
      "[Epoch    2/  10] [Batch   99/ 125] Loss:  8.32e-01 Nucleotide-Loss:  7.51e-01 Edge-Loss:  8.12e-02\n",
      "[Epoch    2/  10] [Batch  100/ 125] Loss:  8.35e-01 Nucleotide-Loss:  7.53e-01 Edge-Loss:  8.20e-02\n",
      "[Epoch    2/  10] [Batch  101/ 125] Loss:  8.33e-01 Nucleotide-Loss:  7.51e-01 Edge-Loss:  8.23e-02\n",
      "[Epoch    2/  10] [Batch  102/ 125] Loss:  8.35e-01 Nucleotide-Loss:  7.51e-01 Edge-Loss:  8.33e-02\n",
      "[Epoch    2/  10] [Batch  103/ 125] Loss:  8.34e-01 Nucleotide-Loss:  7.50e-01 Edge-Loss:  8.35e-02\n",
      "[Epoch    2/  10] [Batch  104/ 125] Loss:  8.33e-01 Nucleotide-Loss:  7.51e-01 Edge-Loss:  8.20e-02\n",
      "[Epoch    2/  10] [Batch  105/ 125] Loss:  8.32e-01 Nucleotide-Loss:  7.51e-01 Edge-Loss:  8.12e-02\n",
      "[Epoch    2/  10] [Batch  106/ 125] Loss:  8.32e-01 Nucleotide-Loss:  7.51e-01 Edge-Loss:  8.12e-02\n",
      "[Epoch    2/  10] [Batch  107/ 125] Loss:  8.35e-01 Nucleotide-Loss:  7.52e-01 Edge-Loss:  8.31e-02\n",
      "[Epoch    2/  10] [Batch  108/ 125] Loss:  8.35e-01 Nucleotide-Loss:  7.53e-01 Edge-Loss:  8.20e-02\n",
      "[Epoch    2/  10] [Batch  109/ 125] Loss:  8.36e-01 Nucleotide-Loss:  7.51e-01 Edge-Loss:  8.52e-02\n",
      "[Epoch    2/  10] [Batch  110/ 125] Loss:  8.36e-01 Nucleotide-Loss:  7.52e-01 Edge-Loss:  8.46e-02\n",
      "[Epoch    2/  10] [Batch  111/ 125] Loss:  8.37e-01 Nucleotide-Loss:  7.54e-01 Edge-Loss:  8.30e-02\n",
      "[Epoch    2/  10] [Batch  112/ 125] Loss:  8.32e-01 Nucleotide-Loss:  7.51e-01 Edge-Loss:  8.11e-02\n",
      "[Epoch    2/  10] [Batch  113/ 125] Loss:  8.36e-01 Nucleotide-Loss:  7.52e-01 Edge-Loss:  8.38e-02\n",
      "[Epoch    2/  10] [Batch  114/ 125] Loss:  8.36e-01 Nucleotide-Loss:  7.52e-01 Edge-Loss:  8.35e-02\n",
      "[Epoch    2/  10] [Batch  115/ 125] Loss:  8.34e-01 Nucleotide-Loss:  7.51e-01 Edge-Loss:  8.27e-02\n",
      "[Epoch    2/  10] [Batch  116/ 125] Loss:  8.34e-01 Nucleotide-Loss:  7.51e-01 Edge-Loss:  8.28e-02\n",
      "[Epoch    2/  10] [Batch  117/ 125] Loss:  8.36e-01 Nucleotide-Loss:  7.52e-01 Edge-Loss:  8.42e-02\n",
      "[Epoch    2/  10] [Batch  118/ 125] Loss:  8.34e-01 Nucleotide-Loss:  7.51e-01 Edge-Loss:  8.29e-02\n",
      "[Epoch    2/  10] [Batch  119/ 125] Loss:  8.33e-01 Nucleotide-Loss:  7.51e-01 Edge-Loss:  8.24e-02\n",
      "[Epoch    2/  10] [Batch  120/ 125] Loss:  8.34e-01 Nucleotide-Loss:  7.51e-01 Edge-Loss:  8.32e-02\n",
      "[Epoch    2/  10] [Batch  121/ 125] Loss:  8.34e-01 Nucleotide-Loss:  7.53e-01 Edge-Loss:  8.16e-02\n",
      "[Epoch    2/  10] [Batch  122/ 125] Loss:  8.33e-01 Nucleotide-Loss:  7.50e-01 Edge-Loss:  8.27e-02\n",
      "[Epoch    2/  10] [Batch  123/ 125] Loss:  8.35e-01 Nucleotide-Loss:  7.52e-01 Edge-Loss:  8.35e-02\n",
      "[Epoch    2/  10] [Batch  124/ 125] Loss:  8.33e-01 Nucleotide-Loss:  7.50e-01 Edge-Loss:  8.28e-02\n",
      "[Epoch    2/  10] [Batch  125/ 125] Loss:  8.27e-01 Nucleotide-Loss:  7.50e-01 Edge-Loss:  7.72e-02\n",
      "[Epoch    3/  10] [Batch    1/ 125] Loss:  8.33e-01 Nucleotide-Loss:  7.50e-01 Edge-Loss:  8.26e-02\n",
      "[Epoch    3/  10] [Batch    2/ 125] Loss:  8.34e-01 Nucleotide-Loss:  7.50e-01 Edge-Loss:  8.40e-02\n",
      "[Epoch    3/  10] [Batch    3/ 125] Loss:  8.37e-01 Nucleotide-Loss:  7.52e-01 Edge-Loss:  8.53e-02\n",
      "[Epoch    3/  10] [Batch    4/ 125] Loss:  8.35e-01 Nucleotide-Loss:  7.52e-01 Edge-Loss:  8.35e-02\n",
      "[Epoch    3/  10] [Batch    5/ 125] Loss:  8.34e-01 Nucleotide-Loss:  7.51e-01 Edge-Loss:  8.27e-02\n",
      "[Epoch    3/  10] [Batch    6/ 125] Loss:  8.34e-01 Nucleotide-Loss:  7.50e-01 Edge-Loss:  8.43e-02\n",
      "[Epoch    3/  10] [Batch    7/ 125] Loss:  8.34e-01 Nucleotide-Loss:  7.52e-01 Edge-Loss:  8.21e-02\n",
      "[Epoch    3/  10] [Batch    8/ 125] Loss:  8.35e-01 Nucleotide-Loss:  7.52e-01 Edge-Loss:  8.34e-02\n",
      "[Epoch    3/  10] [Batch    9/ 125] Loss:  8.35e-01 Nucleotide-Loss:  7.52e-01 Edge-Loss:  8.29e-02\n",
      "[Epoch    3/  10] [Batch   10/ 125] Loss:  8.34e-01 Nucleotide-Loss:  7.51e-01 Edge-Loss:  8.35e-02\n",
      "[Epoch    3/  10] [Batch   11/ 125] Loss:  8.35e-01 Nucleotide-Loss:  7.51e-01 Edge-Loss:  8.40e-02\n",
      "[Epoch    3/  10] [Batch   12/ 125] Loss:  8.31e-01 Nucleotide-Loss:  7.50e-01 Edge-Loss:  8.14e-02\n",
      "[Epoch    3/  10] [Batch   13/ 125] Loss:  8.34e-01 Nucleotide-Loss:  7.51e-01 Edge-Loss:  8.32e-02\n",
      "[Epoch    3/  10] [Batch   14/ 125] Loss:  8.33e-01 Nucleotide-Loss:  7.50e-01 Edge-Loss:  8.27e-02\n",
      "[Epoch    3/  10] [Batch   15/ 125] Loss:  8.31e-01 Nucleotide-Loss:  7.50e-01 Edge-Loss:  8.10e-02\n",
      "[Epoch    3/  10] [Batch   16/ 125] Loss:  8.34e-01 Nucleotide-Loss:  7.52e-01 Edge-Loss:  8.17e-02\n",
      "[Epoch    3/  10] [Batch   17/ 125] Loss:  8.33e-01 Nucleotide-Loss:  7.52e-01 Edge-Loss:  8.06e-02\n",
      "[Epoch    3/  10] [Batch   18/ 125] Loss:  8.34e-01 Nucleotide-Loss:  7.52e-01 Edge-Loss:  8.19e-02\n",
      "[Epoch    3/  10] [Batch   19/ 125] Loss:  8.33e-01 Nucleotide-Loss:  7.52e-01 Edge-Loss:  8.14e-02\n",
      "[Epoch    3/  10] [Batch   20/ 125] Loss:  8.32e-01 Nucleotide-Loss:  7.50e-01 Edge-Loss:  8.18e-02\n",
      "[Epoch    3/  10] [Batch   21/ 125] Loss:  8.36e-01 Nucleotide-Loss:  7.51e-01 Edge-Loss:  8.47e-02\n",
      "[Epoch    3/  10] [Batch   22/ 125] Loss:  8.36e-01 Nucleotide-Loss:  7.52e-01 Edge-Loss:  8.38e-02\n",
      "[Epoch    3/  10] [Batch   23/ 125] Loss:  8.36e-01 Nucleotide-Loss:  7.53e-01 Edge-Loss:  8.33e-02\n",
      "[Epoch    3/  10] [Batch   24/ 125] Loss:  8.35e-01 Nucleotide-Loss:  7.52e-01 Edge-Loss:  8.37e-02\n",
      "[Epoch    3/  10] [Batch   25/ 125] Loss:  8.35e-01 Nucleotide-Loss:  7.52e-01 Edge-Loss:  8.35e-02\n",
      "[Epoch    3/  10] [Batch   26/ 125] Loss:  8.34e-01 Nucleotide-Loss:  7.51e-01 Edge-Loss:  8.29e-02\n",
      "[Epoch    3/  10] [Batch   27/ 125] Loss:  8.35e-01 Nucleotide-Loss:  7.52e-01 Edge-Loss:  8.29e-02\n",
      "[Epoch    3/  10] [Batch   28/ 125] Loss:  8.36e-01 Nucleotide-Loss:  7.53e-01 Edge-Loss:  8.34e-02\n",
      "[Epoch    3/  10] [Batch   29/ 125] Loss:  8.35e-01 Nucleotide-Loss:  7.50e-01 Edge-Loss:  8.43e-02\n",
      "[Epoch    3/  10] [Batch   30/ 125] Loss:  8.36e-01 Nucleotide-Loss:  7.51e-01 Edge-Loss:  8.47e-02\n",
      "[Epoch    3/  10] [Batch   31/ 125] Loss:  8.35e-01 Nucleotide-Loss:  7.51e-01 Edge-Loss:  8.31e-02\n",
      "[Epoch    3/  10] [Batch   32/ 125] Loss:  8.36e-01 Nucleotide-Loss:  7.53e-01 Edge-Loss:  8.32e-02\n",
      "[Epoch    3/  10] [Batch   33/ 125] Loss:  8.35e-01 Nucleotide-Loss:  7.52e-01 Edge-Loss:  8.31e-02\n",
      "[Epoch    3/  10] [Batch   34/ 125] Loss:  8.34e-01 Nucleotide-Loss:  7.51e-01 Edge-Loss:  8.28e-02\n",
      "[Epoch    3/  10] [Batch   35/ 125] Loss:  8.35e-01 Nucleotide-Loss:  7.51e-01 Edge-Loss:  8.42e-02\n",
      "[Epoch    3/  10] [Batch   36/ 125] Loss:  8.36e-01 Nucleotide-Loss:  7.52e-01 Edge-Loss:  8.42e-02\n",
      "[Epoch    3/  10] [Batch   37/ 125] Loss:  8.33e-01 Nucleotide-Loss:  7.50e-01 Edge-Loss:  8.27e-02\n",
      "[Epoch    3/  10] [Batch   38/ 125] Loss:  8.36e-01 Nucleotide-Loss:  7.52e-01 Edge-Loss:  8.41e-02\n",
      "[Epoch    3/  10] [Batch   39/ 125] Loss:  8.34e-01 Nucleotide-Loss:  7.51e-01 Edge-Loss:  8.26e-02\n",
      "[Epoch    3/  10] [Batch   40/ 125] Loss:  8.33e-01 Nucleotide-Loss:  7.50e-01 Edge-Loss:  8.31e-02\n",
      "[Epoch    3/  10] [Batch   41/ 125] Loss:  8.36e-01 Nucleotide-Loss:  7.51e-01 Edge-Loss:  8.49e-02\n",
      "[Epoch    3/  10] [Batch   42/ 125] Loss:  8.35e-01 Nucleotide-Loss:  7.51e-01 Edge-Loss:  8.34e-02\n",
      "[Epoch    3/  10] [Batch   43/ 125] Loss:  8.35e-01 Nucleotide-Loss:  7.50e-01 Edge-Loss:  8.50e-02\n",
      "[Epoch    3/  10] [Batch   44/ 125] Loss:  8.32e-01 Nucleotide-Loss:  7.51e-01 Edge-Loss:  8.15e-02\n",
      "[Epoch    3/  10] [Batch   45/ 125] Loss:  8.34e-01 Nucleotide-Loss:  7.51e-01 Edge-Loss:  8.30e-02\n",
      "[Epoch    3/  10] [Batch   46/ 125] Loss:  8.35e-01 Nucleotide-Loss:  7.51e-01 Edge-Loss:  8.41e-02\n",
      "[Epoch    3/  10] [Batch   47/ 125] Loss:  8.32e-01 Nucleotide-Loss:  7.50e-01 Edge-Loss:  8.23e-02\n",
      "[Epoch    3/  10] [Batch   48/ 125] Loss:  8.35e-01 Nucleotide-Loss:  7.52e-01 Edge-Loss:  8.33e-02\n",
      "[Epoch    3/  10] [Batch   49/ 125] Loss:  8.35e-01 Nucleotide-Loss:  7.53e-01 Edge-Loss:  8.29e-02\n",
      "[Epoch    3/  10] [Batch   50/ 125] Loss:  8.34e-01 Nucleotide-Loss:  7.51e-01 Edge-Loss:  8.28e-02\n",
      "[Epoch    3/  10] [Batch   51/ 125] Loss:  8.35e-01 Nucleotide-Loss:  7.52e-01 Edge-Loss:  8.27e-02\n",
      "[Epoch    3/  10] [Batch   52/ 125] Loss:  8.34e-01 Nucleotide-Loss:  7.51e-01 Edge-Loss:  8.29e-02\n",
      "[Epoch    3/  10] [Batch   53/ 125] Loss:  8.35e-01 Nucleotide-Loss:  7.52e-01 Edge-Loss:  8.31e-02\n",
      "[Epoch    3/  10] [Batch   54/ 125] Loss:  8.34e-01 Nucleotide-Loss:  7.50e-01 Edge-Loss:  8.32e-02\n",
      "[Epoch    3/  10] [Batch   55/ 125] Loss:  8.33e-01 Nucleotide-Loss:  7.50e-01 Edge-Loss:  8.34e-02\n",
      "[Epoch    3/  10] [Batch   56/ 125] Loss:  8.34e-01 Nucleotide-Loss:  7.50e-01 Edge-Loss:  8.40e-02\n",
      "[Epoch    3/  10] [Batch   57/ 125] Loss:  8.37e-01 Nucleotide-Loss:  7.52e-01 Edge-Loss:  8.55e-02\n",
      "[Epoch    3/  10] [Batch   58/ 125] Loss:  8.34e-01 Nucleotide-Loss:  7.51e-01 Edge-Loss:  8.33e-02\n",
      "[Epoch    3/  10] [Batch   59/ 125] Loss:  8.37e-01 Nucleotide-Loss:  7.52e-01 Edge-Loss:  8.47e-02\n",
      "[Epoch    3/  10] [Batch   60/ 125] Loss:  8.34e-01 Nucleotide-Loss:  7.50e-01 Edge-Loss:  8.37e-02\n",
      "[Epoch    3/  10] [Batch   61/ 125] Loss:  8.34e-01 Nucleotide-Loss:  7.51e-01 Edge-Loss:  8.28e-02\n",
      "[Epoch    3/  10] [Batch   62/ 125] Loss:  8.34e-01 Nucleotide-Loss:  7.51e-01 Edge-Loss:  8.31e-02\n",
      "[Epoch    3/  10] [Batch   63/ 125] Loss:  8.35e-01 Nucleotide-Loss:  7.52e-01 Edge-Loss:  8.32e-02\n",
      "[Epoch    3/  10] [Batch   64/ 125] Loss:  8.33e-01 Nucleotide-Loss:  7.50e-01 Edge-Loss:  8.28e-02\n",
      "[Epoch    3/  10] [Batch   65/ 125] Loss:  8.33e-01 Nucleotide-Loss:  7.50e-01 Edge-Loss:  8.32e-02\n",
      "[Epoch    3/  10] [Batch   66/ 125] Loss:  8.34e-01 Nucleotide-Loss:  7.53e-01 Edge-Loss:  8.12e-02\n",
      "[Epoch    3/  10] [Batch   67/ 125] Loss:  8.34e-01 Nucleotide-Loss:  7.51e-01 Edge-Loss:  8.33e-02\n",
      "[Epoch    3/  10] [Batch   68/ 125] Loss:  8.34e-01 Nucleotide-Loss:  7.50e-01 Edge-Loss:  8.37e-02\n",
      "[Epoch    3/  10] [Batch   69/ 125] Loss:  8.35e-01 Nucleotide-Loss:  7.50e-01 Edge-Loss:  8.46e-02\n",
      "[Epoch    3/  10] [Batch   70/ 125] Loss:  8.35e-01 Nucleotide-Loss:  7.52e-01 Edge-Loss:  8.35e-02\n",
      "[Epoch    3/  10] [Batch   71/ 125] Loss:  8.36e-01 Nucleotide-Loss:  7.53e-01 Edge-Loss:  8.30e-02\n",
      "[Epoch    3/  10] [Batch   72/ 125] Loss:  8.34e-01 Nucleotide-Loss:  7.51e-01 Edge-Loss:  8.33e-02\n",
      "[Epoch    3/  10] [Batch   73/ 125] Loss:  8.35e-01 Nucleotide-Loss:  7.50e-01 Edge-Loss:  8.50e-02\n",
      "[Epoch    3/  10] [Batch   74/ 125] Loss:  8.35e-01 Nucleotide-Loss:  7.51e-01 Edge-Loss:  8.48e-02\n",
      "[Epoch    3/  10] [Batch   75/ 125] Loss:  8.32e-01 Nucleotide-Loss:  7.51e-01 Edge-Loss:  8.12e-02\n",
      "[Epoch    3/  10] [Batch   76/ 125] Loss:  8.32e-01 Nucleotide-Loss:  7.50e-01 Edge-Loss:  8.12e-02\n"
     ]
    },
    {
     "ename": "KeyboardInterrupt",
     "evalue": "",
     "output_type": "error",
     "traceback": [
      "\u001b[0;31m---------------------------------------------------------------------------\u001b[0m",
      "\u001b[0;31mKeyboardInterrupt\u001b[0m                         Traceback (most recent call last)",
      "Cell \u001b[0;32mIn[20], line 12\u001b[0m\n\u001b[1;32m      9\u001b[0m kl_loss \u001b[38;5;241m=\u001b[39m torch\u001b[38;5;241m.\u001b[39mnn\u001b[38;5;241m.\u001b[39mKLDivLoss(reduction\u001b[38;5;241m=\u001b[39m\u001b[38;5;124m'\u001b[39m\u001b[38;5;124mbatchmean\u001b[39m\u001b[38;5;124m'\u001b[39m)\n\u001b[1;32m     11\u001b[0m \u001b[38;5;28;01mfor\u001b[39;00m epoch \u001b[38;5;129;01min\u001b[39;00m \u001b[38;5;28mrange\u001b[39m(n_epochs):\n\u001b[0;32m---> 12\u001b[0m     \u001b[38;5;28;01mfor\u001b[39;00m idx, batch \u001b[38;5;129;01min\u001b[39;00m \u001b[38;5;28menumerate\u001b[39m(train_loader):\n\u001b[1;32m     14\u001b[0m         true_x \u001b[38;5;241m=\u001b[39m torch\u001b[38;5;241m.\u001b[39mclone(batch\u001b[38;5;241m.\u001b[39mx)\n\u001b[1;32m     15\u001b[0m         true_edges \u001b[38;5;241m=\u001b[39m torch\u001b[38;5;241m.\u001b[39mclone(batch\u001b[38;5;241m.\u001b[39medge_weight)\n",
      "File \u001b[0;32m~/miniconda3/envs/RFAM/lib/python3.10/site-packages/torch/utils/data/dataloader.py:681\u001b[0m, in \u001b[0;36m_BaseDataLoaderIter.__next__\u001b[0;34m(self)\u001b[0m\n\u001b[1;32m    678\u001b[0m \u001b[38;5;28;01mif\u001b[39;00m \u001b[38;5;28mself\u001b[39m\u001b[38;5;241m.\u001b[39m_sampler_iter \u001b[38;5;129;01mis\u001b[39;00m \u001b[38;5;28;01mNone\u001b[39;00m:\n\u001b[1;32m    679\u001b[0m     \u001b[38;5;66;03m# TODO(https://github.com/pytorch/pytorch/issues/76750)\u001b[39;00m\n\u001b[1;32m    680\u001b[0m     \u001b[38;5;28mself\u001b[39m\u001b[38;5;241m.\u001b[39m_reset()  \u001b[38;5;66;03m# type: ignore[call-arg]\u001b[39;00m\n\u001b[0;32m--> 681\u001b[0m data \u001b[38;5;241m=\u001b[39m \u001b[38;5;28;43mself\u001b[39;49m\u001b[38;5;241;43m.\u001b[39;49m\u001b[43m_next_data\u001b[49m\u001b[43m(\u001b[49m\u001b[43m)\u001b[49m\n\u001b[1;32m    682\u001b[0m \u001b[38;5;28mself\u001b[39m\u001b[38;5;241m.\u001b[39m_num_yielded \u001b[38;5;241m+\u001b[39m\u001b[38;5;241m=\u001b[39m \u001b[38;5;241m1\u001b[39m\n\u001b[1;32m    683\u001b[0m \u001b[38;5;28;01mif\u001b[39;00m \u001b[38;5;28mself\u001b[39m\u001b[38;5;241m.\u001b[39m_dataset_kind \u001b[38;5;241m==\u001b[39m _DatasetKind\u001b[38;5;241m.\u001b[39mIterable \u001b[38;5;129;01mand\u001b[39;00m \\\n\u001b[1;32m    684\u001b[0m         \u001b[38;5;28mself\u001b[39m\u001b[38;5;241m.\u001b[39m_IterableDataset_len_called \u001b[38;5;129;01mis\u001b[39;00m \u001b[38;5;129;01mnot\u001b[39;00m \u001b[38;5;28;01mNone\u001b[39;00m \u001b[38;5;129;01mand\u001b[39;00m \\\n\u001b[1;32m    685\u001b[0m         \u001b[38;5;28mself\u001b[39m\u001b[38;5;241m.\u001b[39m_num_yielded \u001b[38;5;241m>\u001b[39m \u001b[38;5;28mself\u001b[39m\u001b[38;5;241m.\u001b[39m_IterableDataset_len_called:\n",
      "File \u001b[0;32m~/miniconda3/envs/RFAM/lib/python3.10/site-packages/torch/utils/data/dataloader.py:721\u001b[0m, in \u001b[0;36m_SingleProcessDataLoaderIter._next_data\u001b[0;34m(self)\u001b[0m\n\u001b[1;32m    719\u001b[0m \u001b[38;5;28;01mdef\u001b[39;00m \u001b[38;5;21m_next_data\u001b[39m(\u001b[38;5;28mself\u001b[39m):\n\u001b[1;32m    720\u001b[0m     index \u001b[38;5;241m=\u001b[39m \u001b[38;5;28mself\u001b[39m\u001b[38;5;241m.\u001b[39m_next_index()  \u001b[38;5;66;03m# may raise StopIteration\u001b[39;00m\n\u001b[0;32m--> 721\u001b[0m     data \u001b[38;5;241m=\u001b[39m \u001b[38;5;28;43mself\u001b[39;49m\u001b[38;5;241;43m.\u001b[39;49m\u001b[43m_dataset_fetcher\u001b[49m\u001b[38;5;241;43m.\u001b[39;49m\u001b[43mfetch\u001b[49m\u001b[43m(\u001b[49m\u001b[43mindex\u001b[49m\u001b[43m)\u001b[49m  \u001b[38;5;66;03m# may raise StopIteration\u001b[39;00m\n\u001b[1;32m    722\u001b[0m     \u001b[38;5;28;01mif\u001b[39;00m \u001b[38;5;28mself\u001b[39m\u001b[38;5;241m.\u001b[39m_pin_memory:\n\u001b[1;32m    723\u001b[0m         data \u001b[38;5;241m=\u001b[39m _utils\u001b[38;5;241m.\u001b[39mpin_memory\u001b[38;5;241m.\u001b[39mpin_memory(data, \u001b[38;5;28mself\u001b[39m\u001b[38;5;241m.\u001b[39m_pin_memory_device)\n",
      "File \u001b[0;32m~/miniconda3/envs/RFAM/lib/python3.10/site-packages/torch/utils/data/_utils/fetch.py:49\u001b[0m, in \u001b[0;36m_MapDatasetFetcher.fetch\u001b[0;34m(self, possibly_batched_index)\u001b[0m\n\u001b[1;32m     47\u001b[0m \u001b[38;5;28;01mdef\u001b[39;00m \u001b[38;5;21mfetch\u001b[39m(\u001b[38;5;28mself\u001b[39m, possibly_batched_index):\n\u001b[1;32m     48\u001b[0m     \u001b[38;5;28;01mif\u001b[39;00m \u001b[38;5;28mself\u001b[39m\u001b[38;5;241m.\u001b[39mauto_collation:\n\u001b[0;32m---> 49\u001b[0m         data \u001b[38;5;241m=\u001b[39m [\u001b[38;5;28mself\u001b[39m\u001b[38;5;241m.\u001b[39mdataset[idx] \u001b[38;5;28;01mfor\u001b[39;00m idx \u001b[38;5;129;01min\u001b[39;00m possibly_batched_index]\n\u001b[1;32m     50\u001b[0m     \u001b[38;5;28;01melse\u001b[39;00m:\n\u001b[1;32m     51\u001b[0m         data \u001b[38;5;241m=\u001b[39m \u001b[38;5;28mself\u001b[39m\u001b[38;5;241m.\u001b[39mdataset[possibly_batched_index]\n",
      "File \u001b[0;32m~/miniconda3/envs/RFAM/lib/python3.10/site-packages/torch/utils/data/_utils/fetch.py:49\u001b[0m, in \u001b[0;36m<listcomp>\u001b[0;34m(.0)\u001b[0m\n\u001b[1;32m     47\u001b[0m \u001b[38;5;28;01mdef\u001b[39;00m \u001b[38;5;21mfetch\u001b[39m(\u001b[38;5;28mself\u001b[39m, possibly_batched_index):\n\u001b[1;32m     48\u001b[0m     \u001b[38;5;28;01mif\u001b[39;00m \u001b[38;5;28mself\u001b[39m\u001b[38;5;241m.\u001b[39mauto_collation:\n\u001b[0;32m---> 49\u001b[0m         data \u001b[38;5;241m=\u001b[39m [\u001b[38;5;28;43mself\u001b[39;49m\u001b[38;5;241;43m.\u001b[39;49m\u001b[43mdataset\u001b[49m\u001b[43m[\u001b[49m\u001b[43midx\u001b[49m\u001b[43m]\u001b[49m \u001b[38;5;28;01mfor\u001b[39;00m idx \u001b[38;5;129;01min\u001b[39;00m possibly_batched_index]\n\u001b[1;32m     50\u001b[0m     \u001b[38;5;28;01melse\u001b[39;00m:\n\u001b[1;32m     51\u001b[0m         data \u001b[38;5;241m=\u001b[39m \u001b[38;5;28mself\u001b[39m\u001b[38;5;241m.\u001b[39mdataset[possibly_batched_index]\n",
      "File \u001b[0;32m~/miniconda3/envs/RFAM/lib/python3.10/site-packages/torch/utils/data/dataset.py:290\u001b[0m, in \u001b[0;36mSubset.__getitem__\u001b[0;34m(self, idx)\u001b[0m\n\u001b[1;32m    288\u001b[0m \u001b[38;5;28;01mif\u001b[39;00m \u001b[38;5;28misinstance\u001b[39m(idx, \u001b[38;5;28mlist\u001b[39m):\n\u001b[1;32m    289\u001b[0m     \u001b[38;5;28;01mreturn\u001b[39;00m \u001b[38;5;28mself\u001b[39m\u001b[38;5;241m.\u001b[39mdataset[[\u001b[38;5;28mself\u001b[39m\u001b[38;5;241m.\u001b[39mindices[i] \u001b[38;5;28;01mfor\u001b[39;00m i \u001b[38;5;129;01min\u001b[39;00m idx]]\n\u001b[0;32m--> 290\u001b[0m \u001b[38;5;28;01mreturn\u001b[39;00m \u001b[38;5;28;43mself\u001b[39;49m\u001b[38;5;241;43m.\u001b[39;49m\u001b[43mdataset\u001b[49m\u001b[43m[\u001b[49m\u001b[38;5;28;43mself\u001b[39;49m\u001b[38;5;241;43m.\u001b[39;49m\u001b[43mindices\u001b[49m\u001b[43m[\u001b[49m\u001b[43midx\u001b[49m\u001b[43m]\u001b[49m\u001b[43m]\u001b[49m\n",
      "File \u001b[0;32m/lustre/groups/crna01/workspace/nicolas_msc/RNARepLearn/RNARepLearn/datasets.py:93\u001b[0m, in \u001b[0;36mSingleRfamDataset.__getitem__\u001b[0;34m(self, index)\u001b[0m\n\u001b[1;32m     91\u001b[0m \u001b[38;5;28;01mdef\u001b[39;00m \u001b[38;5;21m__getitem__\u001b[39m(\u001b[38;5;28mself\u001b[39m, index):\n\u001b[1;32m     92\u001b[0m     \u001b[38;5;28mself\u001b[39m\u001b[38;5;241m.\u001b[39mprocessed_file_names[index]\n\u001b[0;32m---> 93\u001b[0m     data \u001b[38;5;241m=\u001b[39m torch\u001b[38;5;241m.\u001b[39mload(os\u001b[38;5;241m.\u001b[39mpath\u001b[38;5;241m.\u001b[39mjoin(\u001b[38;5;28mself\u001b[39m\u001b[38;5;241m.\u001b[39mdir,\u001b[38;5;28mself\u001b[39m\u001b[38;5;241m.\u001b[39mid,\u001b[38;5;124m\"\u001b[39m\u001b[38;5;124mpt\u001b[39m\u001b[38;5;124m\"\u001b[39m,\u001b[38;5;28;43mself\u001b[39;49m\u001b[38;5;241;43m.\u001b[39;49m\u001b[43mprocessed_file_names\u001b[49m[index]))\n\u001b[1;32m     94\u001b[0m     \u001b[38;5;28;01mreturn\u001b[39;00m torch_geometric\u001b[38;5;241m.\u001b[39mdata\u001b[38;5;241m.\u001b[39mData(x\u001b[38;5;241m=\u001b[39mdata[\u001b[38;5;124m\"\u001b[39m\u001b[38;5;124mseq\u001b[39m\u001b[38;5;124m\"\u001b[39m],edge_index\u001b[38;5;241m=\u001b[39mdata[\u001b[38;5;124m\"\u001b[39m\u001b[38;5;124medges\u001b[39m\u001b[38;5;124m\"\u001b[39m]\u001b[38;5;241m.\u001b[39mt()\u001b[38;5;241m.\u001b[39mcontiguous(),edge_weight\u001b[38;5;241m=\u001b[39mdata[\u001b[38;5;124m\"\u001b[39m\u001b[38;5;124megde_weights\u001b[39m\u001b[38;5;124m\"\u001b[39m],rfam\u001b[38;5;241m=\u001b[39mdata[\u001b[38;5;124m\"\u001b[39m\u001b[38;5;124mrfam\u001b[39m\u001b[38;5;124m\"\u001b[39m],ID\u001b[38;5;241m=\u001b[39mdata[\u001b[38;5;124m\"\u001b[39m\u001b[38;5;124mid\u001b[39m\u001b[38;5;124m\"\u001b[39m])\n",
      "File \u001b[0;32m/lustre/groups/crna01/workspace/nicolas_msc/RNARepLearn/RNARepLearn/datasets.py:26\u001b[0m, in \u001b[0;36mSingleRfamDataset.processed_file_names\u001b[0;34m(self)\u001b[0m\n\u001b[1;32m     23\u001b[0m \u001b[38;5;129m@property\u001b[39m\n\u001b[1;32m     24\u001b[0m \u001b[38;5;28;01mdef\u001b[39;00m \u001b[38;5;21mprocessed_file_names\u001b[39m(\u001b[38;5;28mself\u001b[39m):\n\u001b[1;32m     25\u001b[0m     \u001b[38;5;28;01mif\u001b[39;00m (os\u001b[38;5;241m.\u001b[39mpath\u001b[38;5;241m.\u001b[39mexists(os\u001b[38;5;241m.\u001b[39mpath\u001b[38;5;241m.\u001b[39mjoin(\u001b[38;5;28mself\u001b[39m\u001b[38;5;241m.\u001b[39mdir,\u001b[38;5;28mself\u001b[39m\u001b[38;5;241m.\u001b[39mid,\u001b[38;5;124m\"\u001b[39m\u001b[38;5;124mpt\u001b[39m\u001b[38;5;124m\"\u001b[39m))): \n\u001b[0;32m---> 26\u001b[0m         \u001b[38;5;28;01mreturn\u001b[39;00m \u001b[43mos\u001b[49m\u001b[38;5;241;43m.\u001b[39;49m\u001b[43mlistdir\u001b[49m\u001b[43m(\u001b[49m\u001b[43mos\u001b[49m\u001b[38;5;241;43m.\u001b[39;49m\u001b[43mpath\u001b[49m\u001b[38;5;241;43m.\u001b[39;49m\u001b[43mjoin\u001b[49m\u001b[43m(\u001b[49m\u001b[38;5;28;43mself\u001b[39;49m\u001b[38;5;241;43m.\u001b[39;49m\u001b[43mdir\u001b[49m\u001b[43m,\u001b[49m\u001b[38;5;28;43mself\u001b[39;49m\u001b[38;5;241;43m.\u001b[39;49m\u001b[43mid\u001b[49m\u001b[43m,\u001b[49m\u001b[38;5;124;43m\"\u001b[39;49m\u001b[38;5;124;43mpt\u001b[39;49m\u001b[38;5;124;43m\"\u001b[39;49m\u001b[43m)\u001b[49m\u001b[43m)\u001b[49m\n\u001b[1;32m     27\u001b[0m     \u001b[38;5;28;01melse\u001b[39;00m:\n\u001b[1;32m     28\u001b[0m         \u001b[38;5;28;01mreturn\u001b[39;00m []\n",
      "\u001b[0;31mKeyboardInterrupt\u001b[0m: "
     ]
    }
   ],
   "source": [
    "from RNARepLearn.utils import mask_batch\n",
    "##Training\n",
    "train_hist = {}\n",
    "train_hist[\"loss\"]=[]\n",
    "train_hist[\"nucleotide_loss\"]=[]\n",
    "train_hist[\"edge_loss\"]=[]\n",
    "model.train()\n",
    "cel_loss = torch.nn.CrossEntropyLoss()\n",
    "kl_loss = torch.nn.KLDivLoss(reduction='batchmean')\n",
    "\n",
    "for epoch in range(n_epochs):\n",
    "    for idx, batch in enumerate(train_loader):\n",
    "        \n",
    "        true_x = torch.clone(batch.x)\n",
    "        true_edges = torch.clone(batch.edge_weight)\n",
    "\n",
    "        nuc_mask, edge_mask = mask_batch(batch,15)\n",
    "        batch.to(device)\n",
    "        optimizer.zero_grad()\n",
    "        \n",
    "        nucs, bpp = model(batch)\n",
    "\n",
    "        node_loss = cel_loss(nucs.cpu()[nuc_mask],true_x[nuc_mask])\n",
    "        edge_loss = kl_loss(bpp.cpu()[batch.edge_index[0][edge_mask],batch.edge_index[1][edge_mask]].log() , true_edges[edge_mask])\n",
    "        \n",
    "        loss = node_loss + edge_loss\n",
    "\n",
    "        loss.backward()\n",
    "        optimizer.step()\n",
    "        train_hist[\"loss\"].append(loss.item())\n",
    "        train_hist[\"nucleotide_loss\"].append(node_loss.item())\n",
    "        train_hist[\"edge_loss\"].append(edge_loss.item())\n",
    "        \n",
    "        \n",
    "        \n",
    "        \n",
    "        print('\\r[Epoch %4d/%4d] [Batch %4d/%4d] Loss: % 2.2e Nucleotide-Loss: % 2.2e Edge-Loss: % 2.2e' % (epoch + 1, n_epochs, \n",
    "                                                                idx + 1, len(train_loader), \n",
    "                                                                loss.item(),node_loss.item(),edge_loss.item()))\n",
    "    "
   ]
  },
  {
   "cell_type": "code",
   "execution_count": 17,
   "id": "f47d469e-409c-4503-8a97-3a24342dadfb",
   "metadata": {},
   "outputs": [
    {
     "data": {
      "text/plain": [
       "142215"
      ]
     },
     "execution_count": 17,
     "metadata": {},
     "output_type": "execute_result"
    }
   ],
   "source": [
    "len(bpp.cpu()[batch.edge_index[0][edge_mask],batch.edge_index[1][edge_mask]])"
   ]
  },
  {
   "cell_type": "code",
   "execution_count": 15,
   "id": "9c6bf4ea-68cf-4bbd-adf8-14d24c02e2d7",
   "metadata": {},
   "outputs": [
    {
     "data": {
      "text/plain": [
       "tensor([4.5824e-01, 1.0181e-10, 1.3622e-16,  ..., 2.4203e-20, 2.9680e-22,\n",
       "        1.5857e-19], dtype=torch.float64)"
      ]
     },
     "execution_count": 15,
     "metadata": {},
     "output_type": "execute_result"
    }
   ],
   "source": [
    "true_edges[edge_mask]"
   ]
  },
  {
   "cell_type": "code",
   "execution_count": 11,
   "id": "cb3e4fc4-7a85-4234-9489-c7a732934234",
   "metadata": {},
   "outputs": [
    {
     "data": {
      "text/plain": [
       "<AxesSubplot: >"
      ]
     },
     "execution_count": 11,
     "metadata": {},
     "output_type": "execute_result"
    },
    {
     "data": {
      "image/png": "[encoded data removed]",
      "text/plain": [
       "<Figure size 640x480 with 1 Axes>"
      ]
     },
     "metadata": {},
     "output_type": "display_data"
    }
   ],
   "source": [
    "import pandas as pd\n",
    "p_df = pd.DataFrame({\"loss\":train_hist['loss']})\n",
    "p_df.plot(alpha=0.5)"
   ]
  },
  {
   "cell_type": "code",
   "execution_count": null,
   "id": "56b20b48-d840-4f1a-998e-0483b88dd40f",
   "metadata": {},
   "outputs": [],
   "source": []
  },
  {
   "cell_type": "code",
   "execution_count": 12,
   "id": "c4f12a71-6aab-4946-be8b-0e644ea9df28",
   "metadata": {},
   "outputs": [
    {
     "data": {
      "text/plain": [
       "<AxesSubplot: >"
      ]
     },
     "execution_count": 12,
     "metadata": {},
     "output_type": "execute_result"
    },
    {
     "data": {
      "image/png": "[encoded data removed]",
      "text/plain": [
       "<Figure size 640x480 with 1 Axes>"
      ]
     },
     "metadata": {},
     "output_type": "display_data"
    }
   ],
   "source": [
    "p_df = pd.DataFrame({\"nucleotide_loss\":train_hist['nucleotide_loss']})\n",
    "p_df.plot(alpha=0.5)"
   ]
  },
  {
   "cell_type": "code",
   "execution_count": 13,
   "id": "05b99da8-0e47-4a94-a927-a4ef807a5eb1",
   "metadata": {},
   "outputs": [
    {
     "data": {
      "text/plain": [
       "<AxesSubplot: >"
      ]
     },
     "execution_count": 13,
     "metadata": {},
     "output_type": "execute_result"
    },
    {
     "data": {
      "image/png": "[encoded data removed]",
      "text/plain": [
       "<Figure size 640x480 with 1 Axes>"
      ]
     },
     "metadata": {},
     "output_type": "display_data"
    }
   ],
   "source": [
    "p_df = pd.DataFrame({\"edge_loss\":train_hist['edge_loss']})\n",
    "p_df.plot(alpha=0.5)"
   ]
  },
  {
   "cell_type": "code",
   "execution_count": null,
   "id": "46655900-cf23-4548-a8ac-333fda54426f",
   "metadata": {},
   "outputs": [],
   "source": [
    "test_loader = DataLoader(test_dataset, batch_size=32, shuffle=True)"
   ]
  },
  {
   "cell_type": "code",
   "execution_count": null,
   "id": "1ce63349-7d0e-49d2-8be5-ce456296f139",
   "metadata": {},
   "outputs": [],
   "source": []
  }
 ],
 "metadata": {
  "kernelspec": {
   "display_name": "RFAM",
   "language": "python",
   "name": "rfam"
  },
  "language_info": {
   "codemirror_mode": {
    "name": "ipython",
    "version": 3
   },
   "file_extension": ".py",
   "mimetype": "text/x-python",
   "name": "python",
   "nbconvert_exporter": "python",
   "pygments_lexer": "ipython3",
   "version": "3.10.8"
  }
 },
 "nbformat": 4,
 "nbformat_minor": 5
}
